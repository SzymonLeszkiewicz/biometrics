{
 "cells": [
  {
   "cell_type": "code",
   "id": "initial_id",
   "metadata": {
    "collapsed": true,
    "ExecuteTime": {
     "end_time": "2024-04-08T06:33:29.457682Z",
     "start_time": "2024-04-08T06:33:22.294669Z"
    }
   },
   "source": [
    "import os\n",
    "import pandas as pd\n",
    "from sklearn.preprocessing import MinMaxScaler\n",
    "\n",
    "from verification_system import VerificationSystem\n",
    "from sklearn.metrics import confusion_matrix, ConfusionMatrixDisplay, roc_curve\n",
    "import matplotlib.pyplot as plt"
   ],
   "outputs": [
    {
     "name": "stdout",
     "output_type": "stream",
     "text": [
      "WARNING:tensorflow:From C:\\Users\\Kacper Kozaczko\\Desktop\\Stuff\\PWr\\III_semestr\\Biometria\\project_1\\biometrics\\venv\\Lib\\site-packages\\tf_keras\\src\\losses.py:2976: The name tf.losses.sparse_softmax_cross_entropy is deprecated. Please use tf.compat.v1.losses.sparse_softmax_cross_entropy instead.\n",
      "\n"
     ]
    }
   ],
   "execution_count": 1
  },
  {
   "metadata": {
    "ExecuteTime": {
     "end_time": "2024-04-08T06:33:29.463576Z",
     "start_time": "2024-04-08T06:33:29.458688Z"
    }
   },
   "cell_type": "code",
   "source": [
    "df_authorized = pd.DataFrame(\n",
    "    {\n",
    "        \"image_path\": [\n",
    "            \"data\\database\\incoming_users\",\n",
    "            \"data\\database\\incoming_users\",\n",
    "            \"data\\database\\incoming_users\",\n",
    "            \"data\\database\\incoming_users\",\n",
    "            \"data\\database\\incoming_users\",\n",
    "        ],\n",
    "        \"is_access_granted\": [True, True, True, True, False],\n",
    "        \"distance\": [0.2, 0.3, 0.2, 0.4, 0.5],\n",
    "    }\n",
    ")"
   ],
   "id": "98583a482651440c",
   "outputs": [],
   "execution_count": 2
  },
  {
   "metadata": {
    "ExecuteTime": {
     "end_time": "2024-04-08T06:33:29.472191Z",
     "start_time": "2024-04-08T06:33:29.464590Z"
    }
   },
   "cell_type": "code",
   "source": [
    "df_unauthorized = pd.DataFrame(\n",
    "    {\n",
    "        \"image_path\": [\n",
    "            \"data\\database\\incoming_users\",\n",
    "            \"data\\database\\incoming_users\",\n",
    "            \"data\\database\\incoming_users\",\n",
    "            \"data\\database\\incoming_users\",\n",
    "            \"data\\database\\incoming_users\",\n",
    "        ],\n",
    "        \"is_access_granted\": [False, False, False, True, False],\n",
    "        \"distance\": [0.65, 0.45, 0.6, 0.3, 0.6],\n",
    "    }\n",
    ")"
   ],
   "id": "f611f25d3fab17bd",
   "outputs": [],
   "execution_count": 3
  },
  {
   "metadata": {
    "ExecuteTime": {
     "end_time": "2024-04-07T19:28:31.126727Z",
     "start_time": "2024-04-07T19:15:45.828535Z"
    }
   },
   "cell_type": "code",
   "source": "vs = VerificationSystem(\"data/database\")",
   "id": "a41162dd1af96450",
   "outputs": [
    {
     "name": "stdout",
     "output_type": "stream",
     "text": [
      "authorized_users\n",
      "24-04-07 21:15:45 - Found 1819 newly added image(s), 0 removed image(s), 0 replaced image(s).\n"
     ]
    },
    {
     "name": "stderr",
     "output_type": "stream",
     "text": [
      "Finding representations: 100%|██████████| 1819/1819 [12:44<00:00,  2.38it/s]\n"
     ]
    },
    {
     "name": "stdout",
     "output_type": "stream",
     "text": [
      "24-04-07 21:28:30 - There are now 1826 representations in ds_facenet_opencv_v2.pkl\n",
      "24-04-07 21:28:30 - Searching data/database\\incoming_users\\authorized_users\\25\\010802.jpg in 1826 length datastore\n",
      "24-04-07 21:28:31 - find function duration 765.2876949310303 seconds\n"
     ]
    }
   ],
   "execution_count": 53
  },
  {
   "metadata": {},
   "cell_type": "code",
   "outputs": [],
   "execution_count": null,
   "source": "",
   "id": "d86f2e1f292d64a"
  }
 ],
 "metadata": {
  "kernelspec": {
   "display_name": "Python 3",
   "language": "python",
   "name": "python3"
  },
  "language_info": {
   "codemirror_mode": {
    "name": "ipython",
    "version": 2
   },
   "file_extension": ".py",
   "mimetype": "text/x-python",
   "name": "python",
   "nbconvert_exporter": "python",
   "pygments_lexer": "ipython2",
   "version": "2.7.6"
  }
 },
 "nbformat": 4,
 "nbformat_minor": 5
}
