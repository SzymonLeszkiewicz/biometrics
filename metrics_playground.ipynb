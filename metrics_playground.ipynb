{
 "cells": [
  {
   "cell_type": "code",
   "id": "initial_id",
   "metadata": {
    "collapsed": true,
    "ExecuteTime": {
     "end_time": "2024-04-07T20:04:11.139184Z",
     "start_time": "2024-04-07T20:04:11.114202Z"
    }
   },
   "source": [
    "import os\n",
    "import pandas as pd\n",
    "from sklearn.preprocessing import MinMaxScaler\n",
    "\n",
    "from verification_system import VerificationSystem\n",
    "from sklearn.metrics import confusion_matrix, ConfusionMatrixDisplay, roc_curve\n",
    "import matplotlib.pyplot as plt"
   ],
   "outputs": [],
   "execution_count": 60
  },
  {
   "metadata": {
    "ExecuteTime": {
     "end_time": "2024-04-07T20:01:29.794005Z",
     "start_time": "2024-04-07T20:01:29.765970Z"
    }
   },
   "cell_type": "code",
   "source": [
    "df_authorized = pd.DataFrame(\n",
    "    {\n",
    "        \"image_path\": [\n",
    "            \"data\\database\\incoming_users\",\n",
    "            \"data\\database\\incoming_users\",\n",
    "            \"data\\database\\incoming_users\",\n",
    "            \"data\\database\\incoming_users\",\n",
    "            \"data\\database\\incoming_users\",\n",
    "        ],\n",
    "        \"is_access_granted\": [True, True, True, True, False],\n",
    "        \"distance\": [0.2, 0.3, 0.2, 0.4, 0.5],\n",
    "    }\n",
    ")"
   ],
   "id": "98583a482651440c",
   "outputs": [],
   "execution_count": 55
  },
  {
   "metadata": {
    "ExecuteTime": {
     "end_time": "2024-04-07T20:01:30.389455Z",
     "start_time": "2024-04-07T20:01:30.378486Z"
    }
   },
   "cell_type": "code",
   "source": [
    "df_unauthorized = pd.DataFrame(\n",
    "    {\n",
    "        \"image_path\": [\n",
    "            \"data\\database\\incoming_users\",\n",
    "            \"data\\database\\incoming_users\",\n",
    "            \"data\\database\\incoming_users\",\n",
    "            \"data\\database\\incoming_users\",\n",
    "            \"data\\database\\incoming_users\",\n",
    "        ],\n",
    "        \"is_access_granted\": [False, False, False, True, False],\n",
    "        \"distance\": [0.65, 0.45, 0.6, 0.3, 0.6],\n",
    "    }\n",
    ")"
   ],
   "id": "f611f25d3fab17bd",
   "outputs": [],
   "execution_count": 56
  },
  {
   "metadata": {
    "ExecuteTime": {
     "end_time": "2024-04-07T19:28:31.126727Z",
     "start_time": "2024-04-07T19:15:45.828535Z"
    }
   },
   "cell_type": "code",
   "source": "vs = VerificationSystem(\"data/database\")",
   "id": "a41162dd1af96450",
   "outputs": [
    {
     "name": "stdout",
     "output_type": "stream",
     "text": [
      "authorized_users\n",
      "24-04-07 21:15:45 - Found 1819 newly added image(s), 0 removed image(s), 0 replaced image(s).\n"
     ]
    },
    {
     "name": "stderr",
     "output_type": "stream",
     "text": [
      "Finding representations: 100%|██████████| 1819/1819 [12:44<00:00,  2.38it/s]\n"
     ]
    },
    {
     "name": "stdout",
     "output_type": "stream",
     "text": [
      "24-04-07 21:28:30 - There are now 1826 representations in ds_facenet_opencv_v2.pkl\n",
      "24-04-07 21:28:30 - Searching data/database\\incoming_users\\authorized_users\\25\\010802.jpg in 1826 length datastore\n",
      "24-04-07 21:28:31 - find function duration 765.2876949310303 seconds\n"
     ]
    }
   ],
   "execution_count": 53
  },
  {
   "metadata": {
    "ExecuteTime": {
     "end_time": "2024-04-07T20:04:20.233318Z",
     "start_time": "2024-04-07T20:04:20.219524Z"
    }
   },
   "cell_type": "code",
   "source": [
    "def draw_ROC_curve(\n",
    "    df_users_authorized: pd.DataFrame, df_users_unauthorized: pd.DataFrame\n",
    "):\n",
    "    \"\"\"\n",
    "    Function to draw ROC curve based on DFs with authorized and unauthorized users, based on changing threshold\n",
    "    of distance.\n",
    "    :param df_users_authorized: DF with users in database\n",
    "    :param df_users_unauthorized: DF with users that are not authorized in database\n",
    "    :return: Tuple of TP, TN, FP, FN\n",
    "    \"\"\"\n",
    "    df_concatenated = pd.concat([df_users_authorized, df_users_unauthorized], axis=0)\n",
    "    true_labels = [True] * len(df_users_authorized) + [False] * len(\n",
    "        df_users_unauthorized\n",
    "    )\n",
    "    predicted_labels = df_concatenated[\"is_access_granted\"].to_list()\n",
    "    distances = df_concatenated[\"distance\"].values.reshape(-1, 1)\n",
    "\n",
    "    scaler = MinMaxScaler()\n",
    "    normalized_distances = scaler.fit_transform(distances)\n",
    "    fpr, tpr, thresholds = roc_curve(true_labels, normalized_distances)\n",
    "    plt.figure()\n",
    "    plt.plot(fpr, tpr)\n",
    "    plt.xlabel(\"False Positive Rate\")\n",
    "    plt.ylabel(\"True Positive Rate\")\n",
    "    plt.title(\"ROC Curve\")\n",
    "    plt.show()"
   ],
   "id": "f19d7abf2fa5303c",
   "outputs": [],
   "execution_count": 62
  },
  {
   "metadata": {
    "ExecuteTime": {
     "end_time": "2024-04-07T20:04:22.960871Z",
     "start_time": "2024-04-07T20:04:21.227309Z"
    }
   },
   "cell_type": "code",
   "source": "draw_ROC_curve(df_authorized, df_unauthorized)",
   "id": "6ae7af625467103d",
   "outputs": [
    {
     "data": {
      "text/plain": [
       "<Figure size 640x480 with 1 Axes>"
      ],
      "image/png": "[encoded data removed]"
     },
     "metadata": {},
     "output_type": "display_data"
    }
   ],
   "execution_count": 63
  },
  {
   "metadata": {},
   "cell_type": "code",
   "outputs": [],
   "execution_count": null,
   "source": "",
   "id": "d86f2e1f292d64a"
  }
 ],
 "metadata": {
  "kernelspec": {
   "display_name": "Python 3",
   "language": "python",
   "name": "python3"
  },
  "language_info": {
   "codemirror_mode": {
    "name": "ipython",
    "version": 2
   },
   "file_extension": ".py",
   "mimetype": "text/x-python",
   "name": "python",
   "nbconvert_exporter": "python",
   "pygments_lexer": "ipython2",
   "version": "2.7.6"
  }
 },
 "nbformat": 4,
 "nbformat_minor": 5
}
