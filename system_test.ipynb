{
 "cells": [
  {
   "cell_type": "code",
   "execution_count": null,
   "id": "initial_id",
   "metadata": {
    "collapsed": true
   },
   "outputs": [],
   "source": [
    "from system import Model\n",
    "import os\n",
    "import face_recognition"
   ]
  },
  {
   "cell_type": "code",
   "outputs": [],
   "source": [
    "data_dir = os.path.join(os.getcwd(), \"data\")\n",
    "train_dir = os.path.join(data_dir, \"train\")"
   ],
   "metadata": {
    "collapsed": false
   },
   "id": "59e2d2348761f8cf",
   "execution_count": null
  },
  {
   "cell_type": "code",
   "outputs": [],
   "source": [
    "bio_model = Model()"
   ],
   "metadata": {
    "collapsed": false
   },
   "id": "487158248aed967a",
   "execution_count": null
  },
  {
   "cell_type": "code",
   "outputs": [],
   "source": [
    "bio_model.save_system(save_dir=os.path.join(data_dir, \"system_save\"), system_configuration_name=\"test_saving\")"
   ],
   "metadata": {
    "collapsed": false
   },
   "id": "863d679601f9c787",
   "execution_count": null
  },
  {
   "cell_type": "code",
   "outputs": [],
   "source": [
    "other_model = Model(model_config_path=os.path.join(\"config\", \"test_saving.yaml\"))"
   ],
   "metadata": {
    "collapsed": false
   },
   "id": "ac1806abf847e47c",
   "execution_count": null
  },
  {
   "cell_type": "code",
   "outputs": [],
   "source": [
    "bio_model.fit_svm(train_dir)"
   ],
   "metadata": {
    "collapsed": false
   },
   "id": "ad2a37ba28ba9993",
   "execution_count": null
  },
  {
   "cell_type": "code",
   "outputs": [],
   "source": [
    "bio_model.save_system(save_dir=os.path.join(data_dir, \"fitted_svm\"), system_configuration_name=\"fitted_svm\")"
   ],
   "metadata": {
    "collapsed": false
   },
   "id": "5f82390f3e402dc5"
  },
  {
   "cell_type": "code",
   "outputs": [],
   "source": [
    "# Load the test image with unknown faces into a numpy array\n",
    "test_image = face_recognition.load_image_file(\"test_image.jpg\")\n",
    "\n",
    "# Find all the faces in the test image using the default HOG-based model\n",
    "face_locations = face_recognition.face_locations(test_image)\n",
    "no = len(face_locations)\n",
    "print(\"Number of faces detected: \", no)\n",
    "\n",
    "# Predict all the faces in the test image using the trained classifier\n",
    "print(\"Found:\")\n",
    "for i in range(no):\n",
    "    test_image_enc = face_recognition.face_encodings(test_image)[i]\n",
    "    name = bio_model.clf.predict([test_image_enc])\n",
    "    print(*name)"
   ],
   "metadata": {
    "collapsed": false
   },
   "id": "9b666bf3aedb6692"
  }
 ],
 "metadata": {
  "kernelspec": {
   "display_name": "Python 3",
   "language": "python",
   "name": "python3"
  },
  "language_info": {
   "codemirror_mode": {
    "name": "ipython",
    "version": 2
   },
   "file_extension": ".py",
   "mimetype": "text/x-python",
   "name": "python",
   "nbconvert_exporter": "python",
   "pygments_lexer": "ipython2",
   "version": "2.7.6"
  }
 },
 "nbformat": 4,
 "nbformat_minor": 5
}
