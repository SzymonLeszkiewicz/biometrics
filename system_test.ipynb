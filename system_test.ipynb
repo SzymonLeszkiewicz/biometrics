{
 "cells": [
  {
   "cell_type": "code",
   "execution_count": 1,
   "id": "initial_id",
   "metadata": {
    "collapsed": true,
    "ExecuteTime": {
     "end_time": "2024-03-26T15:26:27.864730Z",
     "start_time": "2024-03-26T15:26:24.986758Z"
    }
   },
   "outputs": [],
   "source": [
    "from system import Model\n",
    "import os\n",
    "import face_recognition"
   ]
  },
  {
   "cell_type": "code",
   "outputs": [],
   "source": [
    "data_dir = os.path.join(os.getcwd(), \"data\")\n",
    "train_dir = os.path.join(data_dir, \"train\")"
   ],
   "metadata": {
    "collapsed": false,
    "ExecuteTime": {
     "end_time": "2024-03-26T15:26:27.869800Z",
     "start_time": "2024-03-26T15:26:27.865736Z"
    }
   },
   "id": "59e2d2348761f8cf",
   "execution_count": 2
  },
  {
   "cell_type": "code",
   "outputs": [
    {
     "data": {
      "text/plain": "'C:\\\\Users\\\\Kacper Kozaczko\\\\Desktop\\\\Stuff\\\\PWr\\\\III_semestr\\\\Biometria\\\\project_1\\\\biometrics\\\\data\\\\train'"
     },
     "execution_count": 3,
     "metadata": {},
     "output_type": "execute_result"
    }
   ],
   "source": [
    "train_dir"
   ],
   "metadata": {
    "collapsed": false,
    "ExecuteTime": {
     "end_time": "2024-03-26T15:26:27.884781Z",
     "start_time": "2024-03-26T15:26:27.870805Z"
    }
   },
   "id": "bd6228e21e543b65",
   "execution_count": 3
  },
  {
   "cell_type": "code",
   "outputs": [],
   "source": [
    "bio_model = Model()"
   ],
   "metadata": {
    "collapsed": false,
    "ExecuteTime": {
     "end_time": "2024-03-26T15:26:27.890609Z",
     "start_time": "2024-03-26T15:26:27.885786Z"
    }
   },
   "id": "487158248aed967a",
   "execution_count": 4
  },
  {
   "cell_type": "code",
   "outputs": [
    {
     "name": "stdout",
     "output_type": "stream",
     "text": [
      "1/157602.jpg was skipped and can't be used for training\n",
      "10/085155.jpg was skipped and can't be used for training\n",
      "10002/070463.jpg was skipped and can't be used for training\n",
      "10005/039480.jpg was skipped and can't be used for training\n",
      "10008/093573.jpg was skipped and can't be used for training\n",
      "10014/129765.jpg was skipped and can't be used for training\n",
      "10015/053936.jpg was skipped and can't be used for training\n",
      "10015/115499.jpg was skipped and can't be used for training\n",
      "10018/141195.jpg was skipped and can't be used for training\n",
      "10019/073714.jpg was skipped and can't be used for training\n",
      "10021/003758.jpg was skipped and can't be used for training\n",
      "10021/020344.jpg was skipped and can't be used for training\n",
      "10021/026454.jpg was skipped and can't be used for training\n",
      "10021/037874.jpg was skipped and can't be used for training\n",
      "10021/058113.jpg was skipped and can't be used for training\n",
      "10021/074091.jpg was skipped and can't be used for training\n",
      "10021/079478.jpg was skipped and can't be used for training\n",
      "10021/085074.jpg was skipped and can't be used for training\n",
      "10021/102645.jpg was skipped and can't be used for training\n",
      "10021/104232.jpg was skipped and can't be used for training\n",
      "10021/113701.jpg was skipped and can't be used for training\n",
      "10021/120599.jpg was skipped and can't be used for training\n",
      "10021/143009.jpg was skipped and can't be used for training\n",
      "10026/095076.jpg was skipped and can't be used for training\n",
      "10028/056642.jpg was skipped and can't be used for training\n",
      "10028/105178.jpg was skipped and can't be used for training\n",
      "10030/081071.jpg was skipped and can't be used for training\n",
      "10033/080180.jpg was skipped and can't be used for training\n",
      "10033/095338.jpg was skipped and can't be used for training\n",
      "10036/123309.jpg was skipped and can't be used for training\n",
      "10041/029254.jpg was skipped and can't be used for training\n",
      "10042/027092.jpg was skipped and can't be used for training\n"
     ]
    }
   ],
   "source": [
    "bio_model.fit_svm(train_dir)"
   ],
   "metadata": {
    "collapsed": false,
    "is_executing": true,
    "ExecuteTime": {
     "start_time": "2024-03-26T15:26:27.893123Z"
    }
   },
   "id": "ad2a37ba28ba9993",
   "execution_count": null
  },
  {
   "cell_type": "code",
   "outputs": [],
   "source": [
    "# Load the test image with unknown faces into a numpy array\n",
    "test_image = face_recognition.load_image_file(\"test_image.jpg\")\n",
    "\n",
    "# Find all the faces in the test image using the default HOG-based model\n",
    "face_locations = face_recognition.face_locations(test_image)\n",
    "no = len(face_locations)\n",
    "print(\"Number of faces detected: \", no)\n",
    "\n",
    "# Predict all the faces in the test image using the trained classifier\n",
    "print(\"Found:\")\n",
    "for i in range(no):\n",
    "    test_image_enc = face_recognition.face_encodings(test_image)[i]\n",
    "    name = bio_model.clf.predict([test_image_enc])\n",
    "    print(*name)"
   ],
   "metadata": {
    "collapsed": false,
    "is_executing": true
   },
   "id": "9b666bf3aedb6692"
  }
 ],
 "metadata": {
  "kernelspec": {
   "display_name": "Python 3",
   "language": "python",
   "name": "python3"
  },
  "language_info": {
   "codemirror_mode": {
    "name": "ipython",
    "version": 2
   },
   "file_extension": ".py",
   "mimetype": "text/x-python",
   "name": "python",
   "nbconvert_exporter": "python",
   "pygments_lexer": "ipython2",
   "version": "2.7.6"
  }
 },
 "nbformat": 4,
 "nbformat_minor": 5
}
