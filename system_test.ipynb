{
 "cells": [
  {
   "cell_type": "code",
   "execution_count": 1,
   "id": "initial_id",
   "metadata": {
    "collapsed": true,
    "ExecuteTime": {
     "end_time": "2024-03-27T12:21:24.363390Z",
     "start_time": "2024-03-27T12:21:17.412916Z"
    }
   },
   "outputs": [],
   "source": [
    "from system import FaceRecognitionSystem\n",
    "import os\n",
    "import face_recognition"
   ]
  },
  {
   "cell_type": "code",
   "outputs": [],
   "source": [
    "data_dir = os.path.join(os.getcwd(), \"data\")\n",
    "train_dir = os.path.join(data_dir, \"train_50\")"
   ],
   "metadata": {
    "collapsed": false,
    "ExecuteTime": {
     "end_time": "2024-03-27T12:37:28.062181Z",
     "start_time": "2024-03-27T12:37:28.054698Z"
    }
   },
   "id": "59e2d2348761f8cf",
   "execution_count": 14
  },
  {
   "cell_type": "code",
   "outputs": [],
   "source": [
    "bio_model = FaceRecognitionSystem()"
   ],
   "metadata": {
    "collapsed": false,
    "ExecuteTime": {
     "end_time": "2024-03-27T12:37:31.612255Z",
     "start_time": "2024-03-27T12:37:31.600828Z"
    }
   },
   "id": "487158248aed967a",
   "execution_count": 15
  },
  {
   "cell_type": "code",
   "outputs": [],
   "source": [
    "bio_model.fit_svm(train_dir)"
   ],
   "metadata": {
    "collapsed": false
   },
   "id": "7ca5d65ce0da7ca1",
   "execution_count": null
  },
  {
   "cell_type": "code",
   "outputs": [],
   "source": [
    "bio_model.verify_user(os.path.join(train_dir, \"1\", \"004506.jpg\"))"
   ],
   "metadata": {
    "collapsed": false
   },
   "id": "5e8244c7e2ce2b5a",
   "execution_count": null
  },
  {
   "cell_type": "code",
   "outputs": [],
   "source": [
    "bio_model.add_user(132, os.path.join(data_dir, \"train\", \"132\", \"003528.jpg\"))"
   ],
   "metadata": {
    "collapsed": false,
    "ExecuteTime": {
     "end_time": "2024-03-27T12:18:49.823409Z",
     "start_time": "2024-03-27T12:18:48.165705Z"
    }
   },
   "id": "39e1c474d0a43092",
   "execution_count": 10
  },
  {
   "cell_type": "code",
   "outputs": [],
   "source": [
    "bio_model.save_system(os.path.join(data_dir, \"120_users\"), \"120_users\")"
   ],
   "metadata": {
    "collapsed": false
   },
   "id": "cd60e44e506e3f5e",
   "execution_count": null
  },
  {
   "cell_type": "code",
   "outputs": [],
   "source": [
    "bio_model.verify_user(image_path=os.path.join(data_dir, \"train\", \"132\", \"029550.jpg\"))"
   ],
   "metadata": {
    "collapsed": false
   },
   "id": "c670bdc4cd79a81e",
   "execution_count": null
  },
  {
   "cell_type": "code",
   "outputs": [],
   "source": [
    "bio_model.fit_svm(train_dir)"
   ],
   "metadata": {
    "collapsed": false
   },
   "id": "ad2a37ba28ba9993",
   "execution_count": null
  },
  {
   "cell_type": "code",
   "outputs": [],
   "source": [
    "bio_model.save_system(\n",
    "    save_dir=os.path.join(data_dir, \"fitted_svm\"),\n",
    "    system_configuration_name=\"fitted_svm\",\n",
    ")"
   ],
   "metadata": {
    "collapsed": false
   },
   "id": "5f82390f3e402dc5"
  },
  {
   "cell_type": "code",
   "outputs": [],
   "source": [
    "# Load the test image with unknown faces into a numpy array\n",
    "test_image = face_recognition.load_image_file(\"test_image.jpg\")\n",
    "\n",
    "# Find all the faces in the test image using the default HOG-based model\n",
    "face_locations = face_recognition.face_locations(test_image)\n",
    "no = len(face_locations)\n",
    "print(\"Number of faces detected: \", no)\n",
    "\n",
    "# Predict all the faces in the test image using the trained classifier\n",
    "print(\"Found:\")\n",
    "for i in range(no):\n",
    "    test_image_enc = face_recognition.face_encodings(test_image)[i]\n",
    "    name = bio_model.clf.predict([test_image_enc])\n",
    "    print(*name)"
   ],
   "metadata": {
    "collapsed": false
   },
   "id": "9b666bf3aedb6692"
  }
 ],
 "metadata": {
  "kernelspec": {
   "display_name": "Python 3",
   "language": "python",
   "name": "python3"
  },
  "language_info": {
   "codemirror_mode": {
    "name": "ipython",
    "version": 2
   },
   "file_extension": ".py",
   "mimetype": "text/x-python",
   "name": "python",
   "nbconvert_exporter": "python",
   "pygments_lexer": "ipython2",
   "version": "2.7.6"
  }
 },
 "nbformat": 4,
 "nbformat_minor": 5
}
