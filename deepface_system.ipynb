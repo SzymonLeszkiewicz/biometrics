{
 "cells": [
  {
   "cell_type": "markdown",
   "source": [
    "# Imports"
   ],
   "metadata": {
    "collapsed": false
   },
   "id": "bb574279f483e270"
  },
  {
   "cell_type": "code",
   "outputs": [],
   "source": [
    "import os\n",
    "from pathlib import Path\n",
    "\n",
    "import pandas as pd\n",
    "from deepface import DeepFace\n",
    "from tqdm.autonotebook import tqdm"
   ],
   "metadata": {
    "collapsed": false,
    "ExecuteTime": {
     "end_time": "2024-04-03T13:47:49.117638Z",
     "start_time": "2024-04-03T13:47:49.114948Z"
    }
   },
   "id": "965fca22cfcae9f6",
   "execution_count": 58
  },
  {
   "cell_type": "markdown",
   "source": [
    "# Initiating Database"
   ],
   "metadata": {
    "collapsed": false
   },
   "id": "d38d2c3b232415c1"
  },
  {
   "cell_type": "code",
   "outputs": [
    {
     "name": "stdout",
     "output_type": "stream",
     "text": [
      "24-04-03 15:34:04 - Searching data\\database\\incoming_users\\authorized_users\\22\\001677.jpg in 1826 length datastore\n",
      "24-04-03 15:34:05 - find function duration 1.2937004566192627 seconds\n"
     ]
    }
   ],
   "source": [
    "faces_found = DeepFace.find(\n",
    "    # img_path=os.path.join(\n",
    "    #     \"data\", \"database\", \"incoming_users\", \"authorized_users\", \"1\", \"000023.jpg\"\n",
    "    # ),\n",
    "    # img_path=os.path.join(\n",
    "    #     \"data\", \"database\", \"incoming_users\", \"unauthorized_users\", \"101\", \"020633.jpg\"\n",
    "    # ),\n",
    "    img_path=os.path.join(\n",
    "        \"data\", \"database\", \"incoming_users\", \"authorized_users\", \"22\", \"001677.jpg\"\n",
    "    ),\n",
    "    db_path=os.path.join(\"data\", \"database\", \"authorized_users\"),\n",
    "    enforce_detection=False,\n",
    ")"
   ],
   "metadata": {
    "collapsed": false,
    "ExecuteTime": {
     "end_time": "2024-04-03T13:34:05.173671Z",
     "start_time": "2024-04-03T13:34:03.814245Z"
    }
   },
   "id": "5972148f4f783200",
   "execution_count": 9
  },
  {
   "cell_type": "code",
   "outputs": [
    {
     "data": {
      "text/plain": "                                       identity  \\\n0  data\\database\\authorized_users\\63\\148723.jpg   \n1  data\\database\\authorized_users\\55\\147118.jpg   \n2  data\\database\\authorized_users\\15\\040569.jpg   \n\n                                       hash  target_x  target_y  target_w  \\\n0  7784b838f6009d7c18db658c2c078f3220cc21a1        37        74       101   \n1  752859037bbb74e5afcf1be196bec0bad056ba82        32        69       113   \n2  b96cca437e50c2509b3c7d688df40015d081e774         0         0       178   \n\n   target_h  source_x  source_y  source_w  source_h  threshold  distance  \n0       101         0         0       178       218       0.68  0.641510  \n1       113         0         0       178       218       0.68  0.653444  \n2       218         0         0       178       218       0.68  0.672288  ",
      "text/html": "<div>\n<style scoped>\n    .dataframe tbody tr th:only-of-type {\n        vertical-align: middle;\n    }\n\n    .dataframe tbody tr th {\n        vertical-align: top;\n    }\n\n    .dataframe thead th {\n        text-align: right;\n    }\n</style>\n<table border=\"1\" class=\"dataframe\">\n  <thead>\n    <tr style=\"text-align: right;\">\n      <th></th>\n      <th>identity</th>\n      <th>hash</th>\n      <th>target_x</th>\n      <th>target_y</th>\n      <th>target_w</th>\n      <th>target_h</th>\n      <th>source_x</th>\n      <th>source_y</th>\n      <th>source_w</th>\n      <th>source_h</th>\n      <th>threshold</th>\n      <th>distance</th>\n    </tr>\n  </thead>\n  <tbody>\n    <tr>\n      <th>0</th>\n      <td>data\\database\\authorized_users\\63\\148723.jpg</td>\n      <td>7784b838f6009d7c18db658c2c078f3220cc21a1</td>\n      <td>37</td>\n      <td>74</td>\n      <td>101</td>\n      <td>101</td>\n      <td>0</td>\n      <td>0</td>\n      <td>178</td>\n      <td>218</td>\n      <td>0.68</td>\n      <td>0.641510</td>\n    </tr>\n    <tr>\n      <th>1</th>\n      <td>data\\database\\authorized_users\\55\\147118.jpg</td>\n      <td>752859037bbb74e5afcf1be196bec0bad056ba82</td>\n      <td>32</td>\n      <td>69</td>\n      <td>113</td>\n      <td>113</td>\n      <td>0</td>\n      <td>0</td>\n      <td>178</td>\n      <td>218</td>\n      <td>0.68</td>\n      <td>0.653444</td>\n    </tr>\n    <tr>\n      <th>2</th>\n      <td>data\\database\\authorized_users\\15\\040569.jpg</td>\n      <td>b96cca437e50c2509b3c7d688df40015d081e774</td>\n      <td>0</td>\n      <td>0</td>\n      <td>178</td>\n      <td>218</td>\n      <td>0</td>\n      <td>0</td>\n      <td>178</td>\n      <td>218</td>\n      <td>0.68</td>\n      <td>0.672288</td>\n    </tr>\n  </tbody>\n</table>\n</div>"
     },
     "execution_count": 10,
     "metadata": {},
     "output_type": "execute_result"
    }
   ],
   "source": [
    "faces_found[0]"
   ],
   "metadata": {
    "collapsed": false,
    "ExecuteTime": {
     "end_time": "2024-04-03T13:34:05.185818Z",
     "start_time": "2024-04-03T13:34:05.175680Z"
    }
   },
   "id": "16932fe3093d08c4",
   "execution_count": 10
  },
  {
   "cell_type": "code",
   "outputs": [
    {
     "data": {
      "text/plain": "array(['63', '55', '15'], dtype=object)"
     },
     "execution_count": 11,
     "metadata": {},
     "output_type": "execute_result"
    }
   ],
   "source": [
    "faces_found[0][\"identity\"].apply(lambda x: Path(x).parts[3]).unique()"
   ],
   "metadata": {
    "collapsed": false,
    "ExecuteTime": {
     "end_time": "2024-04-03T13:34:05.197825Z",
     "start_time": "2024-04-03T13:34:05.187344Z"
    }
   },
   "id": "c85ebbc602762574",
   "execution_count": 11
  },
  {
   "cell_type": "markdown",
   "source": [
    "# Testing Authorized Users"
   ],
   "metadata": {
    "collapsed": false
   },
   "id": "44ac7e2646ef15c1"
  },
  {
   "cell_type": "code",
   "outputs": [],
   "source": [
    "testing_authorized_users = pd.DataFrame(\n",
    "    columns=[\"image_path\", \"truth_label\", \"predicted_label\", \"cosine_distance\"]\n",
    ")"
   ],
   "metadata": {
    "collapsed": false,
    "ExecuteTime": {
     "end_time": "2024-04-03T13:34:05.497861Z",
     "start_time": "2024-04-03T13:34:05.493745Z"
    }
   },
   "id": "908c35a48cbef0fc",
   "execution_count": 12
  },
  {
   "cell_type": "code",
   "outputs": [
    {
     "data": {
      "text/plain": "Empty DataFrame\nColumns: [image_path, truth_label, predicted_label, cosine_distance]\nIndex: []",
      "text/html": "<div>\n<style scoped>\n    .dataframe tbody tr th:only-of-type {\n        vertical-align: middle;\n    }\n\n    .dataframe tbody tr th {\n        vertical-align: top;\n    }\n\n    .dataframe thead th {\n        text-align: right;\n    }\n</style>\n<table border=\"1\" class=\"dataframe\">\n  <thead>\n    <tr style=\"text-align: right;\">\n      <th></th>\n      <th>image_path</th>\n      <th>truth_label</th>\n      <th>predicted_label</th>\n      <th>cosine_distance</th>\n    </tr>\n  </thead>\n  <tbody>\n  </tbody>\n</table>\n</div>"
     },
     "execution_count": 13,
     "metadata": {},
     "output_type": "execute_result"
    }
   ],
   "source": [
    "testing_authorized_users"
   ],
   "metadata": {
    "collapsed": false,
    "ExecuteTime": {
     "end_time": "2024-04-03T13:34:06.561345Z",
     "start_time": "2024-04-03T13:34:06.555800Z"
    }
   },
   "id": "578084b3ec3b8beb",
   "execution_count": 13
  },
  {
   "cell_type": "code",
   "outputs": [
    {
     "name": "stderr",
     "output_type": "stream",
     "text": [
      "Processing users:   0%|          | 0/50 [00:00<?, ?it/s]\n",
      "Processing user photos:   0%|          | 0/3 [00:00<?, ?it/s]\u001b[A\n",
      "Processing user photos:  33%|███▎      | 1/3 [00:01<00:02,  1.33s/it]\u001b[A\n",
      "Processing user photos:  67%|██████▋   | 2/3 [00:02<00:01,  1.17s/it]\u001b[A\n",
      "Processing user photos: 100%|██████████| 3/3 [00:03<00:00,  1.07s/it]\u001b[A\n",
      "Processing users:   2%|▏         | 1/50 [00:03<02:44,  3.35s/it]     \u001b[A\n",
      "Processing user photos:   0%|          | 0/5 [00:00<?, ?it/s]\u001b[A\n",
      "Processing user photos:  20%|██        | 1/5 [00:00<00:03,  1.03it/s]\u001b[A\n",
      "Processing user photos:  40%|████      | 2/5 [00:01<00:02,  1.02it/s]\u001b[A\n",
      "Processing user photos:  60%|██████    | 3/5 [00:02<00:01,  1.03it/s]\u001b[A\n",
      "Processing user photos:  80%|████████  | 4/5 [00:03<00:00,  1.02it/s]\u001b[A\n",
      "Processing user photos: 100%|██████████| 5/5 [00:04<00:00,  1.01it/s]\u001b[A\n",
      "Processing users:   4%|▍         | 2/50 [00:08<03:25,  4.28s/it]     \u001b[A\n",
      "Processing user photos:   0%|          | 0/1 [00:00<?, ?it/s]\u001b[A\n",
      "Processing user photos: 100%|██████████| 1/1 [00:00<00:00,  1.02it/s]\u001b[A\n",
      "Processing users:   6%|▌         | 3/50 [00:09<02:10,  2.77s/it]     \u001b[A\n",
      "Processing user photos:   0%|          | 0/5 [00:00<?, ?it/s]\u001b[A\n",
      "Processing user photos:  20%|██        | 1/5 [00:00<00:03,  1.04it/s]\u001b[A\n",
      "Processing user photos:  40%|████      | 2/5 [00:01<00:02,  1.03it/s]\u001b[A\n",
      "Processing user photos:  60%|██████    | 3/5 [00:02<00:01,  1.01it/s]\u001b[A\n",
      "Processing user photos:  80%|████████  | 4/5 [00:03<00:01,  1.01s/it]\u001b[A\n",
      "Processing user photos: 100%|██████████| 5/5 [00:04<00:00,  1.00s/it]\u001b[A\n",
      "Processing users:   8%|▊         | 4/50 [00:14<02:47,  3.65s/it]     \u001b[A\n",
      "Processing user photos:   0%|          | 0/4 [00:00<?, ?it/s]\u001b[A\n",
      "Processing user photos:  25%|██▌       | 1/4 [00:01<00:03,  1.03s/it]\u001b[A\n",
      "Processing user photos:  50%|█████     | 2/4 [00:02<00:02,  1.03s/it]\u001b[A\n",
      "Processing user photos:  75%|███████▌  | 3/4 [00:03<00:01,  1.04s/it]\u001b[A\n",
      "Processing user photos: 100%|██████████| 4/4 [00:04<00:00,  1.03s/it]\u001b[A\n",
      "Processing users:  10%|█         | 5/50 [00:18<02:51,  3.82s/it]     \u001b[A\n",
      "Processing user photos:   0%|          | 0/4 [00:00<?, ?it/s]\u001b[A\n",
      "Processing user photos:  25%|██▌       | 1/4 [00:00<00:02,  1.07it/s]\u001b[A\n",
      "Processing user photos:  50%|█████     | 2/4 [00:01<00:01,  1.04it/s]\u001b[A\n",
      "Processing user photos:  75%|███████▌  | 3/4 [00:02<00:00,  1.04it/s]\u001b[A\n",
      "Processing user photos: 100%|██████████| 4/4 [00:03<00:00,  1.03it/s]\u001b[A\n",
      "Processing users:  12%|█▏        | 6/50 [00:22<02:48,  3.83s/it]     \u001b[A\n",
      "Processing user photos:   0%|          | 0/4 [00:00<?, ?it/s]\u001b[A\n",
      "Processing user photos:  25%|██▌       | 1/4 [00:00<00:02,  1.04it/s]\u001b[A\n",
      "Processing user photos:  50%|█████     | 2/4 [00:02<00:02,  1.03s/it]\u001b[A\n",
      "Processing user photos:  75%|███████▌  | 3/4 [00:03<00:01,  1.02s/it]\u001b[A\n",
      "Processing user photos: 100%|██████████| 4/4 [00:04<00:00,  1.02s/it]\u001b[A\n",
      "Processing users:  14%|█▍        | 7/50 [00:26<02:48,  3.91s/it]     \u001b[A\n",
      "Processing user photos:   0%|          | 0/4 [00:00<?, ?it/s]\u001b[A\n",
      "Processing user photos:  25%|██▌       | 1/4 [00:01<00:03,  1.22s/it]\u001b[A\n",
      "Processing user photos:  50%|█████     | 2/4 [00:02<00:02,  1.13s/it]\u001b[A\n",
      "Processing user photos:  75%|███████▌  | 3/4 [00:03<00:01,  1.07s/it]\u001b[A\n",
      "Processing user photos: 100%|██████████| 4/4 [00:04<00:00,  1.04s/it]\u001b[A\n",
      "Processing users:  16%|█▌        | 8/50 [00:30<02:49,  4.03s/it]     \u001b[A\n",
      "Processing user photos:   0%|          | 0/5 [00:00<?, ?it/s]\u001b[A\n",
      "Processing user photos:  20%|██        | 1/5 [00:01<00:03,  1.00it/s]\u001b[A\n",
      "Processing user photos:  40%|████      | 2/5 [00:01<00:02,  1.01it/s]\u001b[A\n",
      "Processing user photos:  60%|██████    | 3/5 [00:02<00:01,  1.02it/s]\u001b[A\n",
      "Processing user photos:  80%|████████  | 4/5 [00:03<00:00,  1.01it/s]\u001b[A\n",
      "Processing user photos: 100%|██████████| 5/5 [00:04<00:00,  1.00s/it]\u001b[A\n",
      "Processing users:  18%|█▊        | 9/50 [00:35<02:57,  4.33s/it]     \u001b[A\n",
      "Processing user photos:   0%|          | 0/1 [00:00<?, ?it/s]\u001b[A\n",
      "Processing user photos: 100%|██████████| 1/1 [00:01<00:00,  1.02s/it]\u001b[A\n",
      "Processing users:  20%|██        | 10/50 [00:36<02:12,  3.31s/it]    \u001b[A\n",
      "Processing user photos:   0%|          | 0/3 [00:00<?, ?it/s]\u001b[A\n",
      "Processing user photos:  33%|███▎      | 1/3 [00:01<00:02,  1.02s/it]\u001b[A\n",
      "Processing user photos:  67%|██████▋   | 2/3 [00:02<00:01,  1.04s/it]\u001b[A\n",
      "Processing user photos: 100%|██████████| 3/3 [00:03<00:00,  1.02s/it]\u001b[A\n",
      "Processing users:  22%|██▏       | 11/50 [00:39<02:06,  3.24s/it]    \u001b[A\n",
      "Processing user photos:   0%|          | 0/2 [00:00<?, ?it/s]\u001b[A\n",
      "Processing user photos:  50%|█████     | 1/2 [00:00<00:00,  1.01it/s]\u001b[A\n",
      "Processing user photos: 100%|██████████| 2/2 [00:01<00:00,  1.00it/s]\u001b[A\n",
      "Processing users:  24%|██▍       | 12/50 [00:41<01:48,  2.86s/it]    \u001b[A\n",
      "Processing user photos:   0%|          | 0/5 [00:00<?, ?it/s]\u001b[A\n",
      "Processing user photos:  20%|██        | 1/5 [00:01<00:04,  1.13s/it]\u001b[A\n",
      "Processing user photos:  40%|████      | 2/5 [00:02<00:03,  1.07s/it]\u001b[A\n",
      "Processing user photos:  60%|██████    | 3/5 [00:03<00:02,  1.05s/it]\u001b[A\n",
      "Processing user photos:  80%|████████  | 4/5 [00:04<00:01,  1.04s/it]\u001b[A\n",
      "Processing user photos: 100%|██████████| 5/5 [00:05<00:00,  1.04s/it]\u001b[A\n",
      "Processing users:  26%|██▌       | 13/50 [00:46<02:12,  3.59s/it]    \u001b[A\n",
      "Processing user photos:   0%|          | 0/4 [00:00<?, ?it/s]\u001b[A\n",
      "Processing user photos:  25%|██▌       | 1/4 [00:01<00:03,  1.03s/it]\u001b[A\n",
      "Processing user photos:  50%|█████     | 2/4 [00:02<00:02,  1.04s/it]\u001b[A\n",
      "Processing user photos:  75%|███████▌  | 3/4 [00:03<00:01,  1.06s/it]\u001b[A\n",
      "Processing user photos: 100%|██████████| 4/4 [00:04<00:00,  1.07s/it]\u001b[A\n",
      "Processing users:  28%|██▊       | 14/50 [00:51<02:16,  3.79s/it]    \u001b[A\n",
      "Processing user photos:   0%|          | 0/6 [00:00<?, ?it/s]\u001b[A\n",
      "Processing user photos:  17%|█▋        | 1/6 [00:01<00:05,  1.06s/it]\u001b[A\n",
      "Processing user photos:  33%|███▎      | 2/6 [00:02<00:04,  1.06s/it]\u001b[A\n",
      "Processing user photos:  50%|█████     | 3/6 [00:03<00:03,  1.07s/it]\u001b[A\n",
      "Processing user photos:  67%|██████▋   | 4/6 [00:04<00:02,  1.06s/it]\u001b[A\n",
      "Processing user photos:  83%|████████▎ | 5/6 [00:05<00:01,  1.03s/it]\u001b[A\n",
      "Processing user photos: 100%|██████████| 6/6 [00:06<00:00,  1.17s/it]\u001b[A\n",
      "Processing users:  30%|███       | 15/50 [00:57<02:42,  4.65s/it]    \u001b[A\n",
      "Processing user photos:   0%|          | 0/6 [00:00<?, ?it/s]\u001b[A\n",
      "Processing user photos:  17%|█▋        | 1/6 [00:01<00:05,  1.19s/it]\u001b[A\n",
      "Processing user photos:  33%|███▎      | 2/6 [00:02<00:04,  1.13s/it]\u001b[A\n",
      "Processing user photos:  50%|█████     | 3/6 [00:03<00:03,  1.24s/it]\u001b[A\n",
      "Processing user photos:  67%|██████▋   | 4/6 [00:04<00:02,  1.17s/it]\u001b[A\n",
      "Processing user photos:  83%|████████▎ | 5/6 [00:06<00:01,  1.22s/it]\u001b[A\n",
      "Processing user photos: 100%|██████████| 6/6 [00:07<00:00,  1.16s/it]\u001b[A\n",
      "Processing users:  32%|███▏      | 16/50 [01:04<03:03,  5.38s/it]    \u001b[A\n",
      "Processing user photos:   0%|          | 0/1 [00:00<?, ?it/s]\u001b[A\n",
      "Processing user photos: 100%|██████████| 1/1 [00:01<00:00,  1.04s/it]\u001b[A\n",
      "Processing users:  34%|███▍      | 17/50 [01:05<02:14,  4.08s/it]    \u001b[A\n",
      "Processing user photos:   0%|          | 0/6 [00:00<?, ?it/s]\u001b[A\n",
      "Processing user photos:  17%|█▋        | 1/6 [00:01<00:05,  1.05s/it]\u001b[A\n",
      "Processing user photos:  33%|███▎      | 2/6 [00:02<00:04,  1.20s/it]\u001b[A\n",
      "Processing user photos:  50%|█████     | 3/6 [00:03<00:03,  1.19s/it]\u001b[A\n",
      "Processing user photos:  67%|██████▋   | 4/6 [00:04<00:02,  1.15s/it]\u001b[A\n",
      "Processing user photos:  83%|████████▎ | 5/6 [00:05<00:01,  1.13s/it]\u001b[A\n",
      "Processing user photos: 100%|██████████| 6/6 [00:06<00:00,  1.08s/it]\u001b[A\n",
      "Processing users:  36%|███▌      | 18/50 [01:12<02:35,  4.86s/it]    \u001b[A\n",
      "Processing user photos:   0%|          | 0/4 [00:00<?, ?it/s]\u001b[A\n",
      "Processing user photos:  25%|██▌       | 1/4 [00:00<00:02,  1.00it/s]\u001b[A\n",
      "Processing user photos:  50%|█████     | 2/4 [00:02<00:02,  1.11s/it]\u001b[A\n",
      "Processing user photos:  75%|███████▌  | 3/4 [00:03<00:01,  1.06s/it]\u001b[A\n",
      "Processing user photos: 100%|██████████| 4/4 [00:04<00:00,  1.09s/it]\u001b[A\n",
      "Processing users:  38%|███▊      | 19/50 [01:16<02:25,  4.70s/it]    \u001b[A\n",
      "Processing user photos:   0%|          | 0/4 [00:00<?, ?it/s]\u001b[A\n",
      "Processing user photos:  25%|██▌       | 1/4 [00:01<00:03,  1.10s/it]\u001b[A\n",
      "Processing user photos:  50%|█████     | 2/4 [00:02<00:02,  1.09s/it]\u001b[A\n",
      "Processing user photos:  75%|███████▌  | 3/4 [00:03<00:01,  1.28s/it]\u001b[A\n",
      "Processing user photos: 100%|██████████| 4/4 [00:05<00:00,  1.31s/it]\u001b[A\n",
      "Processing users:  40%|████      | 20/50 [01:22<02:24,  4.81s/it]    \u001b[A\n",
      "Processing user photos:   0%|          | 0/3 [00:00<?, ?it/s]\u001b[A\n",
      "Processing user photos:  33%|███▎      | 1/3 [00:01<00:02,  1.32s/it]\u001b[A\n",
      "Processing user photos:  67%|██████▋   | 2/3 [00:02<00:01,  1.23s/it]\u001b[A\n",
      "Processing user photos: 100%|██████████| 3/3 [00:03<00:00,  1.14s/it]\u001b[A\n",
      "Processing users:  42%|████▏     | 21/50 [01:25<02:08,  4.42s/it]    \u001b[A\n",
      "Processing user photos:   0%|          | 0/6 [00:00<?, ?it/s]\u001b[A\n",
      "Processing user photos:  17%|█▋        | 1/6 [00:00<00:04,  1.02it/s]\u001b[A\n",
      "Processing user photos:  33%|███▎      | 2/6 [00:01<00:04,  1.00s/it]\u001b[A\n",
      "Processing user photos:  50%|█████     | 3/6 [00:03<00:03,  1.02s/it]\u001b[A\n",
      "Processing user photos:  67%|██████▋   | 4/6 [00:04<00:02,  1.00s/it]\u001b[A\n",
      "Processing user photos:  83%|████████▎ | 5/6 [00:05<00:01,  1.04s/it]\u001b[A\n",
      "Processing user photos: 100%|██████████| 6/6 [00:06<00:00,  1.13s/it]\u001b[A\n",
      "Processing users:  44%|████▍     | 22/50 [01:31<02:20,  5.02s/it]    \u001b[A\n",
      "Processing user photos:   0%|          | 0/6 [00:00<?, ?it/s]\u001b[A\n",
      "Processing user photos:  17%|█▋        | 1/6 [00:01<00:05,  1.05s/it]\u001b[A\n",
      "Processing user photos:  33%|███▎      | 2/6 [00:02<00:04,  1.12s/it]\u001b[A\n",
      "Processing user photos:  50%|█████     | 3/6 [00:03<00:03,  1.13s/it]\u001b[A\n",
      "Processing user photos:  67%|██████▋   | 4/6 [00:04<00:02,  1.14s/it]\u001b[A\n",
      "Processing user photos:  83%|████████▎ | 5/6 [00:05<00:01,  1.18s/it]\u001b[A\n",
      "Processing user photos: 100%|██████████| 6/6 [00:07<00:00,  1.25s/it]\u001b[A\n",
      "Processing users:  46%|████▌     | 23/50 [01:39<02:33,  5.67s/it]    \u001b[A\n",
      "Processing user photos:   0%|          | 0/6 [00:00<?, ?it/s]\u001b[A\n",
      "Processing user photos:  17%|█▋        | 1/6 [00:01<00:06,  1.38s/it]\u001b[A\n",
      "Processing user photos:  33%|███▎      | 2/6 [00:02<00:05,  1.41s/it]\u001b[A\n",
      "Processing user photos:  50%|█████     | 3/6 [00:03<00:03,  1.28s/it]\u001b[A\n",
      "Processing user photos:  67%|██████▋   | 4/6 [00:05<00:02,  1.25s/it]\u001b[A\n",
      "Processing user photos:  83%|████████▎ | 5/6 [00:06<00:01,  1.42s/it]\u001b[A\n",
      "Processing user photos: 100%|██████████| 6/6 [00:08<00:00,  1.35s/it]\u001b[A\n",
      "Processing users:  48%|████▊     | 24/50 [01:47<02:46,  6.40s/it]    \u001b[A\n",
      "Processing user photos:   0%|          | 0/4 [00:00<?, ?it/s]\u001b[A\n",
      "Processing user photos:  25%|██▌       | 1/4 [00:01<00:04,  1.41s/it]\u001b[A\n",
      "Processing user photos:  50%|█████     | 2/4 [00:02<00:02,  1.26s/it]\u001b[A\n",
      "Processing user photos:  75%|███████▌  | 3/4 [00:04<00:01,  1.54s/it]\u001b[A\n",
      "Processing user photos: 100%|██████████| 4/4 [00:05<00:00,  1.38s/it]\u001b[A\n",
      "Processing users:  50%|█████     | 25/50 [01:52<02:33,  6.15s/it]    \u001b[A\n",
      "Processing user photos:   0%|          | 0/6 [00:00<?, ?it/s]\u001b[A\n",
      "Processing user photos:  17%|█▋        | 1/6 [00:01<00:05,  1.11s/it]\u001b[A\n",
      "Processing user photos:  33%|███▎      | 2/6 [00:02<00:04,  1.11s/it]\u001b[A\n",
      "Processing user photos:  50%|█████     | 3/6 [00:03<00:03,  1.24s/it]\u001b[A\n",
      "Processing user photos:  67%|██████▋   | 4/6 [00:05<00:02,  1.35s/it]\u001b[A\n",
      "Processing user photos:  83%|████████▎ | 5/6 [00:06<00:01,  1.41s/it]\u001b[A\n",
      "Processing user photos: 100%|██████████| 6/6 [00:08<00:00,  1.42s/it]\u001b[A\n",
      "Processing users:  52%|█████▏    | 26/50 [02:00<02:41,  6.73s/it]    \u001b[A\n",
      "Processing user photos:   0%|          | 0/1 [00:00<?, ?it/s]\u001b[A\n",
      "Processing user photos: 100%|██████████| 1/1 [00:01<00:00,  1.27s/it]\u001b[A\n",
      "Processing users:  54%|█████▍    | 27/50 [02:02<01:57,  5.10s/it]    \u001b[A\n",
      "Processing user photos:   0%|          | 0/5 [00:00<?, ?it/s]\u001b[A\n",
      "Processing user photos:  20%|██        | 1/5 [00:01<00:04,  1.20s/it]\u001b[A\n",
      "Processing user photos:  40%|████      | 2/5 [00:02<00:03,  1.14s/it]\u001b[A\n",
      "Processing user photos:  60%|██████    | 3/5 [00:03<00:02,  1.12s/it]\u001b[A\n",
      "Processing user photos:  80%|████████  | 4/5 [00:04<00:01,  1.12s/it]\u001b[A\n",
      "Processing user photos: 100%|██████████| 5/5 [00:05<00:00,  1.12s/it]\u001b[A\n",
      "Processing users:  56%|█████▌    | 28/50 [02:07<01:55,  5.26s/it]    \u001b[A\n",
      "Processing user photos:   0%|          | 0/4 [00:00<?, ?it/s]\u001b[A\n",
      "Processing user photos:  25%|██▌       | 1/4 [00:01<00:03,  1.10s/it]\u001b[A\n",
      "Processing user photos:  50%|█████     | 2/4 [00:02<00:02,  1.09s/it]\u001b[A\n",
      "Processing user photos:  75%|███████▌  | 3/4 [00:03<00:01,  1.09s/it]\u001b[A\n",
      "Processing user photos: 100%|██████████| 4/4 [00:04<00:00,  1.09s/it]\u001b[A\n",
      "Processing users:  58%|█████▊    | 29/50 [02:12<01:44,  4.99s/it]    \u001b[A\n",
      "Processing user photos:   0%|          | 0/3 [00:00<?, ?it/s]\u001b[A\n",
      "Processing user photos:  33%|███▎      | 1/3 [00:01<00:02,  1.06s/it]\u001b[A\n",
      "Processing user photos:  67%|██████▋   | 2/3 [00:02<00:01,  1.07s/it]\u001b[A\n",
      "Processing user photos: 100%|██████████| 3/3 [00:03<00:00,  1.09s/it]\u001b[A\n",
      "Processing users:  60%|██████    | 30/50 [02:15<01:29,  4.47s/it]    \u001b[A\n",
      "Processing user photos:   0%|          | 0/3 [00:00<?, ?it/s]\u001b[A\n",
      "Processing user photos:  33%|███▎      | 1/3 [00:01<00:02,  1.07s/it]\u001b[A\n",
      "Processing user photos:  67%|██████▋   | 2/3 [00:02<00:01,  1.09s/it]\u001b[A\n",
      "Processing user photos: 100%|██████████| 3/3 [00:03<00:00,  1.10s/it]\u001b[A\n",
      "Processing users:  62%|██████▏   | 31/50 [02:18<01:18,  4.12s/it]    \u001b[A\n",
      "Processing user photos:   0%|          | 0/6 [00:00<?, ?it/s]\u001b[A\n",
      "Processing user photos:  17%|█▋        | 1/6 [00:01<00:05,  1.11s/it]\u001b[A\n",
      "Processing user photos:  33%|███▎      | 2/6 [00:02<00:04,  1.11s/it]\u001b[A\n",
      "Processing user photos:  50%|█████     | 3/6 [00:03<00:03,  1.10s/it]\u001b[A\n",
      "Processing user photos:  67%|██████▋   | 4/6 [00:04<00:02,  1.11s/it]\u001b[A\n",
      "Processing user photos:  83%|████████▎ | 5/6 [00:05<00:01,  1.10s/it]\u001b[A\n",
      "Processing user photos: 100%|██████████| 6/6 [00:06<00:00,  1.09s/it]\u001b[A\n",
      "Processing users:  64%|██████▍   | 32/50 [02:25<01:27,  4.87s/it]    \u001b[A\n",
      "Processing user photos:   0%|          | 0/6 [00:00<?, ?it/s]\u001b[A\n",
      "Processing user photos:  17%|█▋        | 1/6 [00:01<00:05,  1.14s/it]\u001b[A\n",
      "Processing user photos:  33%|███▎      | 2/6 [00:02<00:04,  1.14s/it]\u001b[A\n",
      "Processing user photos:  50%|█████     | 3/6 [00:03<00:03,  1.13s/it]\u001b[A\n",
      "Processing user photos:  67%|██████▋   | 4/6 [00:04<00:02,  1.09s/it]\u001b[A\n",
      "Processing user photos:  83%|████████▎ | 5/6 [00:05<00:01,  1.08s/it]\u001b[A\n",
      "Processing user photos: 100%|██████████| 6/6 [00:06<00:00,  1.07s/it]\u001b[A\n",
      "Processing users:  66%|██████▌   | 33/50 [02:31<01:31,  5.37s/it]    \u001b[A\n",
      "Processing user photos:   0%|          | 0/4 [00:00<?, ?it/s]\u001b[A\n",
      "Processing user photos:  25%|██▌       | 1/4 [00:01<00:03,  1.08s/it]\u001b[A\n",
      "Processing user photos:  50%|█████     | 2/4 [00:02<00:02,  1.08s/it]\u001b[A\n",
      "Processing user photos:  75%|███████▌  | 3/4 [00:03<00:01,  1.07s/it]\u001b[A\n",
      "Processing user photos: 100%|██████████| 4/4 [00:04<00:00,  1.08s/it]\u001b[A\n",
      "Processing users:  68%|██████▊   | 34/50 [02:36<01:20,  5.06s/it]    \u001b[A\n",
      "Processing user photos:   0%|          | 0/5 [00:00<?, ?it/s]\u001b[A\n",
      "Processing user photos:  20%|██        | 1/5 [00:01<00:04,  1.06s/it]\u001b[A\n",
      "Processing user photos:  40%|████      | 2/5 [00:02<00:03,  1.05s/it]\u001b[A\n",
      "Processing user photos:  60%|██████    | 3/5 [00:03<00:02,  1.07s/it]\u001b[A\n",
      "Processing user photos:  80%|████████  | 4/5 [00:04<00:01,  1.06s/it]\u001b[A\n",
      "Processing user photos: 100%|██████████| 5/5 [00:05<00:00,  1.07s/it]\u001b[A\n",
      "Processing users:  70%|███████   | 35/50 [02:41<01:17,  5.14s/it]    \u001b[A\n",
      "Processing user photos:   0%|          | 0/3 [00:00<?, ?it/s]\u001b[A\n",
      "Processing user photos:  33%|███▎      | 1/3 [00:01<00:02,  1.07s/it]\u001b[A\n",
      "Processing user photos:  67%|██████▋   | 2/3 [00:02<00:01,  1.07s/it]\u001b[A\n",
      "Processing user photos: 100%|██████████| 3/3 [00:03<00:00,  1.10s/it]\u001b[A\n",
      "Processing users:  72%|███████▏  | 36/50 [02:44<01:04,  4.59s/it]    \u001b[A\n",
      "Processing user photos:   0%|          | 0/2 [00:00<?, ?it/s]\u001b[A\n",
      "Processing user photos:  50%|█████     | 1/2 [00:01<00:01,  1.10s/it]\u001b[A\n",
      "Processing user photos: 100%|██████████| 2/2 [00:02<00:00,  1.14s/it]\u001b[A\n",
      "Processing users:  74%|███████▍  | 37/50 [02:47<00:50,  3.90s/it]    \u001b[A\n",
      "Processing user photos:   0%|          | 0/1 [00:00<?, ?it/s]\u001b[A\n",
      "Processing user photos: 100%|██████████| 1/1 [00:01<00:00,  1.10s/it]\u001b[A\n",
      "Processing users:  76%|███████▌  | 38/50 [02:48<00:36,  3.06s/it]    \u001b[A\n",
      "Processing user photos:   0%|          | 0/6 [00:00<?, ?it/s]\u001b[A\n",
      "Processing user photos:  17%|█▋        | 1/6 [00:01<00:05,  1.16s/it]\u001b[A\n",
      "Processing user photos:  33%|███▎      | 2/6 [00:02<00:04,  1.12s/it]\u001b[A\n",
      "Processing user photos:  50%|█████     | 3/6 [00:03<00:03,  1.10s/it]\u001b[A\n",
      "Processing user photos:  67%|██████▋   | 4/6 [00:04<00:02,  1.11s/it]\u001b[A\n",
      "Processing user photos:  83%|████████▎ | 5/6 [00:05<00:01,  1.11s/it]\u001b[A\n",
      "Processing user photos: 100%|██████████| 6/6 [00:06<00:00,  1.13s/it]\u001b[A\n",
      "Processing users:  78%|███████▊  | 39/50 [02:55<00:45,  4.16s/it]    \u001b[A\n",
      "Processing user photos:   0%|          | 0/5 [00:00<?, ?it/s]\u001b[A\n",
      "Processing user photos:  20%|██        | 1/5 [00:01<00:04,  1.16s/it]\u001b[A\n",
      "Processing user photos:  40%|████      | 2/5 [00:02<00:03,  1.16s/it]\u001b[A\n",
      "Processing user photos:  60%|██████    | 3/5 [00:03<00:02,  1.17s/it]\u001b[A\n",
      "Processing user photos:  80%|████████  | 4/5 [00:04<00:01,  1.20s/it]\u001b[A\n",
      "Processing user photos: 100%|██████████| 5/5 [00:05<00:00,  1.19s/it]\u001b[A\n",
      "Processing users:  80%|████████  | 40/50 [03:00<00:46,  4.69s/it]    \u001b[A\n",
      "Processing user photos:   0%|          | 0/4 [00:00<?, ?it/s]\u001b[A\n",
      "Processing user photos:  25%|██▌       | 1/4 [00:01<00:03,  1.14s/it]\u001b[A\n",
      "Processing user photos:  50%|█████     | 2/4 [00:02<00:02,  1.15s/it]\u001b[A\n",
      "Processing user photos:  75%|███████▌  | 3/4 [00:03<00:01,  1.15s/it]\u001b[A\n",
      "Processing user photos: 100%|██████████| 4/4 [00:04<00:00,  1.15s/it]\u001b[A\n",
      "Processing users:  82%|████████▏ | 41/50 [03:05<00:42,  4.67s/it]    \u001b[A\n",
      "Processing user photos:   0%|          | 0/4 [00:00<?, ?it/s]\u001b[A\n",
      "Processing user photos:  25%|██▌       | 1/4 [00:01<00:03,  1.11s/it]\u001b[A\n",
      "Processing user photos:  50%|█████     | 2/4 [00:02<00:02,  1.10s/it]\u001b[A\n",
      "Processing user photos:  75%|███████▌  | 3/4 [00:03<00:01,  1.10s/it]\u001b[A\n",
      "Processing user photos: 100%|██████████| 4/4 [00:04<00:00,  1.12s/it]\u001b[A\n",
      "Processing users:  84%|████████▍ | 42/50 [03:09<00:36,  4.60s/it]    \u001b[A\n",
      "Processing user photos:   0%|          | 0/2 [00:00<?, ?it/s]\u001b[A\n",
      "Processing user photos:  50%|█████     | 1/2 [00:01<00:01,  1.17s/it]\u001b[A\n",
      "Processing user photos: 100%|██████████| 2/2 [00:02<00:00,  1.13s/it]\u001b[A\n",
      "Processing users:  86%|████████▌ | 43/50 [03:12<00:27,  3.90s/it]    \u001b[A\n",
      "Processing user photos:   0%|          | 0/3 [00:00<?, ?it/s]\u001b[A\n",
      "Processing user photos:  33%|███▎      | 1/3 [00:01<00:02,  1.14s/it]\u001b[A\n",
      "Processing user photos:  67%|██████▋   | 2/3 [00:02<00:01,  1.16s/it]\u001b[A\n",
      "Processing user photos: 100%|██████████| 3/3 [00:03<00:00,  1.14s/it]\u001b[A\n",
      "Processing users:  88%|████████▊ | 44/50 [03:15<00:22,  3.76s/it]    \u001b[A\n",
      "Processing user photos:   0%|          | 0/1 [00:00<?, ?it/s]\u001b[A\n",
      "Processing user photos: 100%|██████████| 1/1 [00:01<00:00,  1.17s/it]\u001b[A\n",
      "Processing users:  90%|█████████ | 45/50 [03:16<00:14,  2.98s/it]    \u001b[A\n",
      "Processing user photos:   0%|          | 0/4 [00:00<?, ?it/s]\u001b[A\n",
      "Processing user photos:  25%|██▌       | 1/4 [00:01<00:03,  1.08s/it]\u001b[A\n",
      "Processing user photos:  50%|█████     | 2/4 [00:02<00:02,  1.09s/it]\u001b[A\n",
      "Processing user photos:  75%|███████▌  | 3/4 [00:03<00:01,  1.12s/it]\u001b[A\n",
      "Processing user photos: 100%|██████████| 4/4 [00:04<00:00,  1.12s/it]\u001b[A\n",
      "Processing users:  92%|█████████▏| 46/50 [03:21<00:13,  3.43s/it]    \u001b[A\n",
      "Processing user photos:   0%|          | 0/4 [00:00<?, ?it/s]\u001b[A\n",
      "Processing user photos:  25%|██▌       | 1/4 [00:01<00:03,  1.32s/it]\u001b[A\n",
      "Processing user photos:  50%|█████     | 2/4 [00:02<00:02,  1.17s/it]\u001b[A\n",
      "Processing user photos:  75%|███████▌  | 3/4 [00:03<00:01,  1.16s/it]\u001b[A\n",
      "Processing user photos: 100%|██████████| 4/4 [00:04<00:00,  1.24s/it]\u001b[A\n",
      "Processing users:  94%|█████████▍| 47/50 [03:26<00:11,  3.87s/it]    \u001b[A\n",
      "Processing user photos:   0%|          | 0/6 [00:00<?, ?it/s]\u001b[A\n",
      "Processing user photos:  17%|█▋        | 1/6 [00:01<00:06,  1.22s/it]\u001b[A\n",
      "Processing user photos:  33%|███▎      | 2/6 [00:02<00:04,  1.15s/it]\u001b[A\n",
      "Processing user photos:  50%|█████     | 3/6 [00:03<00:03,  1.12s/it]\u001b[A\n",
      "Processing user photos:  67%|██████▋   | 4/6 [00:04<00:02,  1.11s/it]\u001b[A\n",
      "Processing user photos:  83%|████████▎ | 5/6 [00:05<00:01,  1.11s/it]\u001b[A\n",
      "Processing user photos: 100%|██████████| 6/6 [00:06<00:00,  1.11s/it]\u001b[A\n",
      "Processing users:  96%|█████████▌| 48/50 [03:32<00:09,  4.73s/it]    \u001b[A\n",
      "Processing user photos:   0%|          | 0/4 [00:00<?, ?it/s]\u001b[A\n",
      "Processing user photos:  25%|██▌       | 1/4 [00:01<00:03,  1.14s/it]\u001b[A\n",
      "Processing user photos:  50%|█████     | 2/4 [00:02<00:02,  1.11s/it]\u001b[A\n",
      "Processing user photos:  75%|███████▌  | 3/4 [00:03<00:01,  1.13s/it]\u001b[A\n",
      "Processing user photos: 100%|██████████| 4/4 [00:04<00:00,  1.15s/it]\u001b[A\n",
      "Processing users:  98%|█████████▊| 49/50 [03:37<00:04,  4.68s/it]    \u001b[A\n",
      "Processing user photos:   0%|          | 0/5 [00:00<?, ?it/s]\u001b[A\n",
      "Processing user photos:  20%|██        | 1/5 [00:01<00:04,  1.12s/it]\u001b[A\n",
      "Processing user photos:  40%|████      | 2/5 [00:02<00:03,  1.11s/it]\u001b[A\n",
      "Processing user photos:  60%|██████    | 3/5 [00:03<00:02,  1.08s/it]\u001b[A\n",
      "Processing user photos:  80%|████████  | 4/5 [00:04<00:01,  1.09s/it]\u001b[A\n",
      "Processing user photos: 100%|██████████| 5/5 [00:05<00:00,  1.10s/it]\u001b[A\n",
      "Processing users: 100%|██████████| 50/50 [03:43<00:00,  4.46s/it]    \u001b[A\n"
     ]
    }
   ],
   "source": [
    "incoming_authorized_users_path = os.path.join(\n",
    "    \"data\", \"database\", \"incoming_users\", \"authorized_users\"\n",
    ")\n",
    "\n",
    "for person_id in tqdm(\n",
    "    iterable=os.listdir(incoming_authorized_users_path), desc=\"Processing users\"\n",
    "):\n",
    "    for person_photo in tqdm(\n",
    "        iterable=os.listdir(os.path.join(incoming_authorized_users_path, person_id)),\n",
    "        desc=\"Processing user photos\",\n",
    "        leave=False,\n",
    "    ):\n",
    "        faces_found = DeepFace.find(\n",
    "            img_path=os.path.join(\n",
    "                incoming_authorized_users_path, person_id, person_photo\n",
    "            ),\n",
    "            db_path=os.path.join(\"data\", \"database\", \"authorized_users\"),\n",
    "            enforce_detection=False,\n",
    "            silent=True,\n",
    "        )\n",
    "\n",
    "        predicted_user_name = faces_found[0][\"identity\"].apply(\n",
    "            lambda x: Path(x).parts[3]\n",
    "        )[\n",
    "            0\n",
    "        ]  # get best match\n",
    "\n",
    "        predicted_cosine_distance = faces_found[0][\"distance\"]\n",
    "\n",
    "        df_tested_user = pd.DataFrame(\n",
    "            {\n",
    "                \"image_path\": os.path.join(\n",
    "                    incoming_authorized_users_path, person_id, person_photo\n",
    "                ),\n",
    "                \"truth_label\": person_id,\n",
    "                \"predicted_label\": predicted_user_name,\n",
    "                \"cosine_distance\": predicted_cosine_distance,\n",
    "            },\n",
    "            index=[0],\n",
    "        )\n",
    "\n",
    "        testing_authorized_users = pd.concat(\n",
    "            [testing_authorized_users, df_tested_user], ignore_index=True\n",
    "        )"
   ],
   "metadata": {
    "collapsed": false,
    "ExecuteTime": {
     "end_time": "2024-04-03T13:38:15.862959Z",
     "start_time": "2024-04-03T13:34:32.844614Z"
    }
   },
   "id": "bbfbef7e3e61642",
   "execution_count": 16
  },
  {
   "cell_type": "code",
   "outputs": [],
   "source": [
    "acceptance_threshold = 0.5\n",
    "\n",
    "testing_authorized_users[\"grant_access\"] = (\n",
    "    testing_authorized_users[\"cosine_distance\"] < acceptance_threshold\n",
    ") * 1"
   ],
   "metadata": {
    "collapsed": false,
    "ExecuteTime": {
     "end_time": "2024-04-03T13:48:02.876814Z",
     "start_time": "2024-04-03T13:48:02.872534Z"
    }
   },
   "id": "5583857168305ebd",
   "execution_count": 59
  },
  {
   "cell_type": "code",
   "outputs": [],
   "source": [
    "testing_authorized_users[\"is_match\"] = (\n",
    "    testing_authorized_users[\"truth_label\"]\n",
    "    == testing_authorized_users[\"predicted_label\"]\n",
    ") * 1"
   ],
   "metadata": {
    "collapsed": false,
    "ExecuteTime": {
     "end_time": "2024-04-03T13:48:03.248909Z",
     "start_time": "2024-04-03T13:48:03.245554Z"
    }
   },
   "id": "665ee688bf2f0946",
   "execution_count": 60
  },
  {
   "cell_type": "code",
   "outputs": [
    {
     "data": {
      "text/plain": "0.9146919431279621"
     },
     "execution_count": 61,
     "metadata": {},
     "output_type": "execute_result"
    }
   ],
   "source": [
    "testing_authorized_users[\"is_match\"].sum() / len(testing_authorized_users)"
   ],
   "metadata": {
    "collapsed": false,
    "ExecuteTime": {
     "end_time": "2024-04-03T13:48:03.653151Z",
     "start_time": "2024-04-03T13:48:03.646097Z"
    }
   },
   "id": "4845b9353e0db3ec",
   "execution_count": 61
  },
  {
   "cell_type": "code",
   "outputs": [
    {
     "data": {
      "text/plain": "0.8767772511848341"
     },
     "execution_count": 62,
     "metadata": {},
     "output_type": "execute_result"
    }
   ],
   "source": [
    "testing_authorized_users[\"grant_access\"].sum() / len(testing_authorized_users)"
   ],
   "metadata": {
    "collapsed": false,
    "ExecuteTime": {
     "end_time": "2024-04-03T13:48:04.017838Z",
     "start_time": "2024-04-03T13:48:04.012998Z"
    }
   },
   "id": "c5c0dc8c55883f85",
   "execution_count": 62
  },
  {
   "cell_type": "code",
   "outputs": [
    {
     "data": {
      "text/plain": "                                            image_path truth_label  \\\n0    data\\database\\incoming_users\\authorized_users\\...          50   \n1    data\\database\\incoming_users\\authorized_users\\...          50   \n2    data\\database\\incoming_users\\authorized_users\\...          50   \n3    data\\database\\incoming_users\\authorized_users\\...           1   \n4    data\\database\\incoming_users\\authorized_users\\...           1   \n..                                                 ...         ...   \n206  data\\database\\incoming_users\\authorized_users\\...          49   \n207  data\\database\\incoming_users\\authorized_users\\...          49   \n208  data\\database\\incoming_users\\authorized_users\\...          49   \n209  data\\database\\incoming_users\\authorized_users\\...          49   \n210  data\\database\\incoming_users\\authorized_users\\...          49   \n\n    predicted_label  cosine_distance  grant_access  is_match  \n0                50         0.351713             1         1  \n1                50         0.366908             1         1  \n2                50         0.369449             1         1  \n3                 1         0.330864             1         1  \n4                 8         0.579042             0         0  \n..              ...              ...           ...       ...  \n206              49         0.426673             1         1  \n207              49         0.454959             1         1  \n208              49         0.338384             1         1  \n209              49         0.338594             1         1  \n210              49         0.448946             1         1  \n\n[211 rows x 6 columns]",
      "text/html": "<div>\n<style scoped>\n    .dataframe tbody tr th:only-of-type {\n        vertical-align: middle;\n    }\n\n    .dataframe tbody tr th {\n        vertical-align: top;\n    }\n\n    .dataframe thead th {\n        text-align: right;\n    }\n</style>\n<table border=\"1\" class=\"dataframe\">\n  <thead>\n    <tr style=\"text-align: right;\">\n      <th></th>\n      <th>image_path</th>\n      <th>truth_label</th>\n      <th>predicted_label</th>\n      <th>cosine_distance</th>\n      <th>grant_access</th>\n      <th>is_match</th>\n    </tr>\n  </thead>\n  <tbody>\n    <tr>\n      <th>0</th>\n      <td>data\\database\\incoming_users\\authorized_users\\...</td>\n      <td>50</td>\n      <td>50</td>\n      <td>0.351713</td>\n      <td>1</td>\n      <td>1</td>\n    </tr>\n    <tr>\n      <th>1</th>\n      <td>data\\database\\incoming_users\\authorized_users\\...</td>\n      <td>50</td>\n      <td>50</td>\n      <td>0.366908</td>\n      <td>1</td>\n      <td>1</td>\n    </tr>\n    <tr>\n      <th>2</th>\n      <td>data\\database\\incoming_users\\authorized_users\\...</td>\n      <td>50</td>\n      <td>50</td>\n      <td>0.369449</td>\n      <td>1</td>\n      <td>1</td>\n    </tr>\n    <tr>\n      <th>3</th>\n      <td>data\\database\\incoming_users\\authorized_users\\...</td>\n      <td>1</td>\n      <td>1</td>\n      <td>0.330864</td>\n      <td>1</td>\n      <td>1</td>\n    </tr>\n    <tr>\n      <th>4</th>\n      <td>data\\database\\incoming_users\\authorized_users\\...</td>\n      <td>1</td>\n      <td>8</td>\n      <td>0.579042</td>\n      <td>0</td>\n      <td>0</td>\n    </tr>\n    <tr>\n      <th>...</th>\n      <td>...</td>\n      <td>...</td>\n      <td>...</td>\n      <td>...</td>\n      <td>...</td>\n      <td>...</td>\n    </tr>\n    <tr>\n      <th>206</th>\n      <td>data\\database\\incoming_users\\authorized_users\\...</td>\n      <td>49</td>\n      <td>49</td>\n      <td>0.426673</td>\n      <td>1</td>\n      <td>1</td>\n    </tr>\n    <tr>\n      <th>207</th>\n      <td>data\\database\\incoming_users\\authorized_users\\...</td>\n      <td>49</td>\n      <td>49</td>\n      <td>0.454959</td>\n      <td>1</td>\n      <td>1</td>\n    </tr>\n    <tr>\n      <th>208</th>\n      <td>data\\database\\incoming_users\\authorized_users\\...</td>\n      <td>49</td>\n      <td>49</td>\n      <td>0.338384</td>\n      <td>1</td>\n      <td>1</td>\n    </tr>\n    <tr>\n      <th>209</th>\n      <td>data\\database\\incoming_users\\authorized_users\\...</td>\n      <td>49</td>\n      <td>49</td>\n      <td>0.338594</td>\n      <td>1</td>\n      <td>1</td>\n    </tr>\n    <tr>\n      <th>210</th>\n      <td>data\\database\\incoming_users\\authorized_users\\...</td>\n      <td>49</td>\n      <td>49</td>\n      <td>0.448946</td>\n      <td>1</td>\n      <td>1</td>\n    </tr>\n  </tbody>\n</table>\n<p>211 rows × 6 columns</p>\n</div>"
     },
     "execution_count": 63,
     "metadata": {},
     "output_type": "execute_result"
    }
   ],
   "source": [
    "testing_authorized_users"
   ],
   "metadata": {
    "collapsed": false,
    "ExecuteTime": {
     "end_time": "2024-04-03T13:48:05.021338Z",
     "start_time": "2024-04-03T13:48:05.013272Z"
    }
   },
   "id": "d9b90f87187f43d",
   "execution_count": 63
  },
  {
   "cell_type": "markdown",
   "source": [
    "# Testing Unauthorized Users"
   ],
   "metadata": {
    "collapsed": false
   },
   "id": "11cdb41c7a388ffa"
  },
  {
   "cell_type": "code",
   "outputs": [],
   "source": [
    "testing_unauthorized_users = pd.DataFrame(\n",
    "    columns=[\"image_path\", \"truth_label\", \"predicted_label\", \"cosine_distance\"]\n",
    ")"
   ],
   "metadata": {
    "collapsed": false,
    "ExecuteTime": {
     "end_time": "2024-04-03T13:38:16.053741Z",
     "start_time": "2024-04-03T13:38:16.049591Z"
    }
   },
   "id": "ed428b32582f544c",
   "execution_count": 21
  },
  {
   "cell_type": "code",
   "outputs": [
    {
     "name": "stderr",
     "output_type": "stream",
     "text": [
      "Processing users:   0%|          | 0/50 [00:00<?, ?it/s]\n",
      "Processing user photos:   0%|          | 0/3 [00:00<?, ?it/s]\u001b[A\n",
      "Processing user photos:  33%|███▎      | 1/3 [00:01<00:02,  1.32s/it]\u001b[A\n",
      "Processing user photos:  67%|██████▋   | 2/3 [00:02<00:01,  1.14s/it]\u001b[A\n",
      "Processing user photos: 100%|██████████| 3/3 [00:03<00:00,  1.10s/it]\u001b[A\n",
      "Processing users:   2%|▏         | 1/50 [00:03<02:46,  3.39s/it]     \u001b[A\n",
      "Processing user photos:   0%|          | 0/5 [00:00<?, ?it/s]\u001b[A\n",
      "Processing user photos:  20%|██        | 1/5 [00:01<00:04,  1.09s/it]\u001b[A\n",
      "Processing user photos:  40%|████      | 2/5 [00:02<00:03,  1.04s/it]\u001b[A\n",
      "Processing user photos:  60%|██████    | 3/5 [00:03<00:02,  1.02s/it]\u001b[A\n",
      "Processing user photos:  80%|████████  | 4/5 [00:04<00:01,  1.02s/it]\u001b[A\n",
      "Processing user photos: 100%|██████████| 5/5 [00:05<00:00,  1.02s/it]\u001b[A\n",
      "Processing users:   4%|▍         | 2/50 [00:08<03:32,  4.42s/it]     \u001b[A\n",
      "Processing user photos:   0%|          | 0/4 [00:00<?, ?it/s]\u001b[A\n",
      "Processing user photos:  25%|██▌       | 1/4 [00:01<00:03,  1.01s/it]\u001b[A\n",
      "Processing user photos:  50%|█████     | 2/4 [00:02<00:02,  1.02s/it]\u001b[A\n",
      "Processing user photos:  75%|███████▌  | 3/4 [00:03<00:01,  1.00s/it]\u001b[A\n",
      "Processing user photos: 100%|██████████| 4/4 [00:04<00:00,  1.00it/s]\u001b[A\n",
      "Processing users:   6%|▌         | 3/50 [00:12<03:19,  4.24s/it]     \u001b[A\n",
      "Processing user photos:   0%|          | 0/5 [00:00<?, ?it/s]\u001b[A\n",
      "Processing user photos:  20%|██        | 1/5 [00:00<00:03,  1.02it/s]\u001b[A\n",
      "Processing user photos:  40%|████      | 2/5 [00:01<00:02,  1.00it/s]\u001b[A\n",
      "Processing user photos:  60%|██████    | 3/5 [00:02<00:01,  1.01it/s]\u001b[A\n",
      "Processing user photos:  80%|████████  | 4/5 [00:03<00:00,  1.00it/s]\u001b[A\n",
      "Processing user photos: 100%|██████████| 5/5 [00:04<00:00,  1.00s/it]\u001b[A\n",
      "Processing users:   8%|▊         | 4/50 [00:17<03:28,  4.54s/it]     \u001b[A\n",
      "Processing user photos:   0%|          | 0/5 [00:00<?, ?it/s]\u001b[A\n",
      "Processing user photos:  20%|██        | 1/5 [00:00<00:03,  1.02it/s]\u001b[A\n",
      "Processing user photos:  40%|████      | 2/5 [00:02<00:03,  1.00s/it]\u001b[A\n",
      "Processing user photos:  60%|██████    | 3/5 [00:03<00:02,  1.02s/it]\u001b[A\n",
      "Processing user photos:  80%|████████  | 4/5 [00:04<00:01,  1.01s/it]\u001b[A\n",
      "Processing user photos: 100%|██████████| 5/5 [00:05<00:00,  1.01s/it]\u001b[A\n",
      "Processing users:  10%|█         | 5/50 [00:22<03:32,  4.72s/it]     \u001b[A\n",
      "Processing user photos:   0%|          | 0/4 [00:00<?, ?it/s]\u001b[A\n",
      "Processing user photos:  25%|██▌       | 1/4 [00:01<00:03,  1.01s/it]\u001b[A\n",
      "Processing user photos:  50%|█████     | 2/4 [00:02<00:02,  1.01s/it]\u001b[A\n",
      "Processing user photos:  75%|███████▌  | 3/4 [00:03<00:01,  1.01s/it]\u001b[A\n",
      "Processing user photos: 100%|██████████| 4/4 [00:04<00:00,  1.02s/it]\u001b[A\n",
      "Processing users:  12%|█▏        | 6/50 [00:26<03:18,  4.50s/it]     \u001b[A\n",
      "Processing user photos:   0%|          | 0/4 [00:00<?, ?it/s]\u001b[A\n",
      "Processing user photos:  25%|██▌       | 1/4 [00:01<00:03,  1.14s/it]\u001b[A\n",
      "Processing user photos:  50%|█████     | 2/4 [00:02<00:02,  1.15s/it]\u001b[A\n",
      "Processing user photos:  75%|███████▌  | 3/4 [00:03<00:01,  1.10s/it]\u001b[A\n",
      "Processing user photos: 100%|██████████| 4/4 [00:04<00:00,  1.08s/it]\u001b[A\n",
      "Processing users:  14%|█▍        | 7/50 [00:31<03:11,  4.46s/it]     \u001b[A\n",
      "Processing user photos:   0%|          | 0/5 [00:00<?, ?it/s]\u001b[A\n",
      "Processing user photos:  20%|██        | 1/5 [00:01<00:04,  1.03s/it]\u001b[A\n",
      "Processing user photos:  40%|████      | 2/5 [00:02<00:03,  1.04s/it]\u001b[A\n",
      "Processing user photos:  60%|██████    | 3/5 [00:03<00:02,  1.03s/it]\u001b[A\n",
      "Processing user photos:  80%|████████  | 4/5 [00:04<00:01,  1.07s/it]\u001b[A\n",
      "Processing user photos: 100%|██████████| 5/5 [00:05<00:00,  1.06s/it]\u001b[A\n",
      "Processing users:  16%|█▌        | 8/50 [00:36<03:18,  4.72s/it]     \u001b[A\n",
      "Processing user photos:   0%|          | 0/5 [00:00<?, ?it/s]\u001b[A\n",
      "Processing user photos:  20%|██        | 1/5 [00:01<00:04,  1.00s/it]\u001b[A\n",
      "Processing user photos:  40%|████      | 2/5 [00:02<00:03,  1.00s/it]\u001b[A\n",
      "Processing user photos:  60%|██████    | 3/5 [00:02<00:01,  1.01it/s]\u001b[A\n",
      "Processing user photos:  80%|████████  | 4/5 [00:04<00:01,  1.01s/it]\u001b[A\n",
      "Processing user photos: 100%|██████████| 5/5 [00:05<00:00,  1.03s/it]\u001b[A\n",
      "Processing users:  18%|█▊        | 9/50 [00:41<03:18,  4.83s/it]     \u001b[A\n",
      "Processing user photos:   0%|          | 0/3 [00:00<?, ?it/s]\u001b[A\n",
      "Processing user photos:  33%|███▎      | 1/3 [00:01<00:02,  1.05s/it]\u001b[A\n",
      "Processing user photos:  67%|██████▋   | 2/3 [00:02<00:01,  1.04s/it]\u001b[A\n",
      "Processing user photos: 100%|██████████| 3/3 [00:03<00:00,  1.03s/it]\u001b[A\n",
      "Processing users:  20%|██        | 10/50 [00:44<02:51,  4.30s/it]    \u001b[A\n",
      "Processing user photos:   0%|          | 0/5 [00:00<?, ?it/s]\u001b[A\n",
      "Processing user photos:  20%|██        | 1/5 [00:01<00:04,  1.01s/it]\u001b[A\n",
      "Processing user photos:  40%|████      | 2/5 [00:02<00:03,  1.02s/it]\u001b[A\n",
      "Processing user photos:  60%|██████    | 3/5 [00:03<00:02,  1.04s/it]\u001b[A\n",
      "Processing user photos:  80%|████████  | 4/5 [00:04<00:01,  1.04s/it]\u001b[A\n",
      "Processing user photos: 100%|██████████| 5/5 [00:05<00:00,  1.06s/it]\u001b[A\n",
      "Processing users:  22%|██▏       | 11/50 [00:49<02:58,  4.58s/it]    \u001b[A\n",
      "Processing user photos:   0%|          | 0/1 [00:00<?, ?it/s]\u001b[A\n",
      "Processing user photos: 100%|██████████| 1/1 [00:01<00:00,  1.04s/it]\u001b[A\n",
      "Processing users:  24%|██▍       | 12/50 [00:50<02:13,  3.51s/it]    \u001b[A\n",
      "Processing user photos:   0%|          | 0/2 [00:00<?, ?it/s]\u001b[A\n",
      "Processing user photos:  50%|█████     | 1/2 [00:01<00:01,  1.03s/it]\u001b[A\n",
      "Processing user photos: 100%|██████████| 2/2 [00:02<00:00,  1.09s/it]\u001b[A\n",
      "Processing users:  26%|██▌       | 13/50 [00:52<01:54,  3.10s/it]    \u001b[A\n",
      "Processing user photos:   0%|          | 0/5 [00:00<?, ?it/s]\u001b[A\n",
      "Processing user photos:  20%|██        | 1/5 [00:01<00:05,  1.41s/it]\u001b[A\n",
      "Processing user photos:  40%|████      | 2/5 [00:02<00:04,  1.50s/it]\u001b[A\n",
      "Processing user photos:  60%|██████    | 3/5 [00:04<00:03,  1.51s/it]\u001b[A\n",
      "Processing user photos:  80%|████████  | 4/5 [00:05<00:01,  1.45s/it]\u001b[A\n",
      "Processing user photos: 100%|██████████| 5/5 [00:07<00:00,  1.47s/it]\u001b[A\n",
      "Processing users:  28%|██▊       | 14/50 [01:00<02:37,  4.39s/it]    \u001b[A\n",
      "Processing user photos:   0%|          | 0/6 [00:00<?, ?it/s]\u001b[A\n",
      "Processing user photos:  17%|█▋        | 1/6 [00:01<00:05,  1.04s/it]\u001b[A\n",
      "Processing user photos:  33%|███▎      | 2/6 [00:02<00:04,  1.18s/it]\u001b[A\n",
      "Processing user photos:  50%|█████     | 3/6 [00:03<00:03,  1.15s/it]\u001b[A\n",
      "Processing user photos:  67%|██████▋   | 4/6 [00:04<00:02,  1.26s/it]\u001b[A\n",
      "Processing user photos:  83%|████████▎ | 5/6 [00:06<00:01,  1.36s/it]\u001b[A\n",
      "Processing user photos: 100%|██████████| 6/6 [00:07<00:00,  1.40s/it]\u001b[A\n",
      "Processing users:  30%|███       | 15/50 [01:08<03:10,  5.44s/it]    \u001b[A\n",
      "Processing user photos:   0%|          | 0/4 [00:00<?, ?it/s]\u001b[A\n",
      "Processing user photos:  25%|██▌       | 1/4 [00:01<00:03,  1.24s/it]\u001b[A\n",
      "Processing user photos:  50%|█████     | 2/4 [00:02<00:02,  1.18s/it]\u001b[A\n",
      "Processing user photos:  75%|███████▌  | 3/4 [00:03<00:01,  1.26s/it]\u001b[A\n",
      "Processing user photos: 100%|██████████| 4/4 [00:05<00:00,  1.32s/it]\u001b[A\n",
      "Processing users:  32%|███▏      | 16/50 [01:13<03:02,  5.36s/it]    \u001b[A\n",
      "Processing user photos:   0%|          | 0/5 [00:00<?, ?it/s]\u001b[A\n",
      "Processing user photos:  20%|██        | 1/5 [00:01<00:04,  1.16s/it]\u001b[A\n",
      "Processing user photos:  40%|████      | 2/5 [00:02<00:03,  1.15s/it]\u001b[A\n",
      "Processing user photos:  60%|██████    | 3/5 [00:03<00:02,  1.12s/it]\u001b[A\n",
      "Processing user photos:  80%|████████  | 4/5 [00:04<00:01,  1.10s/it]\u001b[A\n",
      "Processing user photos: 100%|██████████| 5/5 [00:05<00:00,  1.09s/it]\u001b[A\n",
      "Processing users:  34%|███▍      | 17/50 [01:18<02:58,  5.41s/it]    \u001b[A\n",
      "Processing user photos:   0%|          | 0/4 [00:00<?, ?it/s]\u001b[A\n",
      "Processing user photos:  25%|██▌       | 1/4 [00:01<00:03,  1.07s/it]\u001b[A\n",
      "Processing user photos:  50%|█████     | 2/4 [00:02<00:02,  1.12s/it]\u001b[A\n",
      "Processing user photos:  75%|███████▌  | 3/4 [00:03<00:01,  1.10s/it]\u001b[A\n",
      "Processing user photos: 100%|██████████| 4/4 [00:04<00:00,  1.11s/it]\u001b[A\n",
      "Processing users:  36%|███▌      | 18/50 [01:23<02:43,  5.12s/it]    \u001b[A\n",
      "Processing user photos:   0%|          | 0/5 [00:00<?, ?it/s]\u001b[A\n",
      "Processing user photos:  20%|██        | 1/5 [00:01<00:04,  1.11s/it]\u001b[A\n",
      "Processing user photos:  40%|████      | 2/5 [00:02<00:03,  1.08s/it]\u001b[A\n",
      "Processing user photos:  60%|██████    | 3/5 [00:03<00:02,  1.10s/it]\u001b[A\n",
      "Processing user photos:  80%|████████  | 4/5 [00:04<00:01,  1.10s/it]\u001b[A\n",
      "Processing user photos: 100%|██████████| 5/5 [00:05<00:00,  1.10s/it]\u001b[A\n",
      "Processing users:  38%|███▊      | 19/50 [01:28<02:42,  5.23s/it]    \u001b[A\n",
      "Processing user photos:   0%|          | 0/4 [00:00<?, ?it/s]\u001b[A\n",
      "Processing user photos:  25%|██▌       | 1/4 [00:01<00:03,  1.10s/it]\u001b[A\n",
      "Processing user photos:  50%|█████     | 2/4 [00:02<00:02,  1.09s/it]\u001b[A\n",
      "Processing user photos:  75%|███████▌  | 3/4 [00:03<00:01,  1.09s/it]\u001b[A\n",
      "Processing user photos: 100%|██████████| 4/4 [00:04<00:00,  1.10s/it]\u001b[A\n",
      "Processing users:  40%|████      | 20/50 [01:33<02:29,  4.99s/it]    \u001b[A\n",
      "Processing user photos:   0%|          | 0/3 [00:00<?, ?it/s]\u001b[A\n",
      "Processing user photos:  33%|███▎      | 1/3 [00:01<00:02,  1.10s/it]\u001b[A\n",
      "Processing user photos:  67%|██████▋   | 2/3 [00:02<00:01,  1.09s/it]\u001b[A\n",
      "Processing user photos: 100%|██████████| 3/3 [00:03<00:00,  1.10s/it]\u001b[A\n",
      "Processing users:  42%|████▏     | 21/50 [01:36<02:10,  4.48s/it]    \u001b[A\n",
      "Processing user photos:   0%|          | 0/5 [00:00<?, ?it/s]\u001b[A\n",
      "Processing user photos:  20%|██        | 1/5 [00:01<00:04,  1.10s/it]\u001b[A\n",
      "Processing user photos:  40%|████      | 2/5 [00:02<00:03,  1.09s/it]\u001b[A\n",
      "Processing user photos:  60%|██████    | 3/5 [00:03<00:02,  1.10s/it]\u001b[A\n",
      "Processing user photos:  80%|████████  | 4/5 [00:05<00:01,  1.39s/it]\u001b[A\n",
      "Processing user photos: 100%|██████████| 5/5 [00:06<00:00,  1.31s/it]\u001b[A\n",
      "Processing users:  44%|████▍     | 22/50 [01:42<02:20,  5.03s/it]    \u001b[A\n",
      "Processing user photos:   0%|          | 0/6 [00:00<?, ?it/s]\u001b[A\n",
      "Processing user photos:  17%|█▋        | 1/6 [00:01<00:05,  1.05s/it]\u001b[A\n",
      "Processing user photos:  33%|███▎      | 2/6 [00:02<00:04,  1.10s/it]\u001b[A\n",
      "Processing user photos:  50%|█████     | 3/6 [00:03<00:03,  1.12s/it]\u001b[A\n",
      "Processing user photos:  67%|██████▋   | 4/6 [00:04<00:02,  1.12s/it]\u001b[A\n",
      "Processing user photos:  83%|████████▎ | 5/6 [00:05<00:01,  1.12s/it]\u001b[A\n",
      "Processing user photos: 100%|██████████| 6/6 [00:06<00:00,  1.13s/it]\u001b[A\n",
      "Processing users:  46%|████▌     | 23/50 [01:49<02:29,  5.54s/it]    \u001b[A\n",
      "Processing user photos:   0%|          | 0/5 [00:00<?, ?it/s]\u001b[A\n",
      "Processing user photos:  20%|██        | 1/5 [00:01<00:04,  1.15s/it]\u001b[A\n",
      "Processing user photos:  40%|████      | 2/5 [00:02<00:03,  1.12s/it]\u001b[A\n",
      "Processing user photos:  60%|██████    | 3/5 [00:03<00:02,  1.13s/it]\u001b[A\n",
      "Processing user photos:  80%|████████  | 4/5 [00:04<00:01,  1.11s/it]\u001b[A\n",
      "Processing user photos: 100%|██████████| 5/5 [00:05<00:00,  1.08s/it]\u001b[A\n",
      "Processing users:  48%|████▊     | 24/50 [01:55<02:23,  5.53s/it]    \u001b[A\n",
      "Processing user photos:   0%|          | 0/5 [00:00<?, ?it/s]\u001b[A\n",
      "Processing user photos:  20%|██        | 1/5 [00:01<00:05,  1.36s/it]\u001b[A\n",
      "Processing user photos:  40%|████      | 2/5 [00:02<00:03,  1.23s/it]\u001b[A\n",
      "Processing user photos:  60%|██████    | 3/5 [00:03<00:02,  1.19s/it]\u001b[A\n",
      "Processing user photos:  80%|████████  | 4/5 [00:04<00:01,  1.17s/it]\u001b[A\n",
      "Processing user photos: 100%|██████████| 5/5 [00:05<00:00,  1.14s/it]\u001b[A\n",
      "Processing users:  50%|█████     | 25/50 [02:00<02:20,  5.63s/it]    \u001b[A\n",
      "Processing user photos:   0%|          | 0/5 [00:00<?, ?it/s]\u001b[A\n",
      "Processing user photos:  20%|██        | 1/5 [00:01<00:04,  1.09s/it]\u001b[A\n",
      "Processing user photos:  40%|████      | 2/5 [00:02<00:03,  1.10s/it]\u001b[A\n",
      "Processing user photos:  60%|██████    | 3/5 [00:03<00:02,  1.15s/it]\u001b[A\n",
      "Processing user photos:  80%|████████  | 4/5 [00:05<00:01,  1.39s/it]\u001b[A\n",
      "Processing user photos: 100%|██████████| 5/5 [00:06<00:00,  1.43s/it]\u001b[A\n",
      "Processing users:  52%|█████▏    | 26/50 [02:07<02:22,  5.94s/it]    \u001b[A\n",
      "Processing user photos:   0%|          | 0/5 [00:00<?, ?it/s]\u001b[A\n",
      "Processing user photos:  20%|██        | 1/5 [00:01<00:06,  1.74s/it]\u001b[A\n",
      "Processing user photos:  40%|████      | 2/5 [00:02<00:04,  1.41s/it]\u001b[A\n",
      "Processing user photos:  60%|██████    | 3/5 [00:04<00:02,  1.30s/it]\u001b[A\n",
      "Processing user photos:  80%|████████  | 4/5 [00:05<00:01,  1.37s/it]\u001b[A\n",
      "Processing user photos: 100%|██████████| 5/5 [00:07<00:00,  1.49s/it]\u001b[A\n",
      "Processing users:  54%|█████▍    | 27/50 [02:14<02:25,  6.34s/it]    \u001b[A\n",
      "Processing user photos:   0%|          | 0/2 [00:00<?, ?it/s]\u001b[A\n",
      "Processing user photos:  50%|█████     | 1/2 [00:01<00:01,  1.51s/it]\u001b[A\n",
      "Processing user photos: 100%|██████████| 2/2 [00:02<00:00,  1.46s/it]\u001b[A\n",
      "Processing users:  56%|█████▌    | 28/50 [02:17<01:57,  5.32s/it]    \u001b[A\n",
      "Processing user photos:   0%|          | 0/5 [00:00<?, ?it/s]\u001b[A\n",
      "Processing user photos:  20%|██        | 1/5 [00:01<00:05,  1.38s/it]\u001b[A\n",
      "Processing user photos:  40%|████      | 2/5 [00:02<00:03,  1.21s/it]\u001b[A\n",
      "Processing user photos:  60%|██████    | 3/5 [00:03<00:02,  1.16s/it]\u001b[A\n",
      "Processing user photos:  80%|████████  | 4/5 [00:04<00:01,  1.15s/it]\u001b[A\n",
      "Processing user photos: 100%|██████████| 5/5 [00:05<00:00,  1.13s/it]\u001b[A\n",
      "Processing users:  58%|█████▊    | 29/50 [02:23<01:54,  5.47s/it]    \u001b[A\n",
      "Processing user photos:   0%|          | 0/4 [00:00<?, ?it/s]\u001b[A\n",
      "Processing user photos:  25%|██▌       | 1/4 [00:01<00:03,  1.07s/it]\u001b[A\n",
      "Processing user photos:  50%|█████     | 2/4 [00:02<00:02,  1.06s/it]\u001b[A\n",
      "Processing user photos:  75%|███████▌  | 3/4 [00:03<00:01,  1.09s/it]\u001b[A\n",
      "Processing user photos: 100%|██████████| 4/4 [00:04<00:00,  1.08s/it]\u001b[A\n",
      "Processing users:  60%|██████    | 30/50 [02:27<01:42,  5.13s/it]    \u001b[A\n",
      "Processing user photos:   0%|          | 0/5 [00:00<?, ?it/s]\u001b[A\n",
      "Processing user photos:  20%|██        | 1/5 [00:01<00:04,  1.08s/it]\u001b[A\n",
      "Processing user photos:  40%|████      | 2/5 [00:02<00:03,  1.09s/it]\u001b[A\n",
      "Processing user photos:  60%|██████    | 3/5 [00:03<00:02,  1.10s/it]\u001b[A\n",
      "Processing user photos:  80%|████████  | 4/5 [00:04<00:01,  1.11s/it]\u001b[A\n",
      "Processing user photos: 100%|██████████| 5/5 [00:05<00:00,  1.11s/it]\u001b[A\n",
      "Processing users:  62%|██████▏   | 31/50 [02:33<01:39,  5.25s/it]    \u001b[A\n",
      "Processing user photos:   0%|          | 0/1 [00:00<?, ?it/s]\u001b[A\n",
      "Processing user photos: 100%|██████████| 1/1 [00:01<00:00,  1.03s/it]\u001b[A\n",
      "Processing users:  64%|██████▍   | 32/50 [02:34<01:11,  3.99s/it]    \u001b[A\n",
      "Processing user photos:   0%|          | 0/5 [00:00<?, ?it/s]\u001b[A\n",
      "Processing user photos:  20%|██        | 1/5 [00:01<00:04,  1.06s/it]\u001b[A\n",
      "Processing user photos:  40%|████      | 2/5 [00:02<00:03,  1.08s/it]\u001b[A\n",
      "Processing user photos:  60%|██████    | 3/5 [00:03<00:02,  1.08s/it]\u001b[A\n",
      "Processing user photos:  80%|████████  | 4/5 [00:04<00:01,  1.08s/it]\u001b[A\n",
      "Processing user photos: 100%|██████████| 5/5 [00:05<00:00,  1.09s/it]\u001b[A\n",
      "Processing users:  66%|██████▌   | 33/50 [02:39<01:15,  4.42s/it]    \u001b[A\n",
      "Processing user photos:   0%|          | 0/5 [00:00<?, ?it/s]\u001b[A\n",
      "Processing user photos:  20%|██        | 1/5 [00:01<00:04,  1.06s/it]\u001b[A\n",
      "Processing user photos:  40%|████      | 2/5 [00:02<00:03,  1.05s/it]\u001b[A\n",
      "Processing user photos:  60%|██████    | 3/5 [00:03<00:02,  1.07s/it]\u001b[A\n",
      "Processing user photos:  80%|████████  | 4/5 [00:04<00:01,  1.07s/it]\u001b[A\n",
      "Processing user photos: 100%|██████████| 5/5 [00:05<00:00,  1.07s/it]\u001b[A\n",
      "Processing users:  68%|██████▊   | 34/50 [02:45<01:15,  4.70s/it]    \u001b[A\n",
      "Processing user photos:   0%|          | 0/4 [00:00<?, ?it/s]\u001b[A\n",
      "Processing user photos:  25%|██▌       | 1/4 [00:01<00:03,  1.07s/it]\u001b[A\n",
      "Processing user photos:  50%|█████     | 2/4 [00:02<00:02,  1.07s/it]\u001b[A\n",
      "Processing user photos:  75%|███████▌  | 3/4 [00:03<00:01,  1.06s/it]\u001b[A\n",
      "Processing user photos: 100%|██████████| 4/4 [00:04<00:00,  1.07s/it]\u001b[A\n",
      "Processing users:  70%|███████   | 35/50 [02:49<01:08,  4.58s/it]    \u001b[A\n",
      "Processing user photos:   0%|          | 0/5 [00:00<?, ?it/s]\u001b[A\n",
      "Processing user photos:  20%|██        | 1/5 [00:01<00:04,  1.09s/it]\u001b[A\n",
      "Processing user photos:  40%|████      | 2/5 [00:02<00:03,  1.06s/it]\u001b[A\n",
      "Processing user photos:  60%|██████    | 3/5 [00:03<00:02,  1.07s/it]\u001b[A\n",
      "Processing user photos:  80%|████████  | 4/5 [00:04<00:01,  1.07s/it]\u001b[A\n",
      "Processing user photos: 100%|██████████| 5/5 [00:05<00:00,  1.08s/it]\u001b[A\n",
      "Processing users:  72%|███████▏  | 36/50 [02:55<01:07,  4.82s/it]    \u001b[A\n",
      "Processing user photos:   0%|          | 0/3 [00:00<?, ?it/s]\u001b[A\n",
      "Processing user photos:  33%|███▎      | 1/3 [00:01<00:02,  1.09s/it]\u001b[A\n",
      "Processing user photos:  67%|██████▋   | 2/3 [00:02<00:01,  1.12s/it]\u001b[A\n",
      "Processing user photos: 100%|██████████| 3/3 [00:03<00:00,  1.12s/it]\u001b[A\n",
      "Processing users:  74%|███████▍  | 37/50 [02:58<00:56,  4.38s/it]    \u001b[A\n",
      "Processing user photos:   0%|          | 0/4 [00:00<?, ?it/s]\u001b[A\n",
      "Processing user photos:  25%|██▌       | 1/4 [00:01<00:03,  1.04s/it]\u001b[A\n",
      "Processing user photos:  50%|█████     | 2/4 [00:02<00:02,  1.09s/it]\u001b[A\n",
      "Processing user photos:  75%|███████▌  | 3/4 [00:03<00:01,  1.09s/it]\u001b[A\n",
      "Processing user photos: 100%|██████████| 4/4 [00:04<00:00,  1.10s/it]\u001b[A\n",
      "Processing users:  76%|███████▌  | 38/50 [03:02<00:52,  4.39s/it]    \u001b[A\n",
      "Processing user photos:   0%|          | 0/5 [00:00<?, ?it/s]\u001b[A\n",
      "Processing user photos:  20%|██        | 1/5 [00:01<00:04,  1.16s/it]\u001b[A\n",
      "Processing user photos:  40%|████      | 2/5 [00:02<00:03,  1.17s/it]\u001b[A\n",
      "Processing user photos:  60%|██████    | 3/5 [00:03<00:02,  1.18s/it]\u001b[A\n",
      "Processing user photos:  80%|████████  | 4/5 [00:04<00:01,  1.17s/it]\u001b[A\n",
      "Processing user photos: 100%|██████████| 5/5 [00:05<00:00,  1.15s/it]\u001b[A\n",
      "Processing users:  78%|███████▊  | 39/50 [03:08<00:52,  4.81s/it]    \u001b[A\n",
      "Processing user photos:   0%|          | 0/5 [00:00<?, ?it/s]\u001b[A\n",
      "Processing user photos:  20%|██        | 1/5 [00:01<00:04,  1.11s/it]\u001b[A\n",
      "Processing user photos:  40%|████      | 2/5 [00:02<00:03,  1.14s/it]\u001b[A\n",
      "Processing user photos:  60%|██████    | 3/5 [00:03<00:02,  1.13s/it]\u001b[A\n",
      "Processing user photos:  80%|████████  | 4/5 [00:04<00:01,  1.11s/it]\u001b[A\n",
      "Processing user photos: 100%|██████████| 5/5 [00:05<00:00,  1.13s/it]\u001b[A\n",
      "Processing users:  80%|████████  | 40/50 [03:14<00:50,  5.05s/it]    \u001b[A\n",
      "Processing user photos:   0%|          | 0/5 [00:00<?, ?it/s]\u001b[A\n",
      "Processing user photos:  20%|██        | 1/5 [00:01<00:04,  1.16s/it]\u001b[A\n",
      "Processing user photos:  40%|████      | 2/5 [00:02<00:03,  1.14s/it]\u001b[A\n",
      "Processing user photos:  60%|██████    | 3/5 [00:03<00:02,  1.12s/it]\u001b[A\n",
      "Processing user photos:  80%|████████  | 4/5 [00:04<00:01,  1.14s/it]\u001b[A\n",
      "Processing user photos: 100%|██████████| 5/5 [00:05<00:00,  1.14s/it]\u001b[A\n",
      "Processing users:  82%|████████▏ | 41/50 [03:19<00:47,  5.24s/it]    \u001b[A\n",
      "Processing user photos:   0%|          | 0/4 [00:00<?, ?it/s]\u001b[A\n",
      "Processing user photos:  25%|██▌       | 1/4 [00:01<00:03,  1.12s/it]\u001b[A\n",
      "Processing user photos:  50%|█████     | 2/4 [00:02<00:02,  1.13s/it]\u001b[A\n",
      "Processing user photos:  75%|███████▌  | 3/4 [00:03<00:01,  1.12s/it]\u001b[A\n",
      "Processing user photos: 100%|██████████| 4/4 [00:04<00:00,  1.11s/it]\u001b[A\n",
      "Processing users:  84%|████████▍ | 42/50 [03:24<00:40,  5.01s/it]    \u001b[A\n",
      "Processing user photos:   0%|          | 0/6 [00:00<?, ?it/s]\u001b[A\n",
      "Processing user photos:  17%|█▋        | 1/6 [00:01<00:05,  1.16s/it]\u001b[A\n",
      "Processing user photos:  33%|███▎      | 2/6 [00:02<00:04,  1.13s/it]\u001b[A\n",
      "Processing user photos:  50%|█████     | 3/6 [00:03<00:03,  1.11s/it]\u001b[A\n",
      "Processing user photos:  67%|██████▋   | 4/6 [00:04<00:02,  1.11s/it]\u001b[A\n",
      "Processing user photos:  83%|████████▎ | 5/6 [00:05<00:01,  1.15s/it]\u001b[A\n",
      "Processing user photos: 100%|██████████| 6/6 [00:07<00:00,  1.41s/it]\u001b[A\n",
      "Processing users:  86%|████████▌ | 43/50 [03:31<00:40,  5.79s/it]    \u001b[A\n",
      "Processing user photos:   0%|          | 0/5 [00:00<?, ?it/s]\u001b[A\n",
      "Processing user photos:  20%|██        | 1/5 [00:01<00:04,  1.11s/it]\u001b[A\n",
      "Processing user photos:  40%|████      | 2/5 [00:02<00:03,  1.11s/it]\u001b[A\n",
      "Processing user photos:  60%|██████    | 3/5 [00:03<00:02,  1.10s/it]\u001b[A\n",
      "Processing user photos:  80%|████████  | 4/5 [00:04<00:01,  1.13s/it]\u001b[A\n",
      "Processing user photos: 100%|██████████| 5/5 [00:05<00:00,  1.12s/it]\u001b[A\n",
      "Processing users:  88%|████████▊ | 44/50 [03:37<00:34,  5.73s/it]    \u001b[A\n",
      "Processing user photos:   0%|          | 0/1 [00:00<?, ?it/s]\u001b[A\n",
      "Processing user photos: 100%|██████████| 1/1 [00:01<00:00,  1.10s/it]\u001b[A\n",
      "Processing users:  90%|█████████ | 45/50 [03:38<00:21,  4.35s/it]    \u001b[A\n",
      "Processing user photos:   0%|          | 0/5 [00:00<?, ?it/s]\u001b[A\n",
      "Processing user photos:  20%|██        | 1/5 [00:01<00:04,  1.13s/it]\u001b[A\n",
      "Processing user photos:  40%|████      | 2/5 [00:02<00:03,  1.13s/it]\u001b[A\n",
      "Processing user photos:  60%|██████    | 3/5 [00:03<00:02,  1.13s/it]\u001b[A\n",
      "Processing user photos:  80%|████████  | 4/5 [00:04<00:01,  1.12s/it]\u001b[A\n",
      "Processing user photos: 100%|██████████| 5/5 [00:05<00:00,  1.12s/it]\u001b[A\n",
      "Processing users:  92%|█████████▏| 46/50 [03:44<00:18,  4.73s/it]    \u001b[A\n",
      "Processing user photos:   0%|          | 0/5 [00:00<?, ?it/s]\u001b[A\n",
      "Processing user photos:  20%|██        | 1/5 [00:01<00:04,  1.16s/it]\u001b[A\n",
      "Processing user photos:  40%|████      | 2/5 [00:02<00:03,  1.14s/it]\u001b[A\n",
      "Processing user photos:  60%|██████    | 3/5 [00:03<00:02,  1.14s/it]\u001b[A\n",
      "Processing user photos:  80%|████████  | 4/5 [00:04<00:01,  1.13s/it]\u001b[A\n",
      "Processing user photos: 100%|██████████| 5/5 [00:05<00:00,  1.13s/it]\u001b[A\n",
      "Processing users:  94%|█████████▍| 47/50 [03:49<00:15,  5.02s/it]    \u001b[A\n",
      "Processing user photos:   0%|          | 0/6 [00:00<?, ?it/s]\u001b[A\n",
      "Processing user photos:  17%|█▋        | 1/6 [00:01<00:05,  1.13s/it]\u001b[A\n",
      "Processing user photos:  33%|███▎      | 2/6 [00:02<00:04,  1.12s/it]\u001b[A\n",
      "Processing user photos:  50%|█████     | 3/6 [00:03<00:03,  1.14s/it]\u001b[A\n",
      "Processing user photos:  67%|██████▋   | 4/6 [00:04<00:02,  1.12s/it]\u001b[A\n",
      "Processing user photos:  83%|████████▎ | 5/6 [00:05<00:01,  1.11s/it]\u001b[A\n",
      "Processing user photos: 100%|██████████| 6/6 [00:06<00:00,  1.10s/it]\u001b[A\n",
      "Processing users:  96%|█████████▌| 48/50 [03:56<00:11,  5.51s/it]    \u001b[A\n",
      "Processing user photos:   0%|          | 0/5 [00:00<?, ?it/s]\u001b[A\n",
      "Processing user photos:  20%|██        | 1/5 [00:01<00:04,  1.11s/it]\u001b[A\n",
      "Processing user photos:  40%|████      | 2/5 [00:02<00:03,  1.15s/it]\u001b[A\n",
      "Processing user photos:  60%|██████    | 3/5 [00:03<00:02,  1.16s/it]\u001b[A\n",
      "Processing user photos:  80%|████████  | 4/5 [00:04<00:01,  1.14s/it]\u001b[A\n",
      "Processing user photos: 100%|██████████| 5/5 [00:05<00:00,  1.12s/it]\u001b[A\n",
      "Processing users:  98%|█████████▊| 49/50 [04:02<00:05,  5.56s/it]    \u001b[A\n",
      "Processing user photos:   0%|          | 0/1 [00:00<?, ?it/s]\u001b[A\n",
      "Processing user photos: 100%|██████████| 1/1 [00:01<00:00,  1.14s/it]\u001b[A\n",
      "Processing users: 100%|██████████| 50/50 [04:03<00:00,  4.87s/it]    \u001b[A\n"
     ]
    }
   ],
   "source": [
    "incoming_unauthorized_users_path = os.path.join(\n",
    "    \"data\", \"database\", \"incoming_users\", \"unauthorized_users\"\n",
    ")\n",
    "\n",
    "for person_id in tqdm(\n",
    "    iterable=os.listdir(incoming_unauthorized_users_path), desc=\"Processing users\"\n",
    "):\n",
    "    for person_photo in tqdm(\n",
    "        iterable=os.listdir(os.path.join(incoming_unauthorized_users_path, person_id)),\n",
    "        desc=\"Processing user photos\",\n",
    "        leave=False,\n",
    "    ):\n",
    "        faces_found = DeepFace.find(\n",
    "            img_path=os.path.join(\n",
    "                incoming_unauthorized_users_path, person_id, person_photo\n",
    "            ),\n",
    "            db_path=os.path.join(\"data\", \"database\", \"authorized_users\"),\n",
    "            enforce_detection=False,\n",
    "            silent=True,\n",
    "        )\n",
    "\n",
    "        if not faces_found[0].empty:\n",
    "            predicted_user_name = faces_found[0][\"identity\"].apply(\n",
    "                lambda x: Path(x).parts[3]\n",
    "            )[\n",
    "                0\n",
    "            ]  # get best match\n",
    "            predicted_cosine_distance = faces_found[0][\"distance\"]\n",
    "        else:\n",
    "            predicted_user_name = -1\n",
    "            predicted_cosine_distance = -1\n",
    "\n",
    "        df_tested_user = pd.DataFrame(\n",
    "            {\n",
    "                \"image_path\": os.path.join(\n",
    "                    incoming_unauthorized_users_path, person_id, person_photo\n",
    "                ),\n",
    "                \"truth_label\": person_id,\n",
    "                \"predicted_label\": predicted_user_name,\n",
    "                \"cosine_distance\": predicted_cosine_distance,\n",
    "            },\n",
    "            index=[0],\n",
    "        )\n",
    "\n",
    "        testing_unauthorized_users = pd.concat(\n",
    "            [testing_unauthorized_users, df_tested_user], ignore_index=True\n",
    "        )"
   ],
   "metadata": {
    "collapsed": false,
    "ExecuteTime": {
     "end_time": "2024-04-03T13:42:19.532345Z",
     "start_time": "2024-04-03T13:38:16.055888Z"
    }
   },
   "id": "930a2097416f67f",
   "execution_count": 22
  },
  {
   "cell_type": "code",
   "outputs": [],
   "source": [
    "acceptance_threshold = 0.5\n",
    "\n",
    "testing_unauthorized_users[\"grant_access\"] = (\n",
    "    testing_unauthorized_users[\"cosine_distance\"] < acceptance_threshold\n",
    ") * 1"
   ],
   "metadata": {
    "collapsed": false,
    "ExecuteTime": {
     "end_time": "2024-04-03T13:48:20.278072Z",
     "start_time": "2024-04-03T13:48:20.273504Z"
    }
   },
   "id": "71d0196ce35b6627",
   "execution_count": 64
  },
  {
   "cell_type": "code",
   "outputs": [],
   "source": [
    "testing_unauthorized_users[\"is_match\"] = (\n",
    "    testing_unauthorized_users[\"truth_label\"]\n",
    "    == testing_unauthorized_users[\"predicted_label\"]\n",
    ") * 1"
   ],
   "metadata": {
    "collapsed": false,
    "ExecuteTime": {
     "end_time": "2024-04-03T13:48:21.057722Z",
     "start_time": "2024-04-03T13:48:21.054189Z"
    }
   },
   "id": "6431d3933d0bd7b0",
   "execution_count": 65
  },
  {
   "cell_type": "code",
   "outputs": [
    {
     "data": {
      "text/plain": "0.0"
     },
     "execution_count": 66,
     "metadata": {},
     "output_type": "execute_result"
    }
   ],
   "source": [
    "testing_unauthorized_users[\"is_match\"].sum() / len(testing_unauthorized_users)"
   ],
   "metadata": {
    "collapsed": false,
    "ExecuteTime": {
     "end_time": "2024-04-03T13:48:21.480211Z",
     "start_time": "2024-04-03T13:48:21.474833Z"
    }
   },
   "id": "a7570cabaadf7e96",
   "execution_count": 66
  },
  {
   "cell_type": "code",
   "outputs": [
    {
     "data": {
      "text/plain": "0.14018691588785046"
     },
     "execution_count": 67,
     "metadata": {},
     "output_type": "execute_result"
    }
   ],
   "source": [
    "testing_unauthorized_users[\"grant_access\"].sum() / len(testing_unauthorized_users)"
   ],
   "metadata": {
    "collapsed": false,
    "ExecuteTime": {
     "end_time": "2024-04-03T13:48:22.629920Z",
     "start_time": "2024-04-03T13:48:22.624070Z"
    }
   },
   "id": "2f83a6e5f2bbe885",
   "execution_count": 67
  },
  {
   "cell_type": "code",
   "outputs": [
    {
     "data": {
      "text/plain": "                                            image_path truth_label  \\\n0    data\\database\\incoming_users\\unauthorized_user...         150   \n1    data\\database\\incoming_users\\unauthorized_user...         150   \n2    data\\database\\incoming_users\\unauthorized_user...         150   \n3    data\\database\\incoming_users\\unauthorized_user...         101   \n4    data\\database\\incoming_users\\unauthorized_user...         101   \n..                                                 ...         ...   \n209  data\\database\\incoming_users\\unauthorized_user...         148   \n210  data\\database\\incoming_users\\unauthorized_user...         148   \n211  data\\database\\incoming_users\\unauthorized_user...         148   \n212  data\\database\\incoming_users\\unauthorized_user...         148   \n213  data\\database\\incoming_users\\unauthorized_user...         149   \n\n    predicted_label  cosine_distance  is_match  grant_access  \n0                43         0.558697         0             0  \n1                27         0.528804         0             0  \n2                89         0.608577         0             0  \n3                -1        -1.000000         0             1  \n4                78         0.605179         0             0  \n..              ...              ...       ...           ...  \n209              -1        -1.000000         0             1  \n210              41         0.603607         0             0  \n211              41         0.642242         0             0  \n212              41         0.661102         0             0  \n213              41         0.489096         0             1  \n\n[214 rows x 6 columns]",
      "text/html": "<div>\n<style scoped>\n    .dataframe tbody tr th:only-of-type {\n        vertical-align: middle;\n    }\n\n    .dataframe tbody tr th {\n        vertical-align: top;\n    }\n\n    .dataframe thead th {\n        text-align: right;\n    }\n</style>\n<table border=\"1\" class=\"dataframe\">\n  <thead>\n    <tr style=\"text-align: right;\">\n      <th></th>\n      <th>image_path</th>\n      <th>truth_label</th>\n      <th>predicted_label</th>\n      <th>cosine_distance</th>\n      <th>is_match</th>\n      <th>grant_access</th>\n    </tr>\n  </thead>\n  <tbody>\n    <tr>\n      <th>0</th>\n      <td>data\\database\\incoming_users\\unauthorized_user...</td>\n      <td>150</td>\n      <td>43</td>\n      <td>0.558697</td>\n      <td>0</td>\n      <td>0</td>\n    </tr>\n    <tr>\n      <th>1</th>\n      <td>data\\database\\incoming_users\\unauthorized_user...</td>\n      <td>150</td>\n      <td>27</td>\n      <td>0.528804</td>\n      <td>0</td>\n      <td>0</td>\n    </tr>\n    <tr>\n      <th>2</th>\n      <td>data\\database\\incoming_users\\unauthorized_user...</td>\n      <td>150</td>\n      <td>89</td>\n      <td>0.608577</td>\n      <td>0</td>\n      <td>0</td>\n    </tr>\n    <tr>\n      <th>3</th>\n      <td>data\\database\\incoming_users\\unauthorized_user...</td>\n      <td>101</td>\n      <td>-1</td>\n      <td>-1.000000</td>\n      <td>0</td>\n      <td>1</td>\n    </tr>\n    <tr>\n      <th>4</th>\n      <td>data\\database\\incoming_users\\unauthorized_user...</td>\n      <td>101</td>\n      <td>78</td>\n      <td>0.605179</td>\n      <td>0</td>\n      <td>0</td>\n    </tr>\n    <tr>\n      <th>...</th>\n      <td>...</td>\n      <td>...</td>\n      <td>...</td>\n      <td>...</td>\n      <td>...</td>\n      <td>...</td>\n    </tr>\n    <tr>\n      <th>209</th>\n      <td>data\\database\\incoming_users\\unauthorized_user...</td>\n      <td>148</td>\n      <td>-1</td>\n      <td>-1.000000</td>\n      <td>0</td>\n      <td>1</td>\n    </tr>\n    <tr>\n      <th>210</th>\n      <td>data\\database\\incoming_users\\unauthorized_user...</td>\n      <td>148</td>\n      <td>41</td>\n      <td>0.603607</td>\n      <td>0</td>\n      <td>0</td>\n    </tr>\n    <tr>\n      <th>211</th>\n      <td>data\\database\\incoming_users\\unauthorized_user...</td>\n      <td>148</td>\n      <td>41</td>\n      <td>0.642242</td>\n      <td>0</td>\n      <td>0</td>\n    </tr>\n    <tr>\n      <th>212</th>\n      <td>data\\database\\incoming_users\\unauthorized_user...</td>\n      <td>148</td>\n      <td>41</td>\n      <td>0.661102</td>\n      <td>0</td>\n      <td>0</td>\n    </tr>\n    <tr>\n      <th>213</th>\n      <td>data\\database\\incoming_users\\unauthorized_user...</td>\n      <td>149</td>\n      <td>41</td>\n      <td>0.489096</td>\n      <td>0</td>\n      <td>1</td>\n    </tr>\n  </tbody>\n</table>\n<p>214 rows × 6 columns</p>\n</div>"
     },
     "execution_count": 68,
     "metadata": {},
     "output_type": "execute_result"
    }
   ],
   "source": [
    "testing_unauthorized_users"
   ],
   "metadata": {
    "collapsed": false,
    "ExecuteTime": {
     "end_time": "2024-04-03T13:48:23.924025Z",
     "start_time": "2024-04-03T13:48:23.914987Z"
    }
   },
   "id": "89bde60a1b015d1d",
   "execution_count": 68
  },
  {
   "cell_type": "code",
   "outputs": [
    {
     "data": {
      "text/plain": "predicted_label\n23     17\n-1     11\n27      8\n89      8\n97      8\n       ..\n63      1\n80      1\n50      1\n72      1\n100     1\nName: count, Length: 68, dtype: int64"
     },
     "execution_count": 69,
     "metadata": {},
     "output_type": "execute_result"
    }
   ],
   "source": [
    "testing_unauthorized_users.predicted_label.value_counts()"
   ],
   "metadata": {
    "collapsed": false,
    "ExecuteTime": {
     "end_time": "2024-04-03T13:48:24.791132Z",
     "start_time": "2024-04-03T13:48:24.786179Z"
    }
   },
   "id": "98fea23a39cbbcc8",
   "execution_count": 69
  }
 ],
 "metadata": {
  "kernelspec": {
   "display_name": "Python 3",
   "language": "python",
   "name": "python3"
  },
  "language_info": {
   "codemirror_mode": {
    "name": "ipython",
    "version": 2
   },
   "file_extension": ".py",
   "mimetype": "text/x-python",
   "name": "python",
   "nbconvert_exporter": "python",
   "pygments_lexer": "ipython2",
   "version": "2.7.6"
  }
 },
 "nbformat": 4,
 "nbformat_minor": 5
}
