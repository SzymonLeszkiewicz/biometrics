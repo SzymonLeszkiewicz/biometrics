{
 "cells": [
  {
   "cell_type": "markdown",
   "source": [
    "# Imports"
   ],
   "metadata": {
    "collapsed": false
   },
   "id": "bb574279f483e270"
  },
  {
   "cell_type": "code",
   "outputs": [
    {
     "name": "stderr",
     "output_type": "stream",
     "text": [
      "C:\\Users\\Jakub\\AppData\\Local\\Temp\\ipykernel_20612\\1371423061.py:3: TqdmExperimentalWarning: Using `tqdm.autonotebook.tqdm` in notebook mode. Use `tqdm.tqdm` instead to force console mode (e.g. in jupyter console)\n",
      "  from tqdm.autonotebook import tqdm\n"
     ]
    },
    {
     "name": "stdout",
     "output_type": "stream",
     "text": [
      "WARNING:tensorflow:From C:\\Virtual_Environments\\venv_BIO_DeepFace_3.11\\Lib\\site-packages\\tf_keras\\src\\losses.py:2976: The name tf.losses.sparse_softmax_cross_entropy is deprecated. Please use tf.compat.v1.losses.sparse_softmax_cross_entropy instead.\n"
     ]
    }
   ],
   "source": [
    "import os\n",
    "from pathlib import Path\n",
    "from tqdm.autonotebook import tqdm\n",
    "\n",
    "\n",
    "import pandas as pd\n",
    "from deepface import DeepFace"
   ],
   "metadata": {
    "collapsed": false,
    "ExecuteTime": {
     "end_time": "2024-04-03T09:41:03.453347Z",
     "start_time": "2024-04-03T09:40:47.843356Z"
    }
   },
   "id": "965fca22cfcae9f6",
   "execution_count": 1
  },
  {
   "cell_type": "markdown",
   "source": [
    "# Initiating Database"
   ],
   "metadata": {
    "collapsed": false
   },
   "id": "d38d2c3b232415c1"
  },
  {
   "cell_type": "code",
   "outputs": [
    {
     "name": "stdout",
     "output_type": "stream",
     "text": [
      "24-04-03 12:47:19 - Searching data\\database\\incoming_users\\authorized_users\\22\\001677.jpg in 1826 length datastore\n",
      "24-04-03 12:47:20 - find function duration 0.9146707057952881 seconds\n"
     ]
    }
   ],
   "source": [
    "faces_found = DeepFace.find(\n",
    "    # img_path=os.path.join(\n",
    "    #     \"data\", \"database\", \"incoming_users\", \"authorized_users\", \"1\", \"000023.jpg\"\n",
    "    # ),\n",
    "    # img_path=os.path.join(\n",
    "    #     \"data\", \"database\", \"incoming_users\", \"unauthorized_users\", \"101\", \"020633.jpg\"\n",
    "    # ),\n",
    "    img_path=os.path.join(\n",
    "        \"data\", \"database\", \"incoming_users\", \"authorized_users\", \"22\", \"001677.jpg\"\n",
    "    ),\n",
    "    db_path=os.path.join(\"data\", \"database\", \"authorized_users\"),\n",
    "    enforce_detection=False,\n",
    ")"
   ],
   "metadata": {
    "collapsed": false,
    "ExecuteTime": {
     "end_time": "2024-04-03T10:47:20.650924Z",
     "start_time": "2024-04-03T10:47:19.705285Z"
    }
   },
   "id": "5972148f4f783200",
   "execution_count": 40
  },
  {
   "cell_type": "code",
   "outputs": [
    {
     "data": {
      "text/plain": "                                       identity  \\\n0  data\\database\\authorized_users\\63\\148723.jpg   \n1  data\\database\\authorized_users\\55\\147118.jpg   \n2  data\\database\\authorized_users\\15\\040569.jpg   \n\n                                       hash  target_x  target_y  target_w  \\\n0  7784b838f6009d7c18db658c2c078f3220cc21a1        37        74       101   \n1  752859037bbb74e5afcf1be196bec0bad056ba82        32        69       113   \n2  b96cca437e50c2509b3c7d688df40015d081e774         0         0       178   \n\n   target_h  source_x  source_y  source_w  source_h  threshold  distance  \n0       101         0         0       178       218       0.68  0.641510  \n1       113         0         0       178       218       0.68  0.653444  \n2       218         0         0       178       218       0.68  0.672288  ",
      "text/html": "<div>\n<style scoped>\n    .dataframe tbody tr th:only-of-type {\n        vertical-align: middle;\n    }\n\n    .dataframe tbody tr th {\n        vertical-align: top;\n    }\n\n    .dataframe thead th {\n        text-align: right;\n    }\n</style>\n<table border=\"1\" class=\"dataframe\">\n  <thead>\n    <tr style=\"text-align: right;\">\n      <th></th>\n      <th>identity</th>\n      <th>hash</th>\n      <th>target_x</th>\n      <th>target_y</th>\n      <th>target_w</th>\n      <th>target_h</th>\n      <th>source_x</th>\n      <th>source_y</th>\n      <th>source_w</th>\n      <th>source_h</th>\n      <th>threshold</th>\n      <th>distance</th>\n    </tr>\n  </thead>\n  <tbody>\n    <tr>\n      <th>0</th>\n      <td>data\\database\\authorized_users\\63\\148723.jpg</td>\n      <td>7784b838f6009d7c18db658c2c078f3220cc21a1</td>\n      <td>37</td>\n      <td>74</td>\n      <td>101</td>\n      <td>101</td>\n      <td>0</td>\n      <td>0</td>\n      <td>178</td>\n      <td>218</td>\n      <td>0.68</td>\n      <td>0.641510</td>\n    </tr>\n    <tr>\n      <th>1</th>\n      <td>data\\database\\authorized_users\\55\\147118.jpg</td>\n      <td>752859037bbb74e5afcf1be196bec0bad056ba82</td>\n      <td>32</td>\n      <td>69</td>\n      <td>113</td>\n      <td>113</td>\n      <td>0</td>\n      <td>0</td>\n      <td>178</td>\n      <td>218</td>\n      <td>0.68</td>\n      <td>0.653444</td>\n    </tr>\n    <tr>\n      <th>2</th>\n      <td>data\\database\\authorized_users\\15\\040569.jpg</td>\n      <td>b96cca437e50c2509b3c7d688df40015d081e774</td>\n      <td>0</td>\n      <td>0</td>\n      <td>178</td>\n      <td>218</td>\n      <td>0</td>\n      <td>0</td>\n      <td>178</td>\n      <td>218</td>\n      <td>0.68</td>\n      <td>0.672288</td>\n    </tr>\n  </tbody>\n</table>\n</div>"
     },
     "execution_count": 42,
     "metadata": {},
     "output_type": "execute_result"
    }
   ],
   "source": [
    "faces_found[0]"
   ],
   "metadata": {
    "collapsed": false,
    "ExecuteTime": {
     "end_time": "2024-04-03T10:47:24.204901Z",
     "start_time": "2024-04-03T10:47:24.198823Z"
    }
   },
   "id": "16932fe3093d08c4",
   "execution_count": 42
  },
  {
   "cell_type": "code",
   "outputs": [
    {
     "data": {
      "text/plain": "array(['63', '55', '15'], dtype=object)"
     },
     "execution_count": 43,
     "metadata": {},
     "output_type": "execute_result"
    }
   ],
   "source": [
    "faces_found[0][\"identity\"].apply(lambda x: Path(x).parts[3]).unique()"
   ],
   "metadata": {
    "collapsed": false,
    "ExecuteTime": {
     "end_time": "2024-04-03T10:47:24.660255Z",
     "start_time": "2024-04-03T10:47:24.656069Z"
    }
   },
   "id": "c85ebbc602762574",
   "execution_count": 43
  },
  {
   "cell_type": "markdown",
   "source": [
    "# Testing Authorized Users"
   ],
   "metadata": {
    "collapsed": false
   },
   "id": "44ac7e2646ef15c1"
  },
  {
   "cell_type": "code",
   "outputs": [],
   "source": [
    "testing_authorized_users = pd.DataFrame(\n",
    "    columns=[\"image_path\", \"truth_label\", \"predicted_label\", \"cosine_distance\"]\n",
    ")"
   ],
   "metadata": {
    "collapsed": false,
    "ExecuteTime": {
     "end_time": "2024-04-03T10:37:49.302324Z",
     "start_time": "2024-04-03T10:37:49.298146Z"
    }
   },
   "id": "908c35a48cbef0fc",
   "execution_count": 34
  },
  {
   "cell_type": "code",
   "outputs": [
    {
     "data": {
      "text/plain": "Empty DataFrame\nColumns: [image_path, truth_label, predicted_label, cosine_distance]\nIndex: []",
      "text/html": "<div>\n<style scoped>\n    .dataframe tbody tr th:only-of-type {\n        vertical-align: middle;\n    }\n\n    .dataframe tbody tr th {\n        vertical-align: top;\n    }\n\n    .dataframe thead th {\n        text-align: right;\n    }\n</style>\n<table border=\"1\" class=\"dataframe\">\n  <thead>\n    <tr style=\"text-align: right;\">\n      <th></th>\n      <th>image_path</th>\n      <th>truth_label</th>\n      <th>predicted_label</th>\n      <th>cosine_distance</th>\n    </tr>\n  </thead>\n  <tbody>\n  </tbody>\n</table>\n</div>"
     },
     "execution_count": 35,
     "metadata": {},
     "output_type": "execute_result"
    }
   ],
   "source": [
    "testing_authorized_users"
   ],
   "metadata": {
    "collapsed": false,
    "ExecuteTime": {
     "end_time": "2024-04-03T10:37:49.307839Z",
     "start_time": "2024-04-03T10:37:49.303329Z"
    }
   },
   "id": "578084b3ec3b8beb",
   "execution_count": 35
  },
  {
   "cell_type": "code",
   "outputs": [
    {
     "data": {
      "text/plain": "Processing users:   0%|          | 0/50 [00:00<?, ?it/s]",
      "application/vnd.jupyter.widget-view+json": {
       "version_major": 2,
       "version_minor": 0,
       "model_id": "a48410ec9c584ff5a13a24aa50463a7c"
      }
     },
     "metadata": {},
     "output_type": "display_data"
    },
    {
     "data": {
      "text/plain": "Processing user photos:   0%|          | 0/3 [00:00<?, ?it/s]",
      "application/vnd.jupyter.widget-view+json": {
       "version_major": 2,
       "version_minor": 0,
       "model_id": "718bc70b843e417b9bffdd95d821dec2"
      }
     },
     "metadata": {},
     "output_type": "display_data"
    },
    {
     "data": {
      "text/plain": "Processing user photos:   0%|          | 0/5 [00:00<?, ?it/s]",
      "application/vnd.jupyter.widget-view+json": {
       "version_major": 2,
       "version_minor": 0,
       "model_id": "2f48a2411eb1468494da5342bc827791"
      }
     },
     "metadata": {},
     "output_type": "display_data"
    },
    {
     "data": {
      "text/plain": "Processing user photos:   0%|          | 0/1 [00:00<?, ?it/s]",
      "application/vnd.jupyter.widget-view+json": {
       "version_major": 2,
       "version_minor": 0,
       "model_id": "4dfb756f7e5542d0a7d42df6d39e20c4"
      }
     },
     "metadata": {},
     "output_type": "display_data"
    },
    {
     "data": {
      "text/plain": "Processing user photos:   0%|          | 0/5 [00:00<?, ?it/s]",
      "application/vnd.jupyter.widget-view+json": {
       "version_major": 2,
       "version_minor": 0,
       "model_id": "fe2e233795734d2e91c06b59b202016b"
      }
     },
     "metadata": {},
     "output_type": "display_data"
    },
    {
     "data": {
      "text/plain": "Processing user photos:   0%|          | 0/4 [00:00<?, ?it/s]",
      "application/vnd.jupyter.widget-view+json": {
       "version_major": 2,
       "version_minor": 0,
       "model_id": "9e8624a8834c4fcda33e08761a2cce6a"
      }
     },
     "metadata": {},
     "output_type": "display_data"
    },
    {
     "data": {
      "text/plain": "Processing user photos:   0%|          | 0/4 [00:00<?, ?it/s]",
      "application/vnd.jupyter.widget-view+json": {
       "version_major": 2,
       "version_minor": 0,
       "model_id": "7e4e62711c004336883673b60306b87f"
      }
     },
     "metadata": {},
     "output_type": "display_data"
    },
    {
     "data": {
      "text/plain": "Processing user photos:   0%|          | 0/4 [00:00<?, ?it/s]",
      "application/vnd.jupyter.widget-view+json": {
       "version_major": 2,
       "version_minor": 0,
       "model_id": "864cad0e18f345fdba0f73ecd456654b"
      }
     },
     "metadata": {},
     "output_type": "display_data"
    },
    {
     "data": {
      "text/plain": "Processing user photos:   0%|          | 0/4 [00:00<?, ?it/s]",
      "application/vnd.jupyter.widget-view+json": {
       "version_major": 2,
       "version_minor": 0,
       "model_id": "0097829801314e3a8f1902f407d3fce1"
      }
     },
     "metadata": {},
     "output_type": "display_data"
    },
    {
     "data": {
      "text/plain": "Processing user photos:   0%|          | 0/5 [00:00<?, ?it/s]",
      "application/vnd.jupyter.widget-view+json": {
       "version_major": 2,
       "version_minor": 0,
       "model_id": "bae126cdee8b4bedb31cce33c2121286"
      }
     },
     "metadata": {},
     "output_type": "display_data"
    },
    {
     "data": {
      "text/plain": "Processing user photos:   0%|          | 0/1 [00:00<?, ?it/s]",
      "application/vnd.jupyter.widget-view+json": {
       "version_major": 2,
       "version_minor": 0,
       "model_id": "91ca7d491f51487e8ce1f1d562c37175"
      }
     },
     "metadata": {},
     "output_type": "display_data"
    },
    {
     "data": {
      "text/plain": "Processing user photos:   0%|          | 0/3 [00:00<?, ?it/s]",
      "application/vnd.jupyter.widget-view+json": {
       "version_major": 2,
       "version_minor": 0,
       "model_id": "da23637c6329493b829308e3f52c480a"
      }
     },
     "metadata": {},
     "output_type": "display_data"
    },
    {
     "data": {
      "text/plain": "Processing user photos:   0%|          | 0/2 [00:00<?, ?it/s]",
      "application/vnd.jupyter.widget-view+json": {
       "version_major": 2,
       "version_minor": 0,
       "model_id": "89efee2c72ee482bbc84c7619ffe7a47"
      }
     },
     "metadata": {},
     "output_type": "display_data"
    },
    {
     "data": {
      "text/plain": "Processing user photos:   0%|          | 0/5 [00:00<?, ?it/s]",
      "application/vnd.jupyter.widget-view+json": {
       "version_major": 2,
       "version_minor": 0,
       "model_id": "2f66acaa26e24db6b64765df48a8f752"
      }
     },
     "metadata": {},
     "output_type": "display_data"
    },
    {
     "data": {
      "text/plain": "Processing user photos:   0%|          | 0/4 [00:00<?, ?it/s]",
      "application/vnd.jupyter.widget-view+json": {
       "version_major": 2,
       "version_minor": 0,
       "model_id": "ea06414848ef41259dc923d17fc5d774"
      }
     },
     "metadata": {},
     "output_type": "display_data"
    },
    {
     "data": {
      "text/plain": "Processing user photos:   0%|          | 0/6 [00:00<?, ?it/s]",
      "application/vnd.jupyter.widget-view+json": {
       "version_major": 2,
       "version_minor": 0,
       "model_id": "aeaf8f781ca3446b9c2cfd1d776ebbc7"
      }
     },
     "metadata": {},
     "output_type": "display_data"
    },
    {
     "data": {
      "text/plain": "Processing user photos:   0%|          | 0/6 [00:00<?, ?it/s]",
      "application/vnd.jupyter.widget-view+json": {
       "version_major": 2,
       "version_minor": 0,
       "model_id": "2ad6493290ff413f9cc535206cbb37aa"
      }
     },
     "metadata": {},
     "output_type": "display_data"
    },
    {
     "data": {
      "text/plain": "Processing user photos:   0%|          | 0/1 [00:00<?, ?it/s]",
      "application/vnd.jupyter.widget-view+json": {
       "version_major": 2,
       "version_minor": 0,
       "model_id": "a75f61eeced24c67a878dae898233234"
      }
     },
     "metadata": {},
     "output_type": "display_data"
    },
    {
     "data": {
      "text/plain": "Processing user photos:   0%|          | 0/6 [00:00<?, ?it/s]",
      "application/vnd.jupyter.widget-view+json": {
       "version_major": 2,
       "version_minor": 0,
       "model_id": "b00ce7aee7724975aba2fd71bb9bfcdf"
      }
     },
     "metadata": {},
     "output_type": "display_data"
    },
    {
     "data": {
      "text/plain": "Processing user photos:   0%|          | 0/4 [00:00<?, ?it/s]",
      "application/vnd.jupyter.widget-view+json": {
       "version_major": 2,
       "version_minor": 0,
       "model_id": "757131ca95634cacb1c0b98faa3074f7"
      }
     },
     "metadata": {},
     "output_type": "display_data"
    },
    {
     "data": {
      "text/plain": "Processing user photos:   0%|          | 0/4 [00:00<?, ?it/s]",
      "application/vnd.jupyter.widget-view+json": {
       "version_major": 2,
       "version_minor": 0,
       "model_id": "9f83022df19f44dcadc533b6c0a7c84b"
      }
     },
     "metadata": {},
     "output_type": "display_data"
    },
    {
     "data": {
      "text/plain": "Processing user photos:   0%|          | 0/3 [00:00<?, ?it/s]",
      "application/vnd.jupyter.widget-view+json": {
       "version_major": 2,
       "version_minor": 0,
       "model_id": "2a5e082c49ac47b4901b8021a1902a0c"
      }
     },
     "metadata": {},
     "output_type": "display_data"
    },
    {
     "data": {
      "text/plain": "Processing user photos:   0%|          | 0/6 [00:00<?, ?it/s]",
      "application/vnd.jupyter.widget-view+json": {
       "version_major": 2,
       "version_minor": 0,
       "model_id": "eb518998524c4b4a9df12eeec14f47c3"
      }
     },
     "metadata": {},
     "output_type": "display_data"
    },
    {
     "data": {
      "text/plain": "Processing user photos:   0%|          | 0/6 [00:00<?, ?it/s]",
      "application/vnd.jupyter.widget-view+json": {
       "version_major": 2,
       "version_minor": 0,
       "model_id": "f89c4701d1f44ff5a4a0630e2d5d32f9"
      }
     },
     "metadata": {},
     "output_type": "display_data"
    },
    {
     "data": {
      "text/plain": "Processing user photos:   0%|          | 0/6 [00:00<?, ?it/s]",
      "application/vnd.jupyter.widget-view+json": {
       "version_major": 2,
       "version_minor": 0,
       "model_id": "e0fbe494aea44cff8426685251e1fd77"
      }
     },
     "metadata": {},
     "output_type": "display_data"
    },
    {
     "data": {
      "text/plain": "Processing user photos:   0%|          | 0/4 [00:00<?, ?it/s]",
      "application/vnd.jupyter.widget-view+json": {
       "version_major": 2,
       "version_minor": 0,
       "model_id": "88ab788e2f004d3b93bfe9c57592a9ab"
      }
     },
     "metadata": {},
     "output_type": "display_data"
    },
    {
     "data": {
      "text/plain": "Processing user photos:   0%|          | 0/6 [00:00<?, ?it/s]",
      "application/vnd.jupyter.widget-view+json": {
       "version_major": 2,
       "version_minor": 0,
       "model_id": "bb9fbac1fc5148f48d0fbb8817af2814"
      }
     },
     "metadata": {},
     "output_type": "display_data"
    },
    {
     "data": {
      "text/plain": "Processing user photos:   0%|          | 0/1 [00:00<?, ?it/s]",
      "application/vnd.jupyter.widget-view+json": {
       "version_major": 2,
       "version_minor": 0,
       "model_id": "31f3fa16947047e5b3baa151e2550e9c"
      }
     },
     "metadata": {},
     "output_type": "display_data"
    },
    {
     "data": {
      "text/plain": "Processing user photos:   0%|          | 0/5 [00:00<?, ?it/s]",
      "application/vnd.jupyter.widget-view+json": {
       "version_major": 2,
       "version_minor": 0,
       "model_id": "697b20d7ecbc49bb90a2f950ab30c1c7"
      }
     },
     "metadata": {},
     "output_type": "display_data"
    },
    {
     "data": {
      "text/plain": "Processing user photos:   0%|          | 0/4 [00:00<?, ?it/s]",
      "application/vnd.jupyter.widget-view+json": {
       "version_major": 2,
       "version_minor": 0,
       "model_id": "601c90e8b83d4db7870f9ae4920dd0fb"
      }
     },
     "metadata": {},
     "output_type": "display_data"
    },
    {
     "data": {
      "text/plain": "Processing user photos:   0%|          | 0/3 [00:00<?, ?it/s]",
      "application/vnd.jupyter.widget-view+json": {
       "version_major": 2,
       "version_minor": 0,
       "model_id": "d5ad761550974c65b1400569a4f02fed"
      }
     },
     "metadata": {},
     "output_type": "display_data"
    },
    {
     "data": {
      "text/plain": "Processing user photos:   0%|          | 0/3 [00:00<?, ?it/s]",
      "application/vnd.jupyter.widget-view+json": {
       "version_major": 2,
       "version_minor": 0,
       "model_id": "e3c2bf42b8f8429885f7edaf899a57a7"
      }
     },
     "metadata": {},
     "output_type": "display_data"
    },
    {
     "data": {
      "text/plain": "Processing user photos:   0%|          | 0/6 [00:00<?, ?it/s]",
      "application/vnd.jupyter.widget-view+json": {
       "version_major": 2,
       "version_minor": 0,
       "model_id": "59003ed307804d16a2e46f84be9de325"
      }
     },
     "metadata": {},
     "output_type": "display_data"
    },
    {
     "data": {
      "text/plain": "Processing user photos:   0%|          | 0/6 [00:00<?, ?it/s]",
      "application/vnd.jupyter.widget-view+json": {
       "version_major": 2,
       "version_minor": 0,
       "model_id": "cafc805fb5bf498689a6dc745f2b60b4"
      }
     },
     "metadata": {},
     "output_type": "display_data"
    },
    {
     "data": {
      "text/plain": "Processing user photos:   0%|          | 0/4 [00:00<?, ?it/s]",
      "application/vnd.jupyter.widget-view+json": {
       "version_major": 2,
       "version_minor": 0,
       "model_id": "4fb99b4a58ee4abb9986f93f72fe2b72"
      }
     },
     "metadata": {},
     "output_type": "display_data"
    },
    {
     "data": {
      "text/plain": "Processing user photos:   0%|          | 0/5 [00:00<?, ?it/s]",
      "application/vnd.jupyter.widget-view+json": {
       "version_major": 2,
       "version_minor": 0,
       "model_id": "25d105c1aebd45229f2d83546898a150"
      }
     },
     "metadata": {},
     "output_type": "display_data"
    },
    {
     "data": {
      "text/plain": "Processing user photos:   0%|          | 0/3 [00:00<?, ?it/s]",
      "application/vnd.jupyter.widget-view+json": {
       "version_major": 2,
       "version_minor": 0,
       "model_id": "72d4ccfadd6e4711b411590f7c9be7b4"
      }
     },
     "metadata": {},
     "output_type": "display_data"
    },
    {
     "data": {
      "text/plain": "Processing user photos:   0%|          | 0/2 [00:00<?, ?it/s]",
      "application/vnd.jupyter.widget-view+json": {
       "version_major": 2,
       "version_minor": 0,
       "model_id": "0e05995e23e74bee8c3da7f7dca24a82"
      }
     },
     "metadata": {},
     "output_type": "display_data"
    },
    {
     "data": {
      "text/plain": "Processing user photos:   0%|          | 0/1 [00:00<?, ?it/s]",
      "application/vnd.jupyter.widget-view+json": {
       "version_major": 2,
       "version_minor": 0,
       "model_id": "f4a88848e99a45a88b1c0ef148ca34f4"
      }
     },
     "metadata": {},
     "output_type": "display_data"
    },
    {
     "data": {
      "text/plain": "Processing user photos:   0%|          | 0/6 [00:00<?, ?it/s]",
      "application/vnd.jupyter.widget-view+json": {
       "version_major": 2,
       "version_minor": 0,
       "model_id": "391313fae09743b5b6a199f41212a8e0"
      }
     },
     "metadata": {},
     "output_type": "display_data"
    },
    {
     "data": {
      "text/plain": "Processing user photos:   0%|          | 0/5 [00:00<?, ?it/s]",
      "application/vnd.jupyter.widget-view+json": {
       "version_major": 2,
       "version_minor": 0,
       "model_id": "2f7083b8e3034f1e8eee049bf2d0ada9"
      }
     },
     "metadata": {},
     "output_type": "display_data"
    },
    {
     "data": {
      "text/plain": "Processing user photos:   0%|          | 0/4 [00:00<?, ?it/s]",
      "application/vnd.jupyter.widget-view+json": {
       "version_major": 2,
       "version_minor": 0,
       "model_id": "f871ed3e1a034c8c973dc3087f0f15d0"
      }
     },
     "metadata": {},
     "output_type": "display_data"
    },
    {
     "data": {
      "text/plain": "Processing user photos:   0%|          | 0/4 [00:00<?, ?it/s]",
      "application/vnd.jupyter.widget-view+json": {
       "version_major": 2,
       "version_minor": 0,
       "model_id": "70e70e420cc8471c9c5b8c5f333bc95b"
      }
     },
     "metadata": {},
     "output_type": "display_data"
    },
    {
     "data": {
      "text/plain": "Processing user photos:   0%|          | 0/2 [00:00<?, ?it/s]",
      "application/vnd.jupyter.widget-view+json": {
       "version_major": 2,
       "version_minor": 0,
       "model_id": "a338fd95f0ce447dbf9d1bf9946717bd"
      }
     },
     "metadata": {},
     "output_type": "display_data"
    },
    {
     "data": {
      "text/plain": "Processing user photos:   0%|          | 0/3 [00:00<?, ?it/s]",
      "application/vnd.jupyter.widget-view+json": {
       "version_major": 2,
       "version_minor": 0,
       "model_id": "b0377f5f32b64971839a041975c96bdf"
      }
     },
     "metadata": {},
     "output_type": "display_data"
    },
    {
     "data": {
      "text/plain": "Processing user photos:   0%|          | 0/1 [00:00<?, ?it/s]",
      "application/vnd.jupyter.widget-view+json": {
       "version_major": 2,
       "version_minor": 0,
       "model_id": "0b329927255e427dbd1fb3a1e56c9243"
      }
     },
     "metadata": {},
     "output_type": "display_data"
    },
    {
     "data": {
      "text/plain": "Processing user photos:   0%|          | 0/4 [00:00<?, ?it/s]",
      "application/vnd.jupyter.widget-view+json": {
       "version_major": 2,
       "version_minor": 0,
       "model_id": "2f7e2ae171f64f9982f532da5534dc32"
      }
     },
     "metadata": {},
     "output_type": "display_data"
    },
    {
     "data": {
      "text/plain": "Processing user photos:   0%|          | 0/4 [00:00<?, ?it/s]",
      "application/vnd.jupyter.widget-view+json": {
       "version_major": 2,
       "version_minor": 0,
       "model_id": "70eda621ad054b60b9ebde666390ea3f"
      }
     },
     "metadata": {},
     "output_type": "display_data"
    },
    {
     "data": {
      "text/plain": "Processing user photos:   0%|          | 0/6 [00:00<?, ?it/s]",
      "application/vnd.jupyter.widget-view+json": {
       "version_major": 2,
       "version_minor": 0,
       "model_id": "a9ac3ef41cc64ff9ad2235f9484abb74"
      }
     },
     "metadata": {},
     "output_type": "display_data"
    },
    {
     "data": {
      "text/plain": "Processing user photos:   0%|          | 0/4 [00:00<?, ?it/s]",
      "application/vnd.jupyter.widget-view+json": {
       "version_major": 2,
       "version_minor": 0,
       "model_id": "1da8ab51d1d440fea954eb0115e85293"
      }
     },
     "metadata": {},
     "output_type": "display_data"
    },
    {
     "data": {
      "text/plain": "Processing user photos:   0%|          | 0/5 [00:00<?, ?it/s]",
      "application/vnd.jupyter.widget-view+json": {
       "version_major": 2,
       "version_minor": 0,
       "model_id": "c685b24b6bd047a0abf57cc987902412"
      }
     },
     "metadata": {},
     "output_type": "display_data"
    }
   ],
   "source": [
    "incoming_authorized_users_path = os.path.join(\n",
    "    \"data\", \"database\", \"incoming_users\", \"authorized_users\"\n",
    ")\n",
    "\n",
    "for person_id in tqdm(\n",
    "    iterable=os.listdir(incoming_authorized_users_path), desc=\"Processing users\"\n",
    "):\n",
    "    for person_photo in tqdm(\n",
    "        iterable=os.listdir(os.path.join(incoming_authorized_users_path, person_id)),\n",
    "        desc=\"Processing user photos\",\n",
    "        leave=False,\n",
    "    ):\n",
    "        faces_found = DeepFace.find(\n",
    "            img_path=os.path.join(\n",
    "                incoming_authorized_users_path, person_id, person_photo\n",
    "            ),\n",
    "            db_path=os.path.join(\"data\", \"database\", \"authorized_users\"),\n",
    "            enforce_detection=False,\n",
    "            silent=True\n",
    "        )\n",
    "\n",
    "        predicted_user_name = faces_found[0][\"identity\"].apply(\n",
    "            lambda x: Path(x).parts[3]\n",
    "        )[\n",
    "            0\n",
    "        ]  # get best match\n",
    "        \n",
    "        predicted_cosine_distance = faces_found[0][\"distance\"]\n",
    "\n",
    "        df_tested_user = pd.DataFrame(\n",
    "            {\n",
    "                \"image_path\": os.path.join(\n",
    "                    incoming_authorized_users_path, person_id, person_photo\n",
    "                ),\n",
    "                \"truth_label\": person_id,\n",
    "                \"predicted_label\": predicted_user_name,\n",
    "                \"cosine_distance\": predicted_cosine_distance\n",
    "            },\n",
    "            index=[0],\n",
    "        )\n",
    "\n",
    "        testing_authorized_users = pd.concat(\n",
    "            [testing_authorized_users, df_tested_user], ignore_index=True\n",
    "        )"
   ],
   "metadata": {
    "collapsed": false,
    "ExecuteTime": {
     "end_time": "2024-04-03T10:41:10.240171Z",
     "start_time": "2024-04-03T10:37:49.308844Z"
    }
   },
   "id": "bbfbef7e3e61642",
   "execution_count": 36
  },
  {
   "cell_type": "code",
   "outputs": [],
   "source": [
    "testing_authorized_users[\"is_match\"] = (\n",
    "    testing_authorized_users[\"truth_label\"]\n",
    "    == testing_authorized_users[\"predicted_label\"]\n",
    ") * 1"
   ],
   "metadata": {
    "collapsed": false,
    "ExecuteTime": {
     "end_time": "2024-04-03T10:41:10.246803Z",
     "start_time": "2024-04-03T10:41:10.242184Z"
    }
   },
   "id": "665ee688bf2f0946",
   "execution_count": 37
  },
  {
   "cell_type": "code",
   "outputs": [
    {
     "data": {
      "text/plain": "0.914572864321608"
     },
     "execution_count": 38,
     "metadata": {},
     "output_type": "execute_result"
    }
   ],
   "source": [
    "testing_authorized_users[\"is_match\"].sum() / len(testing_authorized_users)"
   ],
   "metadata": {
    "collapsed": false,
    "ExecuteTime": {
     "end_time": "2024-04-03T10:41:10.261171Z",
     "start_time": "2024-04-03T10:41:10.247759Z"
    }
   },
   "id": "4845b9353e0db3ec",
   "execution_count": 38
  },
  {
   "cell_type": "code",
   "outputs": [
    {
     "data": {
      "text/plain": "                                            image_path truth_label  \\\n0    data\\database\\incoming_users\\authorized_users\\...          50   \n1    data\\database\\incoming_users\\authorized_users\\...          50   \n2    data\\database\\incoming_users\\authorized_users\\...          50   \n3    data\\database\\incoming_users\\authorized_users\\...           1   \n4    data\\database\\incoming_users\\authorized_users\\...           1   \n..                                                 ...         ...   \n194  data\\database\\incoming_users\\authorized_users\\...          49   \n195  data\\database\\incoming_users\\authorized_users\\...          49   \n196  data\\database\\incoming_users\\authorized_users\\...          49   \n197  data\\database\\incoming_users\\authorized_users\\...          49   \n198  data\\database\\incoming_users\\authorized_users\\...          49   \n\n    predicted_label  cosine_distance  is_match  \n0                50         0.351713         1  \n1                50         0.366908         1  \n2                50         0.369449         1  \n3                 1         0.330864         1  \n4                 8         0.579042         0  \n..              ...              ...       ...  \n194              49         0.426673         1  \n195              49         0.454959         1  \n196              49         0.338384         1  \n197              49         0.338594         1  \n198              49         0.448946         1  \n\n[199 rows x 5 columns]",
      "text/html": "<div>\n<style scoped>\n    .dataframe tbody tr th:only-of-type {\n        vertical-align: middle;\n    }\n\n    .dataframe tbody tr th {\n        vertical-align: top;\n    }\n\n    .dataframe thead th {\n        text-align: right;\n    }\n</style>\n<table border=\"1\" class=\"dataframe\">\n  <thead>\n    <tr style=\"text-align: right;\">\n      <th></th>\n      <th>image_path</th>\n      <th>truth_label</th>\n      <th>predicted_label</th>\n      <th>cosine_distance</th>\n      <th>is_match</th>\n    </tr>\n  </thead>\n  <tbody>\n    <tr>\n      <th>0</th>\n      <td>data\\database\\incoming_users\\authorized_users\\...</td>\n      <td>50</td>\n      <td>50</td>\n      <td>0.351713</td>\n      <td>1</td>\n    </tr>\n    <tr>\n      <th>1</th>\n      <td>data\\database\\incoming_users\\authorized_users\\...</td>\n      <td>50</td>\n      <td>50</td>\n      <td>0.366908</td>\n      <td>1</td>\n    </tr>\n    <tr>\n      <th>2</th>\n      <td>data\\database\\incoming_users\\authorized_users\\...</td>\n      <td>50</td>\n      <td>50</td>\n      <td>0.369449</td>\n      <td>1</td>\n    </tr>\n    <tr>\n      <th>3</th>\n      <td>data\\database\\incoming_users\\authorized_users\\...</td>\n      <td>1</td>\n      <td>1</td>\n      <td>0.330864</td>\n      <td>1</td>\n    </tr>\n    <tr>\n      <th>4</th>\n      <td>data\\database\\incoming_users\\authorized_users\\...</td>\n      <td>1</td>\n      <td>8</td>\n      <td>0.579042</td>\n      <td>0</td>\n    </tr>\n    <tr>\n      <th>...</th>\n      <td>...</td>\n      <td>...</td>\n      <td>...</td>\n      <td>...</td>\n      <td>...</td>\n    </tr>\n    <tr>\n      <th>194</th>\n      <td>data\\database\\incoming_users\\authorized_users\\...</td>\n      <td>49</td>\n      <td>49</td>\n      <td>0.426673</td>\n      <td>1</td>\n    </tr>\n    <tr>\n      <th>195</th>\n      <td>data\\database\\incoming_users\\authorized_users\\...</td>\n      <td>49</td>\n      <td>49</td>\n      <td>0.454959</td>\n      <td>1</td>\n    </tr>\n    <tr>\n      <th>196</th>\n      <td>data\\database\\incoming_users\\authorized_users\\...</td>\n      <td>49</td>\n      <td>49</td>\n      <td>0.338384</td>\n      <td>1</td>\n    </tr>\n    <tr>\n      <th>197</th>\n      <td>data\\database\\incoming_users\\authorized_users\\...</td>\n      <td>49</td>\n      <td>49</td>\n      <td>0.338594</td>\n      <td>1</td>\n    </tr>\n    <tr>\n      <th>198</th>\n      <td>data\\database\\incoming_users\\authorized_users\\...</td>\n      <td>49</td>\n      <td>49</td>\n      <td>0.448946</td>\n      <td>1</td>\n    </tr>\n  </tbody>\n</table>\n<p>199 rows × 5 columns</p>\n</div>"
     },
     "execution_count": 39,
     "metadata": {},
     "output_type": "execute_result"
    }
   ],
   "source": [
    "testing_authorized_users"
   ],
   "metadata": {
    "collapsed": false,
    "ExecuteTime": {
     "end_time": "2024-04-03T10:41:10.270128Z",
     "start_time": "2024-04-03T10:41:10.262546Z"
    }
   },
   "id": "d9b90f87187f43d",
   "execution_count": 39
  },
  {
   "cell_type": "markdown",
   "source": [
    "# Testing Unauthorized Users"
   ],
   "metadata": {
    "collapsed": false
   },
   "id": "11cdb41c7a388ffa"
  },
  {
   "cell_type": "code",
   "outputs": [],
   "source": [
    "testing_unauthorized_users = pd.DataFrame(\n",
    "    columns=[\"image_path\", \"truth_label\", \"predicted_label\", \"cosine_distance\"]\n",
    ")"
   ],
   "metadata": {
    "collapsed": false,
    "ExecuteTime": {
     "end_time": "2024-04-03T10:33:17.947540Z",
     "start_time": "2024-04-03T10:33:17.943186Z"
    }
   },
   "id": "ed428b32582f544c",
   "execution_count": 29
  },
  {
   "cell_type": "code",
   "outputs": [
    {
     "data": {
      "text/plain": "Processing users:   0%|          | 0/50 [00:00<?, ?it/s]",
      "application/vnd.jupyter.widget-view+json": {
       "version_major": 2,
       "version_minor": 0,
       "model_id": "fc36bba14d4f4f938396892c95ea39b0"
      }
     },
     "metadata": {},
     "output_type": "display_data"
    },
    {
     "data": {
      "text/plain": "Processing user photos:   0%|          | 0/3 [00:00<?, ?it/s]",
      "application/vnd.jupyter.widget-view+json": {
       "version_major": 2,
       "version_minor": 0,
       "model_id": "91fc18e4a07447bb98af1d8fe1b8a3bd"
      }
     },
     "metadata": {},
     "output_type": "display_data"
    },
    {
     "data": {
      "text/plain": "Processing user photos:   0%|          | 0/5 [00:00<?, ?it/s]",
      "application/vnd.jupyter.widget-view+json": {
       "version_major": 2,
       "version_minor": 0,
       "model_id": "a170220f35cd44ba84edfbd0272f0a3b"
      }
     },
     "metadata": {},
     "output_type": "display_data"
    },
    {
     "data": {
      "text/plain": "Processing user photos:   0%|          | 0/4 [00:00<?, ?it/s]",
      "application/vnd.jupyter.widget-view+json": {
       "version_major": 2,
       "version_minor": 0,
       "model_id": "6893d8553917441a98e6f5227a4c586f"
      }
     },
     "metadata": {},
     "output_type": "display_data"
    },
    {
     "data": {
      "text/plain": "Processing user photos:   0%|          | 0/5 [00:00<?, ?it/s]",
      "application/vnd.jupyter.widget-view+json": {
       "version_major": 2,
       "version_minor": 0,
       "model_id": "6ae59ee260dd4cf5bbd3b707e183530b"
      }
     },
     "metadata": {},
     "output_type": "display_data"
    },
    {
     "data": {
      "text/plain": "Processing user photos:   0%|          | 0/5 [00:00<?, ?it/s]",
      "application/vnd.jupyter.widget-view+json": {
       "version_major": 2,
       "version_minor": 0,
       "model_id": "cfc20821fe874d9fbfcfeedd9769884c"
      }
     },
     "metadata": {},
     "output_type": "display_data"
    },
    {
     "data": {
      "text/plain": "Processing user photos:   0%|          | 0/4 [00:00<?, ?it/s]",
      "application/vnd.jupyter.widget-view+json": {
       "version_major": 2,
       "version_minor": 0,
       "model_id": "1aeebbe07ad341e09ae14851a446e4e4"
      }
     },
     "metadata": {},
     "output_type": "display_data"
    },
    {
     "data": {
      "text/plain": "Processing user photos:   0%|          | 0/4 [00:00<?, ?it/s]",
      "application/vnd.jupyter.widget-view+json": {
       "version_major": 2,
       "version_minor": 0,
       "model_id": "6f3abe5e031e41399538edd35431e2a7"
      }
     },
     "metadata": {},
     "output_type": "display_data"
    },
    {
     "data": {
      "text/plain": "Processing user photos:   0%|          | 0/5 [00:00<?, ?it/s]",
      "application/vnd.jupyter.widget-view+json": {
       "version_major": 2,
       "version_minor": 0,
       "model_id": "9b6450ae6cfd4587a63e88a11f7fee33"
      }
     },
     "metadata": {},
     "output_type": "display_data"
    },
    {
     "data": {
      "text/plain": "Processing user photos:   0%|          | 0/5 [00:00<?, ?it/s]",
      "application/vnd.jupyter.widget-view+json": {
       "version_major": 2,
       "version_minor": 0,
       "model_id": "29ea363aacf74270940a11f6040ba08e"
      }
     },
     "metadata": {},
     "output_type": "display_data"
    },
    {
     "data": {
      "text/plain": "Processing user photos:   0%|          | 0/3 [00:00<?, ?it/s]",
      "application/vnd.jupyter.widget-view+json": {
       "version_major": 2,
       "version_minor": 0,
       "model_id": "2a7196a99e8d4882afef42667cf1e78b"
      }
     },
     "metadata": {},
     "output_type": "display_data"
    },
    {
     "data": {
      "text/plain": "Processing user photos:   0%|          | 0/5 [00:00<?, ?it/s]",
      "application/vnd.jupyter.widget-view+json": {
       "version_major": 2,
       "version_minor": 0,
       "model_id": "192156041c924896b21b78805be3d76b"
      }
     },
     "metadata": {},
     "output_type": "display_data"
    },
    {
     "data": {
      "text/plain": "Processing user photos:   0%|          | 0/1 [00:00<?, ?it/s]",
      "application/vnd.jupyter.widget-view+json": {
       "version_major": 2,
       "version_minor": 0,
       "model_id": "aaf61e57380e4938835f113502670180"
      }
     },
     "metadata": {},
     "output_type": "display_data"
    },
    {
     "data": {
      "text/plain": "Processing user photos:   0%|          | 0/2 [00:00<?, ?it/s]",
      "application/vnd.jupyter.widget-view+json": {
       "version_major": 2,
       "version_minor": 0,
       "model_id": "cf34d9d0aead4796830565c7ca0d6fb5"
      }
     },
     "metadata": {},
     "output_type": "display_data"
    },
    {
     "data": {
      "text/plain": "Processing user photos:   0%|          | 0/5 [00:00<?, ?it/s]",
      "application/vnd.jupyter.widget-view+json": {
       "version_major": 2,
       "version_minor": 0,
       "model_id": "1d93cc3528f44f829d7da62191051423"
      }
     },
     "metadata": {},
     "output_type": "display_data"
    },
    {
     "data": {
      "text/plain": "Processing user photos:   0%|          | 0/6 [00:00<?, ?it/s]",
      "application/vnd.jupyter.widget-view+json": {
       "version_major": 2,
       "version_minor": 0,
       "model_id": "943970af6756428fa85eb916cfb4627b"
      }
     },
     "metadata": {},
     "output_type": "display_data"
    },
    {
     "data": {
      "text/plain": "Processing user photos:   0%|          | 0/4 [00:00<?, ?it/s]",
      "application/vnd.jupyter.widget-view+json": {
       "version_major": 2,
       "version_minor": 0,
       "model_id": "6629b33e84f747fca92d62d98a16a6cb"
      }
     },
     "metadata": {},
     "output_type": "display_data"
    },
    {
     "data": {
      "text/plain": "Processing user photos:   0%|          | 0/5 [00:00<?, ?it/s]",
      "application/vnd.jupyter.widget-view+json": {
       "version_major": 2,
       "version_minor": 0,
       "model_id": "31caa118c5c24dcda50e68035a10f2ba"
      }
     },
     "metadata": {},
     "output_type": "display_data"
    },
    {
     "data": {
      "text/plain": "Processing user photos:   0%|          | 0/4 [00:00<?, ?it/s]",
      "application/vnd.jupyter.widget-view+json": {
       "version_major": 2,
       "version_minor": 0,
       "model_id": "9999c85297b34a5b885d3968ba29c8a0"
      }
     },
     "metadata": {},
     "output_type": "display_data"
    },
    {
     "data": {
      "text/plain": "Processing user photos:   0%|          | 0/5 [00:00<?, ?it/s]",
      "application/vnd.jupyter.widget-view+json": {
       "version_major": 2,
       "version_minor": 0,
       "model_id": "69f56d982c934dc1adfb471ff1dbaaac"
      }
     },
     "metadata": {},
     "output_type": "display_data"
    },
    {
     "data": {
      "text/plain": "Processing user photos:   0%|          | 0/4 [00:00<?, ?it/s]",
      "application/vnd.jupyter.widget-view+json": {
       "version_major": 2,
       "version_minor": 0,
       "model_id": "3033b6ecfdba45c49b002ef20a46d423"
      }
     },
     "metadata": {},
     "output_type": "display_data"
    },
    {
     "data": {
      "text/plain": "Processing user photos:   0%|          | 0/3 [00:00<?, ?it/s]",
      "application/vnd.jupyter.widget-view+json": {
       "version_major": 2,
       "version_minor": 0,
       "model_id": "7f0d371a0f3b4b79b10ce997d8c91b5e"
      }
     },
     "metadata": {},
     "output_type": "display_data"
    },
    {
     "data": {
      "text/plain": "Processing user photos:   0%|          | 0/5 [00:00<?, ?it/s]",
      "application/vnd.jupyter.widget-view+json": {
       "version_major": 2,
       "version_minor": 0,
       "model_id": "56bb3a8988df431d92fb9c220588dd22"
      }
     },
     "metadata": {},
     "output_type": "display_data"
    },
    {
     "data": {
      "text/plain": "Processing user photos:   0%|          | 0/6 [00:00<?, ?it/s]",
      "application/vnd.jupyter.widget-view+json": {
       "version_major": 2,
       "version_minor": 0,
       "model_id": "7355ade2b85e41caa96951b3b338e741"
      }
     },
     "metadata": {},
     "output_type": "display_data"
    },
    {
     "data": {
      "text/plain": "Processing user photos:   0%|          | 0/5 [00:00<?, ?it/s]",
      "application/vnd.jupyter.widget-view+json": {
       "version_major": 2,
       "version_minor": 0,
       "model_id": "45ddcbc1b09c41c4aaf24811600eacae"
      }
     },
     "metadata": {},
     "output_type": "display_data"
    },
    {
     "data": {
      "text/plain": "Processing user photos:   0%|          | 0/5 [00:00<?, ?it/s]",
      "application/vnd.jupyter.widget-view+json": {
       "version_major": 2,
       "version_minor": 0,
       "model_id": "e728dbdbc79040a9a1908190243abb5f"
      }
     },
     "metadata": {},
     "output_type": "display_data"
    },
    {
     "data": {
      "text/plain": "Processing user photos:   0%|          | 0/5 [00:00<?, ?it/s]",
      "application/vnd.jupyter.widget-view+json": {
       "version_major": 2,
       "version_minor": 0,
       "model_id": "e2e074fd3e074c2388cbd0d86824c0cd"
      }
     },
     "metadata": {},
     "output_type": "display_data"
    },
    {
     "data": {
      "text/plain": "Processing user photos:   0%|          | 0/5 [00:00<?, ?it/s]",
      "application/vnd.jupyter.widget-view+json": {
       "version_major": 2,
       "version_minor": 0,
       "model_id": "65e09a908a1e4dce864ca4d888a83379"
      }
     },
     "metadata": {},
     "output_type": "display_data"
    },
    {
     "data": {
      "text/plain": "Processing user photos:   0%|          | 0/2 [00:00<?, ?it/s]",
      "application/vnd.jupyter.widget-view+json": {
       "version_major": 2,
       "version_minor": 0,
       "model_id": "83e4be51f4914682a52cdf2d6760235c"
      }
     },
     "metadata": {},
     "output_type": "display_data"
    },
    {
     "data": {
      "text/plain": "Processing user photos:   0%|          | 0/5 [00:00<?, ?it/s]",
      "application/vnd.jupyter.widget-view+json": {
       "version_major": 2,
       "version_minor": 0,
       "model_id": "f7da7c306c074db29a173fa25d5523f8"
      }
     },
     "metadata": {},
     "output_type": "display_data"
    },
    {
     "data": {
      "text/plain": "Processing user photos:   0%|          | 0/4 [00:00<?, ?it/s]",
      "application/vnd.jupyter.widget-view+json": {
       "version_major": 2,
       "version_minor": 0,
       "model_id": "7388b5d6eba84b68ac17ff9ea5aed83a"
      }
     },
     "metadata": {},
     "output_type": "display_data"
    },
    {
     "data": {
      "text/plain": "Processing user photos:   0%|          | 0/5 [00:00<?, ?it/s]",
      "application/vnd.jupyter.widget-view+json": {
       "version_major": 2,
       "version_minor": 0,
       "model_id": "2604d9fcd25641369aeffc0d695ca868"
      }
     },
     "metadata": {},
     "output_type": "display_data"
    },
    {
     "data": {
      "text/plain": "Processing user photos:   0%|          | 0/1 [00:00<?, ?it/s]",
      "application/vnd.jupyter.widget-view+json": {
       "version_major": 2,
       "version_minor": 0,
       "model_id": "f44ca9b4c0b04d47bce4878fae5547b4"
      }
     },
     "metadata": {},
     "output_type": "display_data"
    },
    {
     "data": {
      "text/plain": "Processing user photos:   0%|          | 0/5 [00:00<?, ?it/s]",
      "application/vnd.jupyter.widget-view+json": {
       "version_major": 2,
       "version_minor": 0,
       "model_id": "fa7370fccabd404fb9bf0de402dc0091"
      }
     },
     "metadata": {},
     "output_type": "display_data"
    },
    {
     "data": {
      "text/plain": "Processing user photos:   0%|          | 0/5 [00:00<?, ?it/s]",
      "application/vnd.jupyter.widget-view+json": {
       "version_major": 2,
       "version_minor": 0,
       "model_id": "e6e4fa9d281b4ff1ab5c676728cdbb3c"
      }
     },
     "metadata": {},
     "output_type": "display_data"
    },
    {
     "data": {
      "text/plain": "Processing user photos:   0%|          | 0/4 [00:00<?, ?it/s]",
      "application/vnd.jupyter.widget-view+json": {
       "version_major": 2,
       "version_minor": 0,
       "model_id": "cbe39d33e9ea47a1ae37db009dd746a6"
      }
     },
     "metadata": {},
     "output_type": "display_data"
    },
    {
     "data": {
      "text/plain": "Processing user photos:   0%|          | 0/5 [00:00<?, ?it/s]",
      "application/vnd.jupyter.widget-view+json": {
       "version_major": 2,
       "version_minor": 0,
       "model_id": "854b7a1f9d0a4693b18f8fd938cf2f03"
      }
     },
     "metadata": {},
     "output_type": "display_data"
    },
    {
     "data": {
      "text/plain": "Processing user photos:   0%|          | 0/3 [00:00<?, ?it/s]",
      "application/vnd.jupyter.widget-view+json": {
       "version_major": 2,
       "version_minor": 0,
       "model_id": "29d0c45cf1cd45d2a4cb6c59c37cfe24"
      }
     },
     "metadata": {},
     "output_type": "display_data"
    },
    {
     "data": {
      "text/plain": "Processing user photos:   0%|          | 0/4 [00:00<?, ?it/s]",
      "application/vnd.jupyter.widget-view+json": {
       "version_major": 2,
       "version_minor": 0,
       "model_id": "153bb1ef05d94bc6b645329ecd12ed94"
      }
     },
     "metadata": {},
     "output_type": "display_data"
    },
    {
     "data": {
      "text/plain": "Processing user photos:   0%|          | 0/5 [00:00<?, ?it/s]",
      "application/vnd.jupyter.widget-view+json": {
       "version_major": 2,
       "version_minor": 0,
       "model_id": "25fdbba045e14318ba2a907c5b10a0ac"
      }
     },
     "metadata": {},
     "output_type": "display_data"
    },
    {
     "data": {
      "text/plain": "Processing user photos:   0%|          | 0/5 [00:00<?, ?it/s]",
      "application/vnd.jupyter.widget-view+json": {
       "version_major": 2,
       "version_minor": 0,
       "model_id": "7563872c1f8c417ba680adb4c4a3f8a2"
      }
     },
     "metadata": {},
     "output_type": "display_data"
    },
    {
     "data": {
      "text/plain": "Processing user photos:   0%|          | 0/5 [00:00<?, ?it/s]",
      "application/vnd.jupyter.widget-view+json": {
       "version_major": 2,
       "version_minor": 0,
       "model_id": "36ed8931e86d4a0cb0c3d291d5a57c31"
      }
     },
     "metadata": {},
     "output_type": "display_data"
    },
    {
     "data": {
      "text/plain": "Processing user photos:   0%|          | 0/4 [00:00<?, ?it/s]",
      "application/vnd.jupyter.widget-view+json": {
       "version_major": 2,
       "version_minor": 0,
       "model_id": "23d411b580044761bfae33df54c1c215"
      }
     },
     "metadata": {},
     "output_type": "display_data"
    },
    {
     "data": {
      "text/plain": "Processing user photos:   0%|          | 0/6 [00:00<?, ?it/s]",
      "application/vnd.jupyter.widget-view+json": {
       "version_major": 2,
       "version_minor": 0,
       "model_id": "4bb7b1fdb2c941e3bfc495da36190a68"
      }
     },
     "metadata": {},
     "output_type": "display_data"
    },
    {
     "data": {
      "text/plain": "Processing user photos:   0%|          | 0/5 [00:00<?, ?it/s]",
      "application/vnd.jupyter.widget-view+json": {
       "version_major": 2,
       "version_minor": 0,
       "model_id": "e28d300ee21c4fe39c3fd1ad28f9e6b4"
      }
     },
     "metadata": {},
     "output_type": "display_data"
    },
    {
     "data": {
      "text/plain": "Processing user photos:   0%|          | 0/1 [00:00<?, ?it/s]",
      "application/vnd.jupyter.widget-view+json": {
       "version_major": 2,
       "version_minor": 0,
       "model_id": "a2272dbfe62948afb71f971ab17afb43"
      }
     },
     "metadata": {},
     "output_type": "display_data"
    },
    {
     "data": {
      "text/plain": "Processing user photos:   0%|          | 0/5 [00:00<?, ?it/s]",
      "application/vnd.jupyter.widget-view+json": {
       "version_major": 2,
       "version_minor": 0,
       "model_id": "cb6221c2d3494664854a0eb4fa72da08"
      }
     },
     "metadata": {},
     "output_type": "display_data"
    },
    {
     "data": {
      "text/plain": "Processing user photos:   0%|          | 0/5 [00:00<?, ?it/s]",
      "application/vnd.jupyter.widget-view+json": {
       "version_major": 2,
       "version_minor": 0,
       "model_id": "abc09ffa78174f6f948b58f4bdb44fae"
      }
     },
     "metadata": {},
     "output_type": "display_data"
    },
    {
     "data": {
      "text/plain": "Processing user photos:   0%|          | 0/6 [00:00<?, ?it/s]",
      "application/vnd.jupyter.widget-view+json": {
       "version_major": 2,
       "version_minor": 0,
       "model_id": "81c5e12fc7f9449a840f7e0cd3d1f44a"
      }
     },
     "metadata": {},
     "output_type": "display_data"
    },
    {
     "data": {
      "text/plain": "Processing user photos:   0%|          | 0/5 [00:00<?, ?it/s]",
      "application/vnd.jupyter.widget-view+json": {
       "version_major": 2,
       "version_minor": 0,
       "model_id": "20848f4e801a4154bb139eb4188d2d9d"
      }
     },
     "metadata": {},
     "output_type": "display_data"
    },
    {
     "data": {
      "text/plain": "Processing user photos:   0%|          | 0/1 [00:00<?, ?it/s]",
      "application/vnd.jupyter.widget-view+json": {
       "version_major": 2,
       "version_minor": 0,
       "model_id": "36d0b84f5658495c99abd1499ff36342"
      }
     },
     "metadata": {},
     "output_type": "display_data"
    }
   ],
   "source": [
    "incoming_unauthorized_users_path = os.path.join(\n",
    "    \"data\", \"database\", \"incoming_users\", \"unauthorized_users\"\n",
    ")\n",
    "\n",
    "for person_id in tqdm(\n",
    "    iterable=os.listdir(incoming_unauthorized_users_path), desc=\"Processing users\"\n",
    "):\n",
    "    for person_photo in tqdm(\n",
    "        iterable=os.listdir(os.path.join(incoming_unauthorized_users_path, person_id)),\n",
    "        desc=\"Processing user photos\",\n",
    "        leave=False,\n",
    "    ):\n",
    "        faces_found = DeepFace.find(\n",
    "            img_path=os.path.join(\n",
    "                incoming_unauthorized_users_path, person_id, person_photo\n",
    "            ),\n",
    "            db_path=os.path.join(\"data\", \"database\", \"authorized_users\"),\n",
    "            enforce_detection=False,\n",
    "            silent=True\n",
    "        )\n",
    "\n",
    "        if not faces_found[0].empty:\n",
    "            predicted_user_name = faces_found[0][\"identity\"].apply(\n",
    "                lambda x: Path(x).parts[3]\n",
    "            )[\n",
    "                0\n",
    "            ]  # get best match\n",
    "            predicted_cosine_distance = faces_found[0][\"distance\"]\n",
    "        else:\n",
    "            predicted_user_name = -1\n",
    "            predicted_cosine_distance = -1\n",
    "\n",
    "        df_tested_user = pd.DataFrame(\n",
    "            {\n",
    "                \"image_path\": os.path.join(\n",
    "                    incoming_unauthorized_users_path, person_id, person_photo\n",
    "                ),\n",
    "                \"truth_label\": person_id,\n",
    "                \"predicted_label\": predicted_user_name,\n",
    "                \"cosine_distance\": predicted_cosine_distance\n",
    "            },\n",
    "            index=[0],\n",
    "        )\n",
    "\n",
    "        testing_unauthorized_users = pd.concat(\n",
    "            [testing_unauthorized_users, df_tested_user], ignore_index=True\n",
    "        )"
   ],
   "metadata": {
    "collapsed": false,
    "ExecuteTime": {
     "end_time": "2024-04-03T10:37:49.261843Z",
     "start_time": "2024-04-03T10:33:19.321242Z"
    }
   },
   "id": "930a2097416f67f",
   "execution_count": 30
  },
  {
   "cell_type": "code",
   "outputs": [],
   "source": [
    "testing_unauthorized_users[\"is_match\"] = (\n",
    "    testing_unauthorized_users[\"truth_label\"]\n",
    "    == testing_unauthorized_users[\"predicted_label\"]\n",
    ") * 1"
   ],
   "metadata": {
    "collapsed": false,
    "ExecuteTime": {
     "end_time": "2024-04-03T10:37:49.268658Z",
     "start_time": "2024-04-03T10:37:49.262849Z"
    }
   },
   "id": "6431d3933d0bd7b0",
   "execution_count": 31
  },
  {
   "cell_type": "code",
   "outputs": [
    {
     "data": {
      "text/plain": "0.0"
     },
     "execution_count": 32,
     "metadata": {},
     "output_type": "execute_result"
    }
   ],
   "source": [
    "testing_unauthorized_users[\"is_match\"].sum() / len(testing_unauthorized_users)"
   ],
   "metadata": {
    "collapsed": false,
    "ExecuteTime": {
     "end_time": "2024-04-03T10:37:49.285231Z",
     "start_time": "2024-04-03T10:37:49.270172Z"
    }
   },
   "id": "a7570cabaadf7e96",
   "execution_count": 32
  },
  {
   "cell_type": "code",
   "outputs": [
    {
     "data": {
      "text/plain": "                                            image_path truth_label  \\\n0    data\\database\\incoming_users\\unauthorized_user...         150   \n1    data\\database\\incoming_users\\unauthorized_user...         150   \n2    data\\database\\incoming_users\\unauthorized_user...         150   \n3    data\\database\\incoming_users\\unauthorized_user...         101   \n4    data\\database\\incoming_users\\unauthorized_user...         101   \n..                                                 ...         ...   \n209  data\\database\\incoming_users\\unauthorized_user...         148   \n210  data\\database\\incoming_users\\unauthorized_user...         148   \n211  data\\database\\incoming_users\\unauthorized_user...         148   \n212  data\\database\\incoming_users\\unauthorized_user...         148   \n213  data\\database\\incoming_users\\unauthorized_user...         149   \n\n    predicted_label  cosine_distance  is_match  \n0                43         0.558697         0  \n1                27         0.528804         0  \n2                89         0.608577         0  \n3                -1        -1.000000         0  \n4                78         0.605179         0  \n..              ...              ...       ...  \n209              -1        -1.000000         0  \n210              41         0.603607         0  \n211              41         0.642242         0  \n212              41         0.661102         0  \n213              41         0.489096         0  \n\n[214 rows x 5 columns]",
      "text/html": "<div>\n<style scoped>\n    .dataframe tbody tr th:only-of-type {\n        vertical-align: middle;\n    }\n\n    .dataframe tbody tr th {\n        vertical-align: top;\n    }\n\n    .dataframe thead th {\n        text-align: right;\n    }\n</style>\n<table border=\"1\" class=\"dataframe\">\n  <thead>\n    <tr style=\"text-align: right;\">\n      <th></th>\n      <th>image_path</th>\n      <th>truth_label</th>\n      <th>predicted_label</th>\n      <th>cosine_distance</th>\n      <th>is_match</th>\n    </tr>\n  </thead>\n  <tbody>\n    <tr>\n      <th>0</th>\n      <td>data\\database\\incoming_users\\unauthorized_user...</td>\n      <td>150</td>\n      <td>43</td>\n      <td>0.558697</td>\n      <td>0</td>\n    </tr>\n    <tr>\n      <th>1</th>\n      <td>data\\database\\incoming_users\\unauthorized_user...</td>\n      <td>150</td>\n      <td>27</td>\n      <td>0.528804</td>\n      <td>0</td>\n    </tr>\n    <tr>\n      <th>2</th>\n      <td>data\\database\\incoming_users\\unauthorized_user...</td>\n      <td>150</td>\n      <td>89</td>\n      <td>0.608577</td>\n      <td>0</td>\n    </tr>\n    <tr>\n      <th>3</th>\n      <td>data\\database\\incoming_users\\unauthorized_user...</td>\n      <td>101</td>\n      <td>-1</td>\n      <td>-1.000000</td>\n      <td>0</td>\n    </tr>\n    <tr>\n      <th>4</th>\n      <td>data\\database\\incoming_users\\unauthorized_user...</td>\n      <td>101</td>\n      <td>78</td>\n      <td>0.605179</td>\n      <td>0</td>\n    </tr>\n    <tr>\n      <th>...</th>\n      <td>...</td>\n      <td>...</td>\n      <td>...</td>\n      <td>...</td>\n      <td>...</td>\n    </tr>\n    <tr>\n      <th>209</th>\n      <td>data\\database\\incoming_users\\unauthorized_user...</td>\n      <td>148</td>\n      <td>-1</td>\n      <td>-1.000000</td>\n      <td>0</td>\n    </tr>\n    <tr>\n      <th>210</th>\n      <td>data\\database\\incoming_users\\unauthorized_user...</td>\n      <td>148</td>\n      <td>41</td>\n      <td>0.603607</td>\n      <td>0</td>\n    </tr>\n    <tr>\n      <th>211</th>\n      <td>data\\database\\incoming_users\\unauthorized_user...</td>\n      <td>148</td>\n      <td>41</td>\n      <td>0.642242</td>\n      <td>0</td>\n    </tr>\n    <tr>\n      <th>212</th>\n      <td>data\\database\\incoming_users\\unauthorized_user...</td>\n      <td>148</td>\n      <td>41</td>\n      <td>0.661102</td>\n      <td>0</td>\n    </tr>\n    <tr>\n      <th>213</th>\n      <td>data\\database\\incoming_users\\unauthorized_user...</td>\n      <td>149</td>\n      <td>41</td>\n      <td>0.489096</td>\n      <td>0</td>\n    </tr>\n  </tbody>\n</table>\n<p>214 rows × 5 columns</p>\n</div>"
     },
     "execution_count": 33,
     "metadata": {},
     "output_type": "execute_result"
    }
   ],
   "source": [
    "testing_unauthorized_users"
   ],
   "metadata": {
    "collapsed": false,
    "ExecuteTime": {
     "end_time": "2024-04-03T10:37:49.297141Z",
     "start_time": "2024-04-03T10:37:49.287238Z"
    }
   },
   "id": "89bde60a1b015d1d",
   "execution_count": 33
  },
  {
   "cell_type": "code",
   "outputs": [
    {
     "data": {
      "text/plain": "predicted_label\n-1     20\n23     17\n27     13\n89     11\n97     10\n       ..\n76      1\n72      1\n58      1\n50      1\n100     1\nName: count, Length: 68, dtype: int64"
     },
     "execution_count": 20,
     "metadata": {},
     "output_type": "execute_result"
    }
   ],
   "source": [
    "testing_unauthorized_users.predicted_label.value_counts()"
   ],
   "metadata": {
    "collapsed": false,
    "ExecuteTime": {
     "end_time": "2024-04-03T09:54:10.090689Z",
     "start_time": "2024-04-03T09:54:10.086359Z"
    }
   },
   "id": "98fea23a39cbbcc8",
   "execution_count": 20
  }
 ],
 "metadata": {
  "kernelspec": {
   "display_name": "Python 3",
   "language": "python",
   "name": "python3"
  },
  "language_info": {
   "codemirror_mode": {
    "name": "ipython",
    "version": 2
   },
   "file_extension": ".py",
   "mimetype": "text/x-python",
   "name": "python",
   "nbconvert_exporter": "python",
   "pygments_lexer": "ipython2",
   "version": "2.7.6"
  }
 },
 "nbformat": 4,
 "nbformat_minor": 5
}
