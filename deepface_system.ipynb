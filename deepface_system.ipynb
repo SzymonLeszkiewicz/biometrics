{
 "cells": [
  {
   "metadata": {},
   "cell_type": "markdown",
   "source": "# Imports",
   "id": "ec4085f3b15f09cd"
  },
  {
   "metadata": {
    "ExecuteTime": {
     "end_time": "2024-04-08T07:37:26.666099Z",
     "start_time": "2024-04-08T07:37:19.377571Z"
    }
   },
   "cell_type": "code",
   "source": [
    "import os\n",
    "\n",
    "from verification_system import VerificationSystem"
   ],
   "id": "initial_id",
   "outputs": [
    {
     "name": "stdout",
     "output_type": "stream",
     "text": [
      "WARNING:tensorflow:From C:\\Users\\Kacper Kozaczko\\Desktop\\Stuff\\PWr\\III_semestr\\Biometria\\project_1\\biometrics\\venv\\Lib\\site-packages\\tf_keras\\src\\losses.py:2976: The name tf.losses.sparse_softmax_cross_entropy is deprecated. Please use tf.compat.v1.losses.sparse_softmax_cross_entropy instead.\n",
      "\n"
     ]
    }
   ],
   "execution_count": 1
  },
  {
   "metadata": {},
   "cell_type": "markdown",
   "source": "# Testing Single Users",
   "id": "35c99c72e72ad1af"
  },
  {
   "cell_type": "code",
   "source": [
    "verification_system = VerificationSystem(\n",
    "    database_path=os.path.join(\"data\", \"database\"),\n",
    ")"
   ],
   "metadata": {
    "collapsed": false,
    "ExecuteTime": {
     "end_time": "2024-04-08T07:37:32.218921Z",
     "start_time": "2024-04-08T07:37:26.667143Z"
    }
   },
   "id": "4bd75793e8ac26c5",
   "outputs": [
    {
     "name": "stdout",
     "output_type": "stream",
     "text": [
      "authorized_users\n",
      "24-04-08 09:37:30 - Searching data\\database\\incoming_users\\authorized_users\\25\\010802.jpg in 1826 length datastore\n",
      "24-04-08 09:37:32 - find function duration 5.542904376983643 seconds\n"
     ]
    }
   ],
   "execution_count": 2
  },
  {
   "metadata": {},
   "cell_type": "markdown",
   "source": "### Previously verified user",
   "id": "251b25ab61bba23c"
  },
  {
   "cell_type": "code",
   "source": [
    "verification_system.verify_user(\n",
    "    user_name=\"1\",\n",
    "    user_photo_path=verification_system.get_incoming_authorized_user_path(),\n",
    ")"
   ],
   "metadata": {
    "collapsed": false,
    "ExecuteTime": {
     "end_time": "2024-04-08T07:37:32.799738Z",
     "start_time": "2024-04-08T07:37:32.219931Z"
    }
   },
   "id": "1b38f796e553c3c6",
   "outputs": [
    {
     "data": {
      "text/plain": [
       "(False,\n",
       " 0     0.184427\n",
       " 1     0.211608\n",
       " 2     0.323785\n",
       " 3     0.338584\n",
       " 4     0.361090\n",
       " 5     0.366051\n",
       " 6     0.402765\n",
       " 7     0.405477\n",
       " 8     0.409725\n",
       " 9     0.413963\n",
       " 10    0.432747\n",
       " 11    0.433512\n",
       " 12    0.434237\n",
       " 13    0.443585\n",
       " 14    0.451397\n",
       " 15    0.457316\n",
       " 16    0.462487\n",
       " 17    0.462760\n",
       " 18    0.477086\n",
       " Name: distance, dtype: float64)"
      ]
     },
     "execution_count": 3,
     "metadata": {},
     "output_type": "execute_result"
    }
   ],
   "execution_count": 3
  },
  {
   "metadata": {},
   "cell_type": "markdown",
   "source": "### Not authorized user",
   "id": "280c39b983089af8"
  },
  {
   "cell_type": "code",
   "source": [
    "verification_system.verify_user(\n",
    "    user_name=\"101\",\n",
    "    user_photo_path=verification_system.get_incoming_unauthorized_user_path(),\n",
    ")"
   ],
   "metadata": {
    "collapsed": false,
    "ExecuteTime": {
     "end_time": "2024-04-08T07:38:07.264299Z",
     "start_time": "2024-04-08T07:38:05.545496Z"
    }
   },
   "id": "b7bef6bcb3dc3bdd",
   "outputs": [
    {
     "data": {
      "text/plain": [
       "(False,\n",
       " 0     0.414499\n",
       " 1     0.421113\n",
       " 2     0.421755\n",
       " 3     0.437628\n",
       " 4     0.438968\n",
       " 5     0.441391\n",
       " 6     0.449794\n",
       " 7     0.459349\n",
       " 8     0.466488\n",
       " 9     0.469024\n",
       " 10    0.476284\n",
       " 11    0.493759\n",
       " Name: distance, dtype: float64)"
      ]
     },
     "execution_count": 4,
     "metadata": {},
     "output_type": "execute_result"
    }
   ],
   "execution_count": 4
  },
  {
   "metadata": {},
   "cell_type": "markdown",
   "source": "### No face detected or above acceptance threshold",
   "id": "760417bd2158a7a6"
  },
  {
   "cell_type": "code",
   "source": [
    "verification_system.verify_user(\n",
    "    user_name=\"22\",\n",
    "    user_photo_path=verification_system.get_problematic_incoming_authorized_user_path(),\n",
    ")"
   ],
   "metadata": {
    "collapsed": false,
    "ExecuteTime": {
     "end_time": "2024-04-08T07:38:43.044310Z",
     "start_time": "2024-04-08T07:38:42.028276Z"
    }
   },
   "id": "74f0587f7c6106dd",
   "outputs": [
    {
     "data": {
      "text/plain": [
       "(False,\n",
       " 0     0.199151\n",
       " 1     0.208707\n",
       " 2     0.215399\n",
       " 3     0.221491\n",
       " 4     0.226376\n",
       "         ...   \n",
       " 66    0.482181\n",
       " 67    0.482275\n",
       " 68    0.484968\n",
       " 69    0.489738\n",
       " 70    0.496640\n",
       " Name: distance, Length: 71, dtype: float64)"
      ]
     },
     "execution_count": 5,
     "metadata": {},
     "output_type": "execute_result"
    }
   ],
   "execution_count": 5
  },
  {
   "metadata": {},
   "cell_type": "markdown",
   "source": "# Testing Multiple Users",
   "id": "f1cc390f85f88064"
  },
  {
   "metadata": {},
   "cell_type": "markdown",
   "source": "### Incoming Authorized Users",
   "id": "b6b9f38d1ec8bc2e"
  },
  {
   "metadata": {
    "ExecuteTime": {
     "end_time": "2024-04-08T07:42:29.910051Z",
     "start_time": "2024-04-08T07:40:20.522717Z"
    }
   },
   "cell_type": "code",
   "source": [
    "df_incoming_authorized_users = verification_system.verify_multiple_users(\n",
    "    incoming_users_path=os.path.join(\n",
    "        \"data\", \"database\", \"incoming_users\", \"authorized_users\"\n",
    "    ),\n",
    ")"
   ],
   "id": "3318716a46931b6a",
   "outputs": [],
   "execution_count": 6
  },
  {
   "metadata": {
    "ExecuteTime": {
     "end_time": "2024-04-08T07:42:32.976559Z",
     "start_time": "2024-04-08T07:42:32.967433Z"
    }
   },
   "cell_type": "code",
   "source": "df_incoming_authorized_users.head()",
   "id": "40a7054acc203b01",
   "outputs": [
    {
     "data": {
      "text/plain": [
       "                                          image_path is_access_granted  \\\n",
       "0  data\\database\\incoming_users\\authorized_users\\...              True   \n",
       "1  data\\database\\incoming_users\\authorized_users\\...             False   \n",
       "2  data\\database\\incoming_users\\authorized_users\\...              True   \n",
       "3  data\\database\\incoming_users\\authorized_users\\...              True   \n",
       "4  data\\database\\incoming_users\\authorized_users\\...              True   \n",
       "\n",
       "   distance  \n",
       "0  0.141782  \n",
       "1  0.111054  \n",
       "2  0.076283  \n",
       "3  0.195721  \n",
       "4  0.179353  "
      ],
      "text/html": [
       "<div>\n",
       "<style scoped>\n",
       "    .dataframe tbody tr th:only-of-type {\n",
       "        vertical-align: middle;\n",
       "    }\n",
       "\n",
       "    .dataframe tbody tr th {\n",
       "        vertical-align: top;\n",
       "    }\n",
       "\n",
       "    .dataframe thead th {\n",
       "        text-align: right;\n",
       "    }\n",
       "</style>\n",
       "<table border=\"1\" class=\"dataframe\">\n",
       "  <thead>\n",
       "    <tr style=\"text-align: right;\">\n",
       "      <th></th>\n",
       "      <th>image_path</th>\n",
       "      <th>is_access_granted</th>\n",
       "      <th>distance</th>\n",
       "    </tr>\n",
       "  </thead>\n",
       "  <tbody>\n",
       "    <tr>\n",
       "      <th>0</th>\n",
       "      <td>data\\database\\incoming_users\\authorized_users\\...</td>\n",
       "      <td>True</td>\n",
       "      <td>0.141782</td>\n",
       "    </tr>\n",
       "    <tr>\n",
       "      <th>1</th>\n",
       "      <td>data\\database\\incoming_users\\authorized_users\\...</td>\n",
       "      <td>False</td>\n",
       "      <td>0.111054</td>\n",
       "    </tr>\n",
       "    <tr>\n",
       "      <th>2</th>\n",
       "      <td>data\\database\\incoming_users\\authorized_users\\...</td>\n",
       "      <td>True</td>\n",
       "      <td>0.076283</td>\n",
       "    </tr>\n",
       "    <tr>\n",
       "      <th>3</th>\n",
       "      <td>data\\database\\incoming_users\\authorized_users\\...</td>\n",
       "      <td>True</td>\n",
       "      <td>0.195721</td>\n",
       "    </tr>\n",
       "    <tr>\n",
       "      <th>4</th>\n",
       "      <td>data\\database\\incoming_users\\authorized_users\\...</td>\n",
       "      <td>True</td>\n",
       "      <td>0.179353</td>\n",
       "    </tr>\n",
       "  </tbody>\n",
       "</table>\n",
       "</div>"
      ]
     },
     "execution_count": 7,
     "metadata": {},
     "output_type": "execute_result"
    }
   ],
   "execution_count": 7
  },
  {
   "metadata": {
    "ExecuteTime": {
     "end_time": "2024-04-08T07:42:36.098908Z",
     "start_time": "2024-04-08T07:42:36.094084Z"
    }
   },
   "cell_type": "code",
   "source": "verification_system.calculate_access_granted_rate(df_users=df_incoming_authorized_users)",
   "id": "e9f851d99d5ccf8e",
   "outputs": [
    {
     "data": {
      "text/plain": [
       "0.9045226130653267"
      ]
     },
     "execution_count": 8,
     "metadata": {},
     "output_type": "execute_result"
    }
   ],
   "execution_count": 8
  },
  {
   "metadata": {},
   "cell_type": "markdown",
   "source": "### Incoming Unauthorized Users",
   "id": "7960ea42258c9bf3"
  },
  {
   "metadata": {
    "ExecuteTime": {
     "end_time": "2024-04-08T07:45:22.661565Z",
     "start_time": "2024-04-08T07:42:37.944207Z"
    }
   },
   "cell_type": "code",
   "source": [
    "df_incoming_unauthorized_users = verification_system.verify_multiple_users(\n",
    "    incoming_users_path=os.path.join(\n",
    "        \"data\", \"database\", \"incoming_users\", \"unauthorized_users\"\n",
    "    ),\n",
    ")"
   ],
   "id": "d29eabb7f6213433",
   "outputs": [],
   "execution_count": 9
  },
  {
   "metadata": {
    "ExecuteTime": {
     "end_time": "2024-04-08T07:45:29.281443Z",
     "start_time": "2024-04-08T07:45:29.270347Z"
    }
   },
   "cell_type": "code",
   "source": "df_incoming_unauthorized_users.head()",
   "id": "73d96c7c55771a8e",
   "outputs": [
    {
     "data": {
      "text/plain": [
       "                                          image_path is_access_granted  \\\n",
       "0  data\\database\\incoming_users\\unauthorized_user...             False   \n",
       "1  data\\database\\incoming_users\\unauthorized_user...             False   \n",
       "2  data\\database\\incoming_users\\unauthorized_user...             False   \n",
       "3  data\\database\\incoming_users\\unauthorized_user...             False   \n",
       "4  data\\database\\incoming_users\\unauthorized_user...             False   \n",
       "\n",
       "   distance  \n",
       "0  0.414499  \n",
       "1  0.422018  \n",
       "2  0.460712  \n",
       "3  0.407267  \n",
       "4  0.410776  "
      ],
      "text/html": [
       "<div>\n",
       "<style scoped>\n",
       "    .dataframe tbody tr th:only-of-type {\n",
       "        vertical-align: middle;\n",
       "    }\n",
       "\n",
       "    .dataframe tbody tr th {\n",
       "        vertical-align: top;\n",
       "    }\n",
       "\n",
       "    .dataframe thead th {\n",
       "        text-align: right;\n",
       "    }\n",
       "</style>\n",
       "<table border=\"1\" class=\"dataframe\">\n",
       "  <thead>\n",
       "    <tr style=\"text-align: right;\">\n",
       "      <th></th>\n",
       "      <th>image_path</th>\n",
       "      <th>is_access_granted</th>\n",
       "      <th>distance</th>\n",
       "    </tr>\n",
       "  </thead>\n",
       "  <tbody>\n",
       "    <tr>\n",
       "      <th>0</th>\n",
       "      <td>data\\database\\incoming_users\\unauthorized_user...</td>\n",
       "      <td>False</td>\n",
       "      <td>0.414499</td>\n",
       "    </tr>\n",
       "    <tr>\n",
       "      <th>1</th>\n",
       "      <td>data\\database\\incoming_users\\unauthorized_user...</td>\n",
       "      <td>False</td>\n",
       "      <td>0.422018</td>\n",
       "    </tr>\n",
       "    <tr>\n",
       "      <th>2</th>\n",
       "      <td>data\\database\\incoming_users\\unauthorized_user...</td>\n",
       "      <td>False</td>\n",
       "      <td>0.460712</td>\n",
       "    </tr>\n",
       "    <tr>\n",
       "      <th>3</th>\n",
       "      <td>data\\database\\incoming_users\\unauthorized_user...</td>\n",
       "      <td>False</td>\n",
       "      <td>0.407267</td>\n",
       "    </tr>\n",
       "    <tr>\n",
       "      <th>4</th>\n",
       "      <td>data\\database\\incoming_users\\unauthorized_user...</td>\n",
       "      <td>False</td>\n",
       "      <td>0.410776</td>\n",
       "    </tr>\n",
       "  </tbody>\n",
       "</table>\n",
       "</div>"
      ]
     },
     "execution_count": 10,
     "metadata": {},
     "output_type": "execute_result"
    }
   ],
   "execution_count": 10
  },
  {
   "metadata": {
    "ExecuteTime": {
     "end_time": "2024-04-08T07:45:33.903398Z",
     "start_time": "2024-04-08T07:45:33.897517Z"
    }
   },
   "cell_type": "code",
   "source": [
    "verification_system.calculate_access_granted_rate(\n",
    "    df_users=df_incoming_unauthorized_users\n",
    ")"
   ],
   "id": "a8db0ce4dd6d3d58",
   "outputs": [
    {
     "data": {
      "text/plain": [
       "0.0"
      ]
     },
     "execution_count": 11,
     "metadata": {},
     "output_type": "execute_result"
    }
   ],
   "execution_count": 11
  },
  {
   "metadata": {},
   "cell_type": "markdown",
   "source": "### Calculate FRR and FRR",
   "id": "f4d735eb64e7cf02"
  },
  {
   "metadata": {
    "ExecuteTime": {
     "end_time": "2024-04-08T07:45:36.077195Z",
     "start_time": "2024-04-08T07:45:36.069844Z"
    }
   },
   "cell_type": "code",
   "source": [
    "far, frr = verification_system.calculate_far_frr(\n",
    "    df_users_authorized=df_incoming_authorized_users,\n",
    "    df_users_unauthorized=df_incoming_unauthorized_users,\n",
    ")\n",
    "print(f\"FAR == {far}, FRR == {frr}\")"
   ],
   "id": "be5f8efa9dd93df9",
   "outputs": [
    {
     "name": "stdout",
     "output_type": "stream",
     "text": [
      "FAR == 0.09547738693467334, FRR == 0.0\n"
     ]
    }
   ],
   "execution_count": 12
  },
  {
   "metadata": {},
   "cell_type": "markdown",
   "source": "### Plot ROC curve",
   "id": "94d6f0f5e5714e99"
  },
  {
   "metadata": {
    "ExecuteTime": {
     "end_time": "2024-04-08T07:45:39.023736Z",
     "start_time": "2024-04-08T07:45:38.830560Z"
    }
   },
   "cell_type": "code",
   "source": [
    "verification_system.draw_ROC_curve(\n",
    "    df_users_authorized=df_incoming_authorized_users,\n",
    "    df_users_unauthorized=df_incoming_unauthorized_users,\n",
    ")"
   ],
   "id": "95b387c183141e76",
   "outputs": [
    {
     "data": {
      "text/plain": [
       "<Figure size 640x480 with 1 Axes>"
      ],
      "image/png": "[encoded data removed]"
     },
     "metadata": {},
     "output_type": "display_data"
    },
    {
     "data": {
      "text/plain": [
       "(214, 0, 19, 180)"
      ]
     },
     "execution_count": 13,
     "metadata": {},
     "output_type": "execute_result"
    }
   ],
   "execution_count": 13
  },
  {
   "metadata": {},
   "cell_type": "code",
   "outputs": [],
   "execution_count": null,
   "source": "",
   "id": "896619f83065a754"
  }
 ],
 "metadata": {
  "kernelspec": {
   "display_name": "Python 3",
   "language": "python",
   "name": "python3"
  },
  "language_info": {
   "codemirror_mode": {
    "name": "ipython",
    "version": 2
   },
   "file_extension": ".py",
   "mimetype": "text/x-python",
   "name": "python",
   "nbconvert_exporter": "python",
   "pygments_lexer": "ipython2",
   "version": "2.7.6"
  }
 },
 "nbformat": 4,
 "nbformat_minor": 5
}
