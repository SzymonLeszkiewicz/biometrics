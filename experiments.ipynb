{
 "cells": [
  {
   "cell_type": "code",
   "execution_count": 1,
   "id": "initial_id",
   "metadata": {
    "ExecuteTime": {
     "end_time": "2024-04-07T00:56:15.881386Z",
     "start_time": "2024-04-07T00:56:09.513503Z"
    }
   },
   "outputs": [],
   "source": [
    "import os\n",
    "from verification_system import VerificationSystem\n",
    "import matplotlib.pyplot as plt"
   ]
  },
  {
   "cell_type": "code",
   "execution_count": 2,
   "id": "4b9a3552a202bae3",
   "metadata": {
    "collapsed": false,
    "ExecuteTime": {
     "end_time": "2024-04-07T00:56:17.295165Z",
     "start_time": "2024-04-07T00:56:15.911698Z"
    }
   },
   "outputs": [
    {
     "name": "stdout",
     "output_type": "stream",
     "text": [
      "24-04-07 02:56:16 - Searching data/database/incoming_users/authorized_users/25/010802.jpg in 2206 length datastore\n",
      "24-04-07 02:56:17 - find function duration 1.3977389335632324 seconds\n"
     ]
    }
   ],
   "source": [
    "verification_system = VerificationSystem(\n",
    "    database_path=os.path.join(\"data\", \"database\"),\n",
    ")"
   ]
  },
  {
   "cell_type": "code",
   "outputs": [],
   "source": [
    "exp = os.listdir(\"data/database/incoming_users\")\n",
    "exp_lum = list(filter(lambda x: \"lum\" in x, exp))\n",
    "exp_psnr = list(filter(lambda x: \"psnr\" in x, exp))\n",
    "res_lum = dict.fromkeys(exp_lum)\n",
    "res_psnr = dict.fromkeys(exp_psnr)"
   ],
   "metadata": {
    "collapsed": false,
    "ExecuteTime": {
     "end_time": "2024-04-07T01:09:39.042569Z",
     "start_time": "2024-04-07T01:09:39.037628Z"
    }
   },
   "id": "a1b38156186ce1b4",
   "execution_count": 21
  },
  {
   "cell_type": "code",
   "execution_count": null,
   "id": "80011e88dd10826a",
   "metadata": {
    "collapsed": false,
    "is_executing": true,
    "ExecuteTime": {
     "start_time": "2024-04-07T01:10:00.764127Z"
    }
   },
   "outputs": [],
   "source": [
    "for in_dir in exp_lum:\n",
    "    in_dir = os.path.join(\"data/database/incoming_users\", in_dir)\n",
    "    try:\n",
    "        df_multi = verification_system.verify_multiple_users(in_dir)\n",
    "        res_lum[in_dir] = verification_system.calculate_access_granted_rate(df_users = df_multi)\n",
    "    except Exception as e:\n",
    "        print(f\"Error: {e}\")\n",
    "        res_lum[in_dir] = 0\n",
    "        continue\n",
    "        "
   ]
  },
  {
   "cell_type": "code",
   "outputs": [],
   "source": [
    "for in_dir in exp_psnr:\n",
    "    in_dir = os.path.join(\"data/database/incoming_users\", in_dir)\n",
    "    try:\n",
    "        df_multi = verification_system.verify_multiple_users(in_dir)\n",
    "        res_psnr[in_dir] = verification_system.calculate_access_granted_rate(df_users = df_multi)\n",
    "    except Exception as e:\n",
    "        print(f\"Error: {e}\")\n",
    "        res_psnr[in_dir] = 0\n",
    "        continue\n"
   ],
   "metadata": {
    "collapsed": false,
    "is_executing": true
   },
   "id": "56be9c33ebf59add"
  },
  {
   "cell_type": "code",
   "outputs": [],
   "source": [
    "plt.bar(res_lum.keys(), res_lum.values())\n",
    "plt.xticks(rotation=90)\n",
    "plt.title(\"Access granted rate for different luminance levels\")\n",
    "plt.xlabel(\"Luminance level\")\n",
    "plt.ylabel(\"Access granted rate\")\n",
    "plt.show()\n"
   ],
   "metadata": {
    "collapsed": false,
    "is_executing": true
   },
   "id": "52091b0b9757f4a2"
  },
  {
   "cell_type": "code",
   "outputs": [],
   "source": [
    "plt.bar(res_psnr.keys(), res_psnr.values())\n",
    "plt.xticks(rotation=90)\n",
    "plt.title(\"Access granted rate for different PSNR levels\")\n",
    "plt.xlabel(\"PSNR level\")\n",
    "plt.ylabel(\"Access granted rate\")\n",
    "plt.show()"
   ],
   "metadata": {
    "collapsed": false,
    "is_executing": true
   },
   "id": "e4dca5d619feffb8"
  },
  {
   "cell_type": "code",
   "outputs": [],
   "source": [],
   "metadata": {
    "collapsed": false
   },
   "id": "5344937c7d0f091e"
  }
 ],
 "metadata": {
  "kernelspec": {
   "display_name": "Python 3 (ipykernel)",
   "language": "python",
   "name": "python3"
  },
  "language_info": {
   "codemirror_mode": {
    "name": "ipython",
    "version": 3
   },
   "file_extension": ".py",
   "mimetype": "text/x-python",
   "name": "python",
   "nbconvert_exporter": "python",
   "pygments_lexer": "ipython3",
   "version": "3.11.5"
  }
 },
 "nbformat": 4,
 "nbformat_minor": 5
}
