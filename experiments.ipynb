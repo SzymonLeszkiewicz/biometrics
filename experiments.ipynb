{
 "cells": [
  {
   "cell_type": "code",
   "id": "initial_id",
   "metadata": {
    "ExecuteTime": {
     "end_time": "2024-04-08T12:29:20.091441Z",
     "start_time": "2024-04-08T12:29:20.087431Z"
    }
   },
   "source": [
    "import os\n",
    "from verification_system import VerificationSystem\n",
    "import matplotlib.pyplot as plt\n",
    "from tqdm.auto import tqdm"
   ],
   "outputs": [],
   "execution_count": 47
  },
  {
   "cell_type": "markdown",
   "source": [
    "# Eksperyment bez fine-tuningu"
   ],
   "metadata": {
    "collapsed": false
   },
   "id": "27166a3e2936148b"
  },
  {
   "cell_type": "code",
   "id": "4b9a3552a202bae3",
   "metadata": {
    "collapsed": false,
    "ExecuteTime": {
     "end_time": "2024-04-08T12:25:19.747121Z",
     "start_time": "2024-04-08T12:25:19.429394Z"
    }
   },
   "source": [
    "verification_system = VerificationSystem(\n",
    "    database_path=os.path.join(\"data\", \"database\"), model_name=\"ArcFace\"\n",
    ")"
   ],
   "outputs": [
    {
     "name": "stdout",
     "output_type": "stream",
     "text": [
      "authorized_users\n",
      "24-04-08 14:25:19 - Searching data\\database\\incoming_users\\authorized_users\\25\\010802.jpg in 1826 length datastore\n",
      "24-04-08 14:25:19 - find function duration 0.3077411651611328 seconds\n"
     ]
    }
   ],
   "execution_count": 39
  },
  {
   "cell_type": "code",
   "source": [
    "exp = os.listdir(\"data/database/incoming_users\")\n",
    "exp_lum = list(filter(lambda x: \"lum\" in x, exp))\n",
    "exp_psnr = list(filter(lambda x: \"psnr\" in x, exp))"
   ],
   "metadata": {
    "collapsed": false,
    "ExecuteTime": {
     "end_time": "2024-04-08T12:25:20.158540Z",
     "start_time": "2024-04-08T12:25:20.154020Z"
    }
   },
   "id": "a1b38156186ce1b4",
   "outputs": [],
   "execution_count": 40
  },
  {
   "cell_type": "code",
   "source": [
    "lumsplit = lambda x: x.split(\"_\")[0] + \" \" + x.split(\"_\")[-2] + \": \" + x.split(\"_\")[-1]\n",
    "psnrsplit = lambda x: x.split(\"_\")[0] + \": \" + x.split(\"_\")[-1]"
   ],
   "metadata": {
    "collapsed": false,
    "ExecuteTime": {
     "end_time": "2024-04-08T12:25:21.012410Z",
     "start_time": "2024-04-08T12:25:21.008711Z"
    }
   },
   "id": "513faee04665fa71",
   "outputs": [],
   "execution_count": 41
  },
  {
   "metadata": {
    "ExecuteTime": {
     "end_time": "2024-04-08T12:25:22.580391Z",
     "start_time": "2024-04-08T12:25:22.577680Z"
    }
   },
   "cell_type": "code",
   "source": [
    "res_lum = {}\n",
    "res_psnr = {}"
   ],
   "id": "a3a9ad7253d54dca",
   "outputs": [],
   "execution_count": 42
  },
  {
   "metadata": {
    "ExecuteTime": {
     "end_time": "2024-04-08T12:25:38.670402Z",
     "start_time": "2024-04-08T12:25:38.666743Z"
    }
   },
   "cell_type": "code",
   "source": [
    "for in_dir in exp_lum:\n",
    "    expkey = lumsplit(in_dir)\n",
    "    print(\"Experimenting with: \", expkey)"
   ],
   "id": "6ec1e4077a1e69a1",
   "outputs": [
    {
     "name": "stdout",
     "output_type": "stream",
     "text": [
      "Experimenting with:  lum quadratic: None\n",
      "Experimenting with:  lum linear: 0.5\n",
      "Experimenting with:  lum linear: 0.6\n",
      "Experimenting with:  lum linear: 0.75\n",
      "Experimenting with:  lum linear: 1.33\n",
      "Experimenting with:  lum linear: 1.5\n",
      "Experimenting with:  lum constant: -100\n",
      "Experimenting with:  lum constant: -20\n",
      "Experimenting with:  lum constant: -10\n",
      "Experimenting with:  lum constant: 30\n",
      "Experimenting with:  lum quadratic: None\n",
      "Experimenting with:  lum linear: 0.5\n",
      "Experimenting with:  lum linear: 0.6\n",
      "Experimenting with:  lum linear: 0.75\n",
      "Experimenting with:  lum linear: 1.33\n",
      "Experimenting with:  lum linear: 1.5\n",
      "Experimenting with:  lum constant: -100\n",
      "Experimenting with:  lum constant: -20\n",
      "Experimenting with:  lum constant: -10\n",
      "Experimenting with:  lum constant: 30\n"
     ]
    }
   ],
   "execution_count": 45
  },
  {
   "cell_type": "code",
   "id": "80011e88dd10826a",
   "metadata": {
    "collapsed": false,
    "jupyter": {
     "is_executing": true
    },
    "ExecuteTime": {
     "start_time": "2024-04-08T12:29:59.415790Z"
    }
   },
   "source": [
    "for index in tqdm(iterable=range(int(len(exp_lum) / 2)), desc=\"Processing Luminance\"):\n",
    "    authorized_users_path = os.path.join(\n",
    "        \"data\", \"database\", \"incoming_users\", exp_lum[index]\n",
    "    )\n",
    "    unauthorized_users_path = os.path.join(\n",
    "        \"data\", \"database\", \"incoming_users\", exp_lum[index + int(len(exp_lum) / 2)]\n",
    "    )\n",
    "    expkey = lumsplit(exp_lum[index])\n",
    "\n",
    "    try:\n",
    "        df_authorized = verification_system.verify_multiple_users(authorized_users_path)\n",
    "        df_unauthorized = verification_system.verify_multiple_users(\n",
    "            unauthorized_users_path\n",
    "        )\n",
    "\n",
    "        false_acceptance_rate, false_rejection_rate = (\n",
    "            verification_system.calculate_far_frr(df_authorized, df_unauthorized)\n",
    "        )\n",
    "        res_lum[expkey] = {\"FAR\": false_acceptance_rate, \"FRR\": false_rejection_rate}\n",
    "    except Exception as e:\n",
    "        print(f\"Error: {e}\")\n",
    "        res_lum[expkey] = {\"FAR\": -1, \"FRR\": -1}\n",
    "        continue"
   ],
   "outputs": [
    {
     "data": {
      "text/plain": [
       "Processing Luminance:   0%|          | 0/10 [00:00<?, ?it/s]"
      ],
      "application/vnd.jupyter.widget-view+json": {
       "version_major": 2,
       "version_minor": 0,
       "model_id": "06b6e92e601842f995e5ba2b7d2447d8"
      }
     },
     "metadata": {},
     "output_type": "display_data"
    }
   ],
   "execution_count": null
  },
  {
   "cell_type": "code",
   "outputs": [],
   "source": [
    "try:\n",
    "    plt.bar(res_lum.keys(), res_lum.values())\n",
    "    plt.xticks(rotation=90)\n",
    "    plt.title(\"Access granted rate for different luminance levels\")\n",
    "    plt.xlabel(\"Luminance level\")\n",
    "    plt.ylabel(\"Access granted rate\")\n",
    "    plt.show()\n",
    "except Exception as e:\n",
    "    print(f\"Error: {e}\")\n",
    "finally:\n",
    "    res_lum = {k: v for k, v in res_lum.items() if v is not None}\n",
    "    plt.bar(res_lum.keys(), res_lum.values())\n",
    "    plt.xticks(rotation=90)\n",
    "    plt.title(\"Access granted rate for different luminance levels\")\n",
    "    plt.xlabel(\"Luminance level\")\n",
    "    plt.ylabel(\"Access granted rate\")\n",
    "    plt.show()"
   ],
   "metadata": {
    "collapsed": false,
    "ExecuteTime": {
     "start_time": "2024-04-07T10:57:11.154476Z"
    }
   },
   "id": "52091b0b9757f4a2",
   "execution_count": null
  },
  {
   "cell_type": "code",
   "outputs": [],
   "source": [
    "for in_dir in exp_psnr:\n",
    "    path = os.path.join(\"data/database/incoming_users\", in_dir)\n",
    "    expkey = psnrsplit(in_dir)\n",
    "    print(\"Experimenting with: \", expkey)\n",
    "    try:\n",
    "        df_multi = verification_system.verify_multiple_users(path)\n",
    "        res_psnr[expkey] = verification_system.calculate_access_granted_rate(\n",
    "            df_users=df_multi\n",
    "        )\n",
    "    except Exception as e:\n",
    "        print(f\"Error: {e}\")\n",
    "        res_psnr[expkey] = -1\n",
    "        continue"
   ],
   "metadata": {
    "collapsed": false,
    "ExecuteTime": {
     "start_time": "2024-04-07T10:57:11.155615Z"
    }
   },
   "id": "56be9c33ebf59add",
   "execution_count": null
  },
  {
   "cell_type": "code",
   "outputs": [],
   "source": [
    "try:\n",
    "    plt.bar(res_psnr.keys(), res_psnr.values())\n",
    "    plt.xticks(rotation=90)\n",
    "    plt.title(\"Access granted rate for different PSNR levels\")\n",
    "    plt.xlabel(\"PSNR level\")\n",
    "    plt.ylabel(\"Access granted rate\")\n",
    "    plt.show()\n",
    "except Exception as e:\n",
    "    print(f\"Error: {e}\")\n",
    "finally:\n",
    "    res_psnr = {k: v for k, v in res_psnr.items() if v is not None}\n",
    "    plt.bar(res_psnr.keys(), res_psnr.values())\n",
    "    plt.xticks(rotation=90)\n",
    "    plt.title(\"Access granted rate for different PSNR levels\")\n",
    "    plt.xlabel(\"PSNR level\")\n",
    "    plt.ylabel(\"Access granted rate\")\n",
    "    plt.show()"
   ],
   "metadata": {
    "collapsed": false,
    "ExecuteTime": {
     "start_time": "2024-04-07T10:57:11.156475Z"
    }
   },
   "id": "e4dca5d619feffb8",
   "execution_count": null
  },
  {
   "cell_type": "markdown",
   "source": [
    "# Eksperyment z fine-tuningu"
   ],
   "metadata": {
    "collapsed": false
   },
   "id": "35ad9a8e75575413"
  },
  {
   "cell_type": "code",
   "outputs": [],
   "source": [
    "# najpierw w utils/exp_database stworzyć foldery na bazy danych z takimi parametrami jakie chcemy fintunować"
   ],
   "metadata": {
    "collapsed": false
   },
   "id": "e2e4435b5896e95d",
   "execution_count": null
  }
 ],
 "metadata": {
  "kernelspec": {
   "display_name": "Python 3 (ipykernel)",
   "language": "python",
   "name": "python3"
  },
  "language_info": {
   "codemirror_mode": {
    "name": "ipython",
    "version": 3
   },
   "file_extension": ".py",
   "mimetype": "text/x-python",
   "name": "python",
   "nbconvert_exporter": "python",
   "pygments_lexer": "ipython3",
   "version": "3.11.5"
  }
 },
 "nbformat": 4,
 "nbformat_minor": 5
}
