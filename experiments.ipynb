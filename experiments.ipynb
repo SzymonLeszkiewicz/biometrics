{
 "cells": [
  {
   "cell_type": "code",
   "id": "initial_id",
   "metadata": {
    "ExecuteTime": {
     "end_time": "2024-04-08T20:13:31.740442Z",
     "start_time": "2024-04-08T20:13:28.175210Z"
    }
   },
   "source": [
    "import json\n",
    "import os\n",
    "\n",
    "import numpy as np\n",
    "from tqdm.auto import tqdm\n",
    "\n",
    "from verification_system import VerificationSystem"
   ],
   "outputs": [
    {
     "name": "stdout",
     "output_type": "stream",
     "text": [
      "WARNING:tensorflow:From C:\\Virtual_Environments\\venv_BIO_3.11\\Lib\\site-packages\\tf_keras\\src\\losses.py:2976: The name tf.losses.sparse_softmax_cross_entropy is deprecated. Please use tf.compat.v1.losses.sparse_softmax_cross_entropy instead.\n",
      "\n"
     ]
    }
   ],
   "execution_count": 1
  },
  {
   "cell_type": "markdown",
   "source": "# Experiments without Fine-Tuning",
   "metadata": {
    "collapsed": false
   },
   "id": "27166a3e2936148b"
  },
  {
   "cell_type": "code",
   "id": "4b9a3552a202bae3",
   "metadata": {
    "collapsed": false,
    "ExecuteTime": {
     "end_time": "2024-04-08T17:58:26.317721Z",
     "start_time": "2024-04-08T17:58:24.732388Z"
    }
   },
   "source": "verification_system = VerificationSystem(database_path=os.path.join(\"data\", \"database\"))",
   "outputs": [
    {
     "name": "stdout",
     "output_type": "stream",
     "text": [
      "24-04-08 19:58:25 - Searching data\\database\\incoming_users\\authorized_users\\1\\000023.jpg in 1826 length datastore\n",
      "24-04-08 19:58:26 - find function duration 1.5776190757751465 seconds\n"
     ]
    }
   ],
   "execution_count": 2
  },
  {
   "cell_type": "code",
   "source": [
    "experiment_directories = os.listdir(os.path.join(\"data\", \"database\", \"incoming_users\"))\n",
    "experiment_luminance_directories = list(\n",
    "    filter(lambda x: \"lum\" in x, experiment_directories)\n",
    ")\n",
    "experiment_psnr_directories = list(\n",
    "    filter(lambda x: \"psnr\" in x, experiment_directories)\n",
    ")"
   ],
   "metadata": {
    "collapsed": false,
    "ExecuteTime": {
     "end_time": "2024-04-08T20:13:31.744955Z",
     "start_time": "2024-04-08T20:13:31.741449Z"
    }
   },
   "id": "a1b38156186ce1b4",
   "outputs": [],
   "execution_count": 2
  },
  {
   "metadata": {
    "ExecuteTime": {
     "end_time": "2024-04-08T17:58:26.325716Z",
     "start_time": "2024-04-08T17:58:26.320925Z"
    }
   },
   "cell_type": "code",
   "source": [
    "dict_results_luminance = {}\n",
    "dict_results_psnr = {}"
   ],
   "id": "a3a9ad7253d54dca",
   "outputs": [],
   "execution_count": 4
  },
  {
   "metadata": {},
   "cell_type": "markdown",
   "source": "## Luminance",
   "id": "1fb5a65a3d878f98"
  },
  {
   "cell_type": "code",
   "id": "80011e88dd10826a",
   "metadata": {
    "collapsed": false
   },
   "source": [
    "for index in tqdm(\n",
    "    iterable=range(int(len(experiment_luminance_directories) / 2)),\n",
    "    desc=\"Processing Luminance\",\n",
    "):\n",
    "    authorized_users_path = os.path.join(\n",
    "        \"data\", \"database\", \"incoming_users\", experiment_luminance_directories[index]\n",
    "    )\n",
    "    unauthorized_users_path = os.path.join(\n",
    "        \"data\",\n",
    "        \"database\",\n",
    "        \"incoming_users\",\n",
    "        experiment_luminance_directories[\n",
    "            index + int(len(experiment_luminance_directories) / 2)\n",
    "        ],\n",
    "    )\n",
    "    experiment_dict_key = experiment_luminance_directories[index].replace(\n",
    "        \"_authorized_users\", \"\"\n",
    "    )\n",
    "\n",
    "    try:\n",
    "        df_authorized = verification_system.verify_multiple_users(authorized_users_path)\n",
    "        df_unauthorized = verification_system.verify_multiple_users(\n",
    "            unauthorized_users_path\n",
    "        )\n",
    "\n",
    "        false_acceptance_rate, false_rejection_rate = (\n",
    "            verification_system.calculate_far_frr(df_authorized, df_unauthorized)\n",
    "        )\n",
    "        true_negative, false_positive, false_negative, true_positive = (\n",
    "            verification_system.calculate_ROC_curve(\n",
    "                df_authorized,\n",
    "                df_unauthorized,\n",
    "                os.path.join(\n",
    "                    \"data\", \"results\", \"roc_curve\", experiment_dict_key + \".png\"\n",
    "                ),\n",
    "            )\n",
    "        )\n",
    "        accuracy = (true_positive + true_negative) / (\n",
    "            true_positive + true_negative + false_positive + false_negative\n",
    "        )\n",
    "        access_granted_rate = verification_system.calculate_access_granted_rate(\n",
    "            df_authorized\n",
    "        )\n",
    "\n",
    "        dict_results_luminance[experiment_dict_key] = {\n",
    "            \"FAR\": np.round(false_acceptance_rate, 3),\n",
    "            \"FRR\": np.round(false_rejection_rate, 3),\n",
    "            \"TN\": true_negative,\n",
    "            \"FP\": false_positive,\n",
    "            \"FN\": false_negative,\n",
    "            \"TP\": true_positive,\n",
    "            \"ACC\": np.round(accuracy, 3),\n",
    "            \"AGR\": np.round(access_granted_rate, 3),\n",
    "        }\n",
    "    except Exception as e:\n",
    "        print(f\"Error: {e}\")\n",
    "        dict_results_luminance[experiment_dict_key] = {\n",
    "            \"FAR\": -1,\n",
    "            \"FRR\": -1,\n",
    "            \"TN\": -1,\n",
    "            \"FP\": -1,\n",
    "            \"FN\": -1,\n",
    "            \"TP\": -1,\n",
    "            \"ACC\": -1,\n",
    "            \"AGR\": -1,\n",
    "        }\n",
    "        continue"
   ],
   "outputs": [],
   "execution_count": null
  },
  {
   "metadata": {
    "ExecuteTime": {
     "end_time": "2024-04-08T18:25:10.993265Z",
     "start_time": "2024-04-08T18:25:10.990511Z"
    }
   },
   "cell_type": "code",
   "source": [
    "# convert int64 values to native Python integers\n",
    "for key, value in dict_results_luminance.items():\n",
    "    dict_results_luminance[key] = {\n",
    "        k: int(v) if isinstance(v, np.int64) else v for k, v in value.items()\n",
    "    }"
   ],
   "id": "db1140a3df601e14",
   "outputs": [],
   "execution_count": 13
  },
  {
   "metadata": {
    "ExecuteTime": {
     "end_time": "2024-04-08T18:25:11.856414Z",
     "start_time": "2024-04-08T18:25:11.852112Z"
    }
   },
   "cell_type": "code",
   "source": [
    "with open(\n",
    "    os.path.join(\"data\", \"results\", \"luminance_experiments.json\"), \"w\"\n",
    ") as json_file:\n",
    "    json.dump(dict_results_luminance, json_file, indent=4)"
   ],
   "id": "9fae8e2676e6ba48",
   "outputs": [],
   "execution_count": 14
  },
  {
   "metadata": {},
   "cell_type": "markdown",
   "source": "## PSNR",
   "id": "db00c400f5163122"
  },
  {
   "cell_type": "code",
   "source": [
    "for index in tqdm(\n",
    "    iterable=range(int(len(experiment_psnr_directories) / 2)),\n",
    "    desc=\"Processing PSNR\",\n",
    "):\n",
    "    authorized_users_path = os.path.join(\n",
    "        \"data\", \"database\", \"incoming_users\", experiment_psnr_directories[index]\n",
    "    )\n",
    "    unauthorized_users_path = os.path.join(\n",
    "        \"data\",\n",
    "        \"database\",\n",
    "        \"incoming_users\",\n",
    "        experiment_psnr_directories[index + int(len(experiment_psnr_directories) / 2)],\n",
    "    )\n",
    "    experiment_dict_key = experiment_psnr_directories[index].replace(\n",
    "        \"_authorized_users\", \"\"\n",
    "    )\n",
    "\n",
    "    try:\n",
    "        df_authorized = verification_system.verify_multiple_users(authorized_users_path)\n",
    "        df_unauthorized = verification_system.verify_multiple_users(\n",
    "            unauthorized_users_path\n",
    "        )\n",
    "\n",
    "        false_acceptance_rate, false_rejection_rate = (\n",
    "            verification_system.calculate_far_frr(df_authorized, df_unauthorized)\n",
    "        )\n",
    "        true_negative, false_positive, false_negative, true_positive = (\n",
    "            verification_system.calculate_ROC_curve(\n",
    "                df_authorized,\n",
    "                df_unauthorized,\n",
    "                os.path.join(\n",
    "                    \"data\", \"results\", \"roc_curve\", experiment_dict_key + \".png\"\n",
    "                ),\n",
    "            )\n",
    "        )\n",
    "        accuracy = (true_positive + true_negative) / (\n",
    "            true_positive + true_negative + false_positive + false_negative\n",
    "        )\n",
    "        access_granted_rate = verification_system.calculate_access_granted_rate(\n",
    "            df_authorized\n",
    "        )\n",
    "\n",
    "        dict_results_psnr[experiment_dict_key] = {\n",
    "            \"FAR\": np.round(false_acceptance_rate, 3),\n",
    "            \"FRR\": np.round(false_rejection_rate, 3),\n",
    "            \"TN\": true_negative,\n",
    "            \"FP\": false_positive,\n",
    "            \"FN\": false_negative,\n",
    "            \"TP\": true_positive,\n",
    "            \"ACC\": np.round(accuracy, 3),\n",
    "            \"AGR\": np.round(access_granted_rate, 3),\n",
    "        }\n",
    "    except Exception as e:\n",
    "        print(f\"Error: {e}\")\n",
    "        dict_results_psnr[experiment_dict_key] = {\n",
    "            \"FAR\": -1,\n",
    "            \"FRR\": -1,\n",
    "            \"TN\": -1,\n",
    "            \"FP\": -1,\n",
    "            \"FN\": -1,\n",
    "            \"TP\": -1,\n",
    "            \"ACC\": -1,\n",
    "            \"AGR\": -1,\n",
    "        }\n",
    "        continue"
   ],
   "metadata": {
    "collapsed": false
   },
   "id": "56be9c33ebf59add",
   "outputs": [],
   "execution_count": null
  },
  {
   "metadata": {
    "ExecuteTime": {
     "end_time": "2024-04-08T18:37:07.379656Z",
     "start_time": "2024-04-08T18:37:07.376547Z"
    }
   },
   "cell_type": "code",
   "source": [
    "# convert int64 values to native Python integers\n",
    "for key, value in dict_results_psnr.items():\n",
    "    dict_results_psnr[key] = {\n",
    "        k: int(v) if isinstance(v, np.int64) else v for k, v in value.items()\n",
    "    }"
   ],
   "id": "809cf04fdd0b273e",
   "outputs": [],
   "execution_count": 16
  },
  {
   "metadata": {
    "ExecuteTime": {
     "end_time": "2024-04-08T18:37:07.385162Z",
     "start_time": "2024-04-08T18:37:07.379656Z"
    }
   },
   "cell_type": "code",
   "source": [
    "with open(os.path.join(\"data\", \"results\", \"psnr_experiments.json\"), \"w\") as json_file:\n",
    "    json.dump(dict_results_psnr, json_file, indent=4)"
   ],
   "id": "32393802be526b5b",
   "outputs": [],
   "execution_count": 17
  },
  {
   "cell_type": "markdown",
   "source": "# Experiments with Fine-Tuning",
   "metadata": {
    "collapsed": false
   },
   "id": "35ad9a8e75575413"
  },
  {
   "metadata": {},
   "cell_type": "markdown",
   "source": "## Luminance Linear 1.5",
   "id": "c6f4758df261e16"
  },
  {
   "metadata": {
    "ExecuteTime": {
     "end_time": "2024-04-08T19:31:58.699647Z",
     "start_time": "2024-04-08T19:31:58.302562Z"
    }
   },
   "cell_type": "code",
   "source": [
    "verification_system = VerificationSystem(\n",
    "    database_path=os.path.join(\"data\", \"database\"),\n",
    "    destination=\"lum_fine_authorized_users_linear_1.5\",\n",
    ")"
   ],
   "id": "5158e8267a9b51bd",
   "outputs": [
    {
     "name": "stdout",
     "output_type": "stream",
     "text": [
      "24-04-08 21:31:58 - Searching data\\database\\incoming_users\\authorized_users\\1\\000023.jpg in 3653 length datastore\n",
      "24-04-08 21:31:58 - find function duration 0.38701438903808594 seconds\n"
     ]
    }
   ],
   "execution_count": 12
  },
  {
   "metadata": {
    "ExecuteTime": {
     "end_time": "2024-04-08T19:32:30.776963Z",
     "start_time": "2024-04-08T19:32:30.774097Z"
    }
   },
   "cell_type": "code",
   "source": "dict_results_fine_luminance_linear = {}",
   "id": "7f8ec4231faf301b",
   "outputs": [],
   "execution_count": 13
  },
  {
   "metadata": {},
   "cell_type": "code",
   "source": [
    "for index in tqdm(\n",
    "    iterable=range(int(len(experiment_luminance_directories) / 2)),\n",
    "    desc=\"Processing Luminance\",\n",
    "):\n",
    "    authorized_users_path = os.path.join(\n",
    "        \"data\", \"database\", \"incoming_users\", experiment_luminance_directories[index]\n",
    "    )\n",
    "    unauthorized_users_path = os.path.join(\n",
    "        \"data\",\n",
    "        \"database\",\n",
    "        \"incoming_users\",\n",
    "        experiment_luminance_directories[\n",
    "            index + int(len(experiment_luminance_directories) / 2)\n",
    "        ],\n",
    "    )\n",
    "    experiment_dict_key = experiment_luminance_directories[index].replace(\n",
    "        \"_authorized_users\", \"\"\n",
    "    )\n",
    "\n",
    "    try:\n",
    "        df_authorized = verification_system.verify_multiple_users(authorized_users_path)\n",
    "        df_unauthorized = verification_system.verify_multiple_users(\n",
    "            unauthorized_users_path\n",
    "        )\n",
    "\n",
    "        false_acceptance_rate, false_rejection_rate = (\n",
    "            verification_system.calculate_far_frr(df_authorized, df_unauthorized)\n",
    "        )\n",
    "        true_negative, false_positive, false_negative, true_positive = (\n",
    "            verification_system.calculate_ROC_curve(\n",
    "                df_authorized,\n",
    "                df_unauthorized,\n",
    "                os.path.join(\n",
    "                    \"data\",\n",
    "                    \"results\",\n",
    "                    \"roc_curve_fine_luminance_linear\",\n",
    "                    experiment_dict_key + \".png\",\n",
    "                ),\n",
    "            )\n",
    "        )\n",
    "        accuracy = (true_positive + true_negative) / (\n",
    "            true_positive + true_negative + false_positive + false_negative\n",
    "        )\n",
    "        access_granted_rate = verification_system.calculate_access_granted_rate(\n",
    "            df_authorized\n",
    "        )\n",
    "\n",
    "        dict_results_fine_luminance_linear[experiment_dict_key] = {\n",
    "            \"FAR\": np.round(false_acceptance_rate, 3),\n",
    "            \"FRR\": np.round(false_rejection_rate, 3),\n",
    "            \"TN\": true_negative,\n",
    "            \"FP\": false_positive,\n",
    "            \"FN\": false_negative,\n",
    "            \"TP\": true_positive,\n",
    "            \"ACC\": np.round(accuracy, 3),\n",
    "            \"AGR\": np.round(access_granted_rate, 3),\n",
    "        }\n",
    "    except Exception as e:\n",
    "        print(f\"Error: {e}\")\n",
    "        dict_results_fine_luminance_linear[experiment_dict_key] = {\n",
    "            \"FAR\": -1,\n",
    "            \"FRR\": -1,\n",
    "            \"TN\": -1,\n",
    "            \"FP\": -1,\n",
    "            \"FN\": -1,\n",
    "            \"TP\": -1,\n",
    "            \"ACC\": -1,\n",
    "            \"AGR\": -1,\n",
    "        }\n",
    "        continue"
   ],
   "id": "ae0f73ba7c0c9342",
   "outputs": [],
   "execution_count": null
  },
  {
   "metadata": {},
   "cell_type": "code",
   "source": [
    "# convert int64 values to native Python integers\n",
    "for key, value in dict_results_fine_luminance_linear.items():\n",
    "    dict_results_fine_luminance_linear[key] = {\n",
    "        k: int(v) if isinstance(v, np.int64) else v for k, v in value.items()\n",
    "    }"
   ],
   "id": "7323adcb0e28495a",
   "outputs": [],
   "execution_count": 15
  },
  {
   "metadata": {},
   "cell_type": "code",
   "source": [
    "with open(\n",
    "    os.path.join(\"data\", \"results\", \"fine_luminance_linear_experiments.json\"), \"w\"\n",
    ") as json_file:\n",
    "    json.dump(dict_results_fine_luminance_linear, json_file, indent=4)"
   ],
   "id": "b671fcf49faea8e",
   "outputs": [],
   "execution_count": 16
  },
  {
   "metadata": {},
   "cell_type": "markdown",
   "source": "## PSNR 10",
   "id": "61d0ca70d37ffcba"
  },
  {
   "cell_type": "code",
   "source": [
    "verification_system = VerificationSystem(\n",
    "    database_path=os.path.join(\"data\", \"database\"),\n",
    "    destination=\"gauss_fine_authorized_users_psnr_10\",\n",
    ")"
   ],
   "metadata": {
    "collapsed": false,
    "ExecuteTime": {
     "end_time": "2024-04-08T20:13:46.267893Z",
     "start_time": "2024-04-08T20:13:44.527225Z"
    }
   },
   "id": "e2e4435b5896e95d",
   "outputs": [
    {
     "name": "stdout",
     "output_type": "stream",
     "text": [
      "24-04-08 22:13:45 - Searching data\\database\\incoming_users\\authorized_users\\1\\000023.jpg in 3645 length datastore\n",
      "24-04-08 22:13:46 - find function duration 1.7300794124603271 seconds\n"
     ]
    }
   ],
   "execution_count": 3
  },
  {
   "metadata": {
    "ExecuteTime": {
     "end_time": "2024-04-08T20:13:46.271024Z",
     "start_time": "2024-04-08T20:13:46.267893Z"
    }
   },
   "cell_type": "code",
   "source": "dict_results_fine_psnr_10 = {}",
   "id": "133fb7a34ceed837",
   "outputs": [],
   "execution_count": 4
  },
  {
   "metadata": {},
   "cell_type": "code",
   "source": [
    "for index in tqdm(\n",
    "    iterable=range(int(len(experiment_psnr_directories) / 2)),\n",
    "    desc=\"Processing PSNR\",\n",
    "):\n",
    "    authorized_users_path = os.path.join(\n",
    "        \"data\", \"database\", \"incoming_users\", experiment_psnr_directories[index]\n",
    "    )\n",
    "    unauthorized_users_path = os.path.join(\n",
    "        \"data\",\n",
    "        \"database\",\n",
    "        \"incoming_users\",\n",
    "        experiment_psnr_directories[index + int(len(experiment_psnr_directories) / 2)],\n",
    "    )\n",
    "    experiment_dict_key = experiment_psnr_directories[index].replace(\n",
    "        \"_authorized_users\", \"\"\n",
    "    )\n",
    "\n",
    "    try:\n",
    "        df_authorized = verification_system.verify_multiple_users(authorized_users_path)\n",
    "        df_unauthorized = verification_system.verify_multiple_users(\n",
    "            unauthorized_users_path\n",
    "        )\n",
    "\n",
    "        false_acceptance_rate, false_rejection_rate = (\n",
    "            verification_system.calculate_far_frr(df_authorized, df_unauthorized)\n",
    "        )\n",
    "        true_negative, false_positive, false_negative, true_positive = (\n",
    "            verification_system.calculate_ROC_curve(\n",
    "                df_authorized,\n",
    "                df_unauthorized,\n",
    "                os.path.join(\n",
    "                    \"data\",\n",
    "                    \"results\",\n",
    "                    \"roc_curve_fine_psnr_10\",\n",
    "                    experiment_dict_key + \".png\",\n",
    "                ),\n",
    "            )\n",
    "        )\n",
    "        accuracy = (true_positive + true_negative) / (\n",
    "            true_positive + true_negative + false_positive + false_negative\n",
    "        )\n",
    "        access_granted_rate = verification_system.calculate_access_granted_rate(\n",
    "            df_authorized\n",
    "        )\n",
    "\n",
    "        dict_results_fine_psnr_10[experiment_dict_key] = {\n",
    "            \"FAR\": np.round(false_acceptance_rate, 3),\n",
    "            \"FRR\": np.round(false_rejection_rate, 3),\n",
    "            \"TN\": true_negative,\n",
    "            \"FP\": false_positive,\n",
    "            \"FN\": false_negative,\n",
    "            \"TP\": true_positive,\n",
    "            \"ACC\": np.round(accuracy, 3),\n",
    "            \"AGR\": np.round(access_granted_rate, 3),\n",
    "        }\n",
    "    except Exception as e:\n",
    "        print(f\"Error: {e}\")\n",
    "        dict_results_fine_psnr_10[experiment_dict_key] = {\n",
    "            \"FAR\": -1,\n",
    "            \"FRR\": -1,\n",
    "            \"TN\": -1,\n",
    "            \"FP\": -1,\n",
    "            \"FN\": -1,\n",
    "            \"TP\": -1,\n",
    "            \"ACC\": -1,\n",
    "            \"AGR\": -1,\n",
    "        }\n",
    "        continue"
   ],
   "id": "bb4735d4872aec0a",
   "outputs": [],
   "execution_count": null
  },
  {
   "metadata": {
    "ExecuteTime": {
     "end_time": "2024-04-08T20:27:37.805455Z",
     "start_time": "2024-04-08T20:27:37.803063Z"
    }
   },
   "cell_type": "code",
   "source": [
    "# convert int64 values to native Python integers\n",
    "for key, value in dict_results_fine_psnr_10.items():\n",
    "    dict_results_fine_psnr_10[key] = {\n",
    "        k: int(v) if isinstance(v, np.int64) else v for k, v in value.items()\n",
    "    }"
   ],
   "id": "cb140fd36ec09c2c",
   "outputs": [],
   "execution_count": 6
  },
  {
   "metadata": {
    "ExecuteTime": {
     "end_time": "2024-04-08T20:27:37.810976Z",
     "start_time": "2024-04-08T20:27:37.805455Z"
    }
   },
   "cell_type": "code",
   "source": [
    "with open(\n",
    "    os.path.join(\"data\", \"results\", \"fine_psnr_10_experiments.json\"), \"w\"\n",
    ") as json_file:\n",
    "    json.dump(dict_results_fine_psnr_10, json_file, indent=4)"
   ],
   "id": "118433f73794ce5c",
   "outputs": [],
   "execution_count": 7
  }
 ],
 "metadata": {
  "kernelspec": {
   "display_name": "Python 3 (ipykernel)",
   "language": "python",
   "name": "python3"
  },
  "language_info": {
   "codemirror_mode": {
    "name": "ipython",
    "version": 3
   },
   "file_extension": ".py",
   "mimetype": "text/x-python",
   "name": "python",
   "nbconvert_exporter": "python",
   "pygments_lexer": "ipython3",
   "version": "3.11.5"
  }
 },
 "nbformat": 4,
 "nbformat_minor": 5
}
